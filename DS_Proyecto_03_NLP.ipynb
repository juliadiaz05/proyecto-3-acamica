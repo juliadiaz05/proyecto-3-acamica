{
 "cells": [
  {
   "cell_type": "markdown",
   "metadata": {
    "id": "2GRQnxMzISE_"
   },
   "source": [
    "# Proyecto 03 - Procesamiento del Lenguaje Natural\n",
    "\n",
    "## Dataset: The Multilingual Amazon Reviews Corpus\n",
    "\n",
    "**Recuerda descargar el dataset de [aquí](https://github.com/kang205/SASRec). Es un archivo .zip que contiene tres documentos. Más información sobre el dataset [aquí](https://registry.opendata.aws/amazon-reviews-ml/). Es importante que tengas en cuenta la [licencia](https://docs.opendata.aws/amazon-reviews-ml/license.txt) de este dataset.**\n",
    "\n",
    "### Exploración de datos y Procesamiento del Lenguaje Natural\n",
    "\n",
    "Dedícale un buen tiempo a hacer un Análisis Exploratorio de Datos. Considera que hasta que no hayas aplicado las herramientas de Procesamiento del Lenguaje Natural vistas, será difícil completar este análisis. Elige preguntas que creas que puedas responder con este dataset. Por ejemplo, ¿qué palabras están asociadas a calificaciones positivas y qué palabras a calificaciones negativas?\n",
    "\n",
    "### Machine Learning\n",
    "\n",
    "Implementa un modelo que, dada la crítica de un producto, asigne la cantidad de estrellas correspondiente. **Para pensar**: ¿es un problema de Clasificación o de Regresión?\n",
    "\n",
    "1. Haz todas las transformaciones de datos que consideres necesarias. Justifica.\n",
    "1. Evalúa de forma apropiada sus resultados. Justifica la métrica elegida.\n",
    "1. Elige un modelo benchmark y compara tus resultados con este modelo.\n",
    "1. Optimiza los hiperparámetros de tu modelo.\n",
    "1. Intenta responder la pregunta: ¿Qué información está usando el modelo para predecir?\n",
    "\n",
    "**Recomendación:** si no te resulta conveniente trabajar en español con NLTK, te recomendamos que explores la librería [spaCy](https://spacy.io/).\n",
    "\n",
    "### Para pensar, investigar y, opcionalmente, implementar\n",
    "1. ¿Valdrá la pena convertir el problema de Machine Learning en un problema binario? Es decir, asignar únicamente las etiquetas Positiva y Negativa a cada crítica y hacer un modelo que, en lugar de predecir las estrellas, prediga esa etiqueta. Pensar en qué situación puede ser útil. ¿Esperas que el desempeño sea mejor o peor?\n",
    "1. ¿Hay algo que te gustaría investigar o probar?\n",
    "\n",
    "### **¡Tómate tiempo para investigar y leer mucho!**"
   ]
  },
  {
   "cell_type": "code",
   "execution_count": 1,
   "metadata": {
    "id": "x1GFwraSISFB"
   },
   "outputs": [],
   "source": [
    "#Importo las librerias con las que voy a trabajar\n",
    "import numpy as np\n",
    "import pandas as pd\n",
    "import matplotlib.pyplot as plt\n",
    "import seaborn as sns\n",
    "sns.set()\n",
    "import spacy\n",
    "from spacy import displacy\n",
    "from spacy.pipeline import EntityRuler\n",
    "from spacy.lang.es.examples import sentences\n",
    "from spacy.lang.es.stop_words import STOP_WORDS\n",
    "from sklearn.feature_extraction.text import TfidfVectorizer\n",
    "from sklearn.multiclass import OneVsOneClassifier\n",
    "from sklearn.svm import LinearSVC\n",
    "import string\n",
    "from sklearn.metrics import classification_report\n",
    "from scipy import sparse\n",
    "from sklearn.ensemble import RandomForestClassifier\n",
    "from sklearn.metrics import accuracy_score"
   ]
  },
  {
   "cell_type": "markdown",
   "metadata": {},
   "source": [
    "**Teniendo en cuenta que los Datasets son de gran tamaño y tardan mucho en cargar, voy a usar el Dataset DEV para la demostracion de todas las transformaciones que hay que realizar y luego voy a importar los DS TRAIN Y TEST en formato CSV con las mismas ya realizadas**\n",
    "\n",
    "**En el poyecto estan incluidos 3 dataset. DEV / TRAIN /TEST**\n",
    "**Como algunos DS contienen gran cantidad de datos y demoran en cargarse. voy a realizar el paso a paso del análisis exploratorio sobre DEV y luego voy a importar TRAIN Y TEST ya transformados en formato CSV para su mejor carga**"
   ]
  },
  {
   "cell_type": "markdown",
   "metadata": {},
   "source": [
    "## Dataset DEV ##"
   ]
  },
  {
   "cell_type": "code",
   "execution_count": 2,
   "metadata": {},
   "outputs": [
    {
     "data": {
      "text/html": [
       "<div>\n",
       "<style scoped>\n",
       "    .dataframe tbody tr th:only-of-type {\n",
       "        vertical-align: middle;\n",
       "    }\n",
       "\n",
       "    .dataframe tbody tr th {\n",
       "        vertical-align: top;\n",
       "    }\n",
       "\n",
       "    .dataframe thead th {\n",
       "        text-align: right;\n",
       "    }\n",
       "</style>\n",
       "<table border=\"1\" class=\"dataframe\">\n",
       "  <thead>\n",
       "    <tr style=\"text-align: right;\">\n",
       "      <th></th>\n",
       "      <th>review_id</th>\n",
       "      <th>product_id</th>\n",
       "      <th>reviewer_id</th>\n",
       "      <th>stars</th>\n",
       "      <th>review_body</th>\n",
       "      <th>review_title</th>\n",
       "      <th>language</th>\n",
       "      <th>product_category</th>\n",
       "    </tr>\n",
       "  </thead>\n",
       "  <tbody>\n",
       "    <tr>\n",
       "      <th>0</th>\n",
       "      <td>es_0417480</td>\n",
       "      <td>product_es_0873923</td>\n",
       "      <td>reviewer_es_0672978</td>\n",
       "      <td>1</td>\n",
       "      <td>Malisimo, muy grande demasiado aparatoso y mal...</td>\n",
       "      <td>Mala compra</td>\n",
       "      <td>es</td>\n",
       "      <td>wireless</td>\n",
       "    </tr>\n",
       "    <tr>\n",
       "      <th>1</th>\n",
       "      <td>es_0180432</td>\n",
       "      <td>product_es_0713146</td>\n",
       "      <td>reviewer_es_0100858</td>\n",
       "      <td>1</td>\n",
       "      <td>No he recibido el pedido no la devolución</td>\n",
       "      <td>No lo he recibido</td>\n",
       "      <td>es</td>\n",
       "      <td>apparel</td>\n",
       "    </tr>\n",
       "    <tr>\n",
       "      <th>2</th>\n",
       "      <td>es_0144850</td>\n",
       "      <td>product_es_0356874</td>\n",
       "      <td>reviewer_es_0486447</td>\n",
       "      <td>1</td>\n",
       "      <td>Tengo que buscar otro sistema, este no funcion...</td>\n",
       "      <td>Que no aprieta bien en el manillar</td>\n",
       "      <td>es</td>\n",
       "      <td>sports</td>\n",
       "    </tr>\n",
       "    <tr>\n",
       "      <th>3</th>\n",
       "      <td>es_0339629</td>\n",
       "      <td>product_es_0939832</td>\n",
       "      <td>reviewer_es_0894703</td>\n",
       "      <td>1</td>\n",
       "      <td>Utilicé las brocas de menor diámetro y se me d...</td>\n",
       "      <td>Brocas de mantequilla</td>\n",
       "      <td>es</td>\n",
       "      <td>home_improvement</td>\n",
       "    </tr>\n",
       "    <tr>\n",
       "      <th>4</th>\n",
       "      <td>es_0858362</td>\n",
       "      <td>product_es_0489066</td>\n",
       "      <td>reviewer_es_0887663</td>\n",
       "      <td>1</td>\n",
       "      <td>No me gusta su olor a viejo y aspecto malo</td>\n",
       "      <td>No me gusta</td>\n",
       "      <td>es</td>\n",
       "      <td>beauty</td>\n",
       "    </tr>\n",
       "  </tbody>\n",
       "</table>\n",
       "</div>"
      ],
      "text/plain": [
       "    review_id          product_id          reviewer_id  stars  \\\n",
       "0  es_0417480  product_es_0873923  reviewer_es_0672978      1   \n",
       "1  es_0180432  product_es_0713146  reviewer_es_0100858      1   \n",
       "2  es_0144850  product_es_0356874  reviewer_es_0486447      1   \n",
       "3  es_0339629  product_es_0939832  reviewer_es_0894703      1   \n",
       "4  es_0858362  product_es_0489066  reviewer_es_0887663      1   \n",
       "\n",
       "                                         review_body  \\\n",
       "0  Malisimo, muy grande demasiado aparatoso y mal...   \n",
       "1          No he recibido el pedido no la devolución   \n",
       "2  Tengo que buscar otro sistema, este no funcion...   \n",
       "3  Utilicé las brocas de menor diámetro y se me d...   \n",
       "4         No me gusta su olor a viejo y aspecto malo   \n",
       "\n",
       "                         review_title language  product_category  \n",
       "0                         Mala compra       es          wireless  \n",
       "1                   No lo he recibido       es           apparel  \n",
       "2  Que no aprieta bien en el manillar       es            sports  \n",
       "3               Brocas de mantequilla       es  home_improvement  \n",
       "4                         No me gusta       es            beauty  "
      ]
     },
     "execution_count": 2,
     "metadata": {},
     "output_type": "execute_result"
    }
   ],
   "source": [
    "dev = pd.read_json('dataset_es_dev.json', lines = True)\n",
    "dev.head()"
   ]
  },
  {
   "cell_type": "code",
   "execution_count": 3,
   "metadata": {},
   "outputs": [
    {
     "data": {
      "text/plain": [
       "(5000, 8)"
      ]
     },
     "execution_count": 3,
     "metadata": {},
     "output_type": "execute_result"
    }
   ],
   "source": [
    "dev.shape"
   ]
  },
  {
   "cell_type": "code",
   "execution_count": 4,
   "metadata": {},
   "outputs": [
    {
     "data": {
      "text/plain": [
       "(5000, 8)"
      ]
     },
     "execution_count": 4,
     "metadata": {},
     "output_type": "execute_result"
    }
   ],
   "source": [
    "dev.drop_duplicates(inplace = True) #no hay datos duplicados ni faltantes\n",
    "dev.shape"
   ]
  },
  {
   "cell_type": "code",
   "execution_count": 5,
   "metadata": {},
   "outputs": [
    {
     "data": {
      "text/plain": [
       "review_id           0\n",
       "product_id          0\n",
       "reviewer_id         0\n",
       "stars               0\n",
       "review_body         0\n",
       "review_title        0\n",
       "language            0\n",
       "product_category    0\n",
       "dtype: int64"
      ]
     },
     "execution_count": 5,
     "metadata": {},
     "output_type": "execute_result"
    }
   ],
   "source": [
    "dev.isna().sum()"
   ]
  },
  {
   "cell_type": "code",
   "execution_count": 6,
   "metadata": {},
   "outputs": [
    {
     "data": {
      "text/plain": [
       "es    5000\n",
       "Name: language, dtype: int64"
      ]
     },
     "execution_count": 6,
     "metadata": {},
     "output_type": "execute_result"
    }
   ],
   "source": [
    "dev.language.value_counts() #solo reseñas en español"
   ]
  },
  {
   "cell_type": "code",
   "execution_count": 7,
   "metadata": {},
   "outputs": [
    {
     "data": {
      "text/plain": [
       "(5000,)"
      ]
     },
     "execution_count": 7,
     "metadata": {},
     "output_type": "execute_result"
    }
   ],
   "source": [
    "dev.review_body.shape"
   ]
  },
  {
   "cell_type": "code",
   "execution_count": 8,
   "metadata": {},
   "outputs": [
    {
     "data": {
      "text/plain": [
       "4    1000\n",
       "1    1000\n",
       "5    1000\n",
       "2    1000\n",
       "3    1000\n",
       "Name: stars, dtype: int64"
      ]
     },
     "execution_count": 8,
     "metadata": {},
     "output_type": "execute_result"
    }
   ],
   "source": [
    "dev.stars.value_counts()"
   ]
  },
  {
   "cell_type": "code",
   "execution_count": 9,
   "metadata": {},
   "outputs": [
    {
     "data": {
      "text/plain": [
       "product_es_0604475    2\n",
       "product_es_0589001    2\n",
       "product_es_0862168    2\n",
       "product_es_0920931    2\n",
       "product_es_0066449    2\n",
       "                     ..\n",
       "product_es_0573178    1\n",
       "product_es_0734961    1\n",
       "product_es_0836861    1\n",
       "product_es_0953360    1\n",
       "product_es_0351574    1\n",
       "Name: product_id, Length: 4964, dtype: int64"
      ]
     },
     "execution_count": 9,
     "metadata": {},
     "output_type": "execute_result"
    }
   ],
   "source": [
    "dev.product_id.value_counts()"
   ]
  },
  {
   "cell_type": "code",
   "execution_count": 10,
   "metadata": {},
   "outputs": [
    {
     "data": {
      "text/plain": [
       "reviewer_es_0467057    2\n",
       "reviewer_es_0039406    2\n",
       "reviewer_es_0301272    2\n",
       "reviewer_es_0024641    2\n",
       "reviewer_es_0072551    2\n",
       "                      ..\n",
       "reviewer_es_0067237    1\n",
       "reviewer_es_0610521    1\n",
       "reviewer_es_0554855    1\n",
       "reviewer_es_0844758    1\n",
       "reviewer_es_0247598    1\n",
       "Name: reviewer_id, Length: 4982, dtype: int64"
      ]
     },
     "execution_count": 10,
     "metadata": {},
     "output_type": "execute_result"
    }
   ],
   "source": [
    "dev.reviewer_id.value_counts() "
   ]
  },
  {
   "cell_type": "markdown",
   "metadata": {},
   "source": [
    "Elijo una instancia al azar y veo el review boby"
   ]
  },
  {
   "cell_type": "code",
   "execution_count": 11,
   "metadata": {},
   "outputs": [
    {
     "name": "stdout",
     "output_type": "stream",
     "text": [
      "2798 Las instruciones no son adecuadas no dicen cómo emparejar el Bluetooth con Windows 10, el manual no están en español, para aquellos que lo compren para emparejar el ratón tiene que oprimir los tres botones principales al mismo tiempo clic derecho, clic izquierdo y rueda central, en Windows aparece el ratón como modo entrada y así se empareja\n"
     ]
    }
   ],
   "source": [
    "np.random #.seed(56)\n",
    "index_random = np.random.randint(0,high = dev.shape[0])\n",
    "descripcion = dev.iloc[index_random].review_body\n",
    "print(index_random, descripcion)"
   ]
  },
  {
   "cell_type": "markdown",
   "metadata": {},
   "source": [
    "vemos la estrella con la que califico al producto comprado"
   ]
  },
  {
   "cell_type": "code",
   "execution_count": 12,
   "metadata": {},
   "outputs": [
    {
     "name": "stdout",
     "output_type": "stream",
     "text": [
      "El comprador 2798\n",
      "Califico al producto con 3 estrellas\n",
      "2798 3\n"
     ]
    }
   ],
   "source": [
    "print (f'El comprador {index_random}')\n",
    "print (f'Califico al producto con {dev.iloc[index_random].stars} estrellas' )\n",
    "\n",
    "print(index_random, dev.iloc[index_random].stars)"
   ]
  },
  {
   "cell_type": "code",
   "execution_count": 13,
   "metadata": {},
   "outputs": [],
   "source": [
    "nlp = spacy.load(\"es_core_news_sm\")"
   ]
  },
  {
   "cell_type": "code",
   "execution_count": 14,
   "metadata": {},
   "outputs": [],
   "source": [
    "doc = nlp (descripcion)"
   ]
  },
  {
   "cell_type": "code",
   "execution_count": 15,
   "metadata": {},
   "outputs": [
    {
     "name": "stdout",
     "output_type": "stream",
     "text": [
      "Las\n",
      "instruciones\n",
      "no\n",
      "son\n",
      "adecuadas\n",
      "no\n",
      "dicen\n",
      "cómo\n",
      "emparejar\n",
      "el\n",
      "Bluetooth\n",
      "con\n",
      "Windows\n",
      "10\n",
      ",\n",
      "el\n",
      "manual\n",
      "no\n",
      "están\n",
      "en\n",
      "español\n",
      ",\n",
      "para\n",
      "aquellos\n",
      "que\n",
      "lo\n",
      "compren\n",
      "para\n",
      "emparejar\n",
      "el\n",
      "ratón\n",
      "tiene\n",
      "que\n",
      "oprimir\n",
      "los\n",
      "tres\n",
      "botones\n",
      "principales\n",
      "al\n",
      "mismo\n",
      "tiempo\n",
      "clic\n",
      "derecho\n",
      ",\n",
      "clic\n",
      "izquierdo\n",
      "y\n",
      "rueda\n",
      "central\n",
      ",\n",
      "en\n",
      "Windows\n",
      "aparece\n",
      "el\n",
      "ratón\n",
      "como\n",
      "modo\n",
      "entrada\n",
      "y\n",
      "así\n",
      "se\n",
      "empareja\n"
     ]
    }
   ],
   "source": [
    "for token in doc:\n",
    "    print(token.text)"
   ]
  },
  {
   "cell_type": "markdown",
   "metadata": {},
   "source": [
    "**Stopwords**"
   ]
  },
  {
   "cell_type": "code",
   "execution_count": 16,
   "metadata": {},
   "outputs": [
    {
     "name": "stdout",
     "output_type": "stream",
     "text": [
      "['estaban', 'intenta', 'mas', 'cuáles', 'intentar', 'sean', 'que', 'usas', 'quien', 'hace', 'tenido', 'hizo', 'segundo', 'tan', 'bien', 'está', 'las', 'éstos', 'todavía', 'antes', 'estoy', 'nuestra', 'voy', 'junto', 'emplear', 'ultimo', 'adrede', 'partir', 'hacen', 'tambien', 'así', 'cuanto', 'nuestros', 'había', 'muchas', 'somos', 'tampoco', 'hago', 'soy', 'señaló', 'fui', 'hacia', 'del', 'ellas', 'mismos', 'largo', 'informo', 'lugar', 'suyas', 'podeis', 'ha', 'intento', 'ante', 'usa', 'nos', 'un', 'algunas', 'algo', 'ciertas', 'he', 'existe', 'buena', 'podría', 'alguna', 'algunos', 'después', 'habían', 'la', 'ya', 'tenemos', 'suya', 'bastante', 'aquélla', 'realizó', 'mios', 'mis', 'lejos', 'final', 'desde', 'qué', 'empleais', 'era', 'sabe', 'sólo', 'si', 'breve', 'delante', 'arribaabajo', 'diferentes', 'sigue', 'trabajamos', 'buen', 'enfrente', 'míos', 'uno', 'intentamos', 'actualmente', 'dejó', 'mio', 'tuya', 'consiguen', 'algún', 'tengo', 'fuimos', 'ampleamos', 'cuánta', 'hubo', 'podrán', 'quiza', 'varias', 'posible', 'ninguna', 'siempre', 'sido', 'al', 'menos', 'aquéllas', 'están', 'primera', 'cuanta', 'pues', 'manera', 'tuyos', 'realizar', 'fuera', 'mayor', 'toda', 'ocho', 'puedo', 'igual', 'sola', 'cerca', 'les', 'muy', 'verdadera', 'propios', 'ahora', 'esos', 'veces', 'despacio', 'pocas', 'lleva', 'quedó', 'explicó', 'eramos', 'tú', 'cierta', 'debe', 'ayer', 'además', 'informó', 'estará', 'sin', 'muchos', 'más', 'cuál', 'vuestro', 'pueden', 'estado', 'usan', 'quién', 'saben', 'allí', 'momento', 'adelante', 'mío', 'poder', 'esas', 'este', 'también', 'hacer', 'realizado', 'sería', 'estados', 'decir', 'estos', 'ejemplo', 'mismo', 'nuevo', 'paìs', 'tus', 'luego', 'hablan', 'vuestra', 'sabeis', 'llevar', 'expresó', 'añadió', 'vaya', 'donde', 'ése', 'cuatro', 'vais', 'tuvo', 'haciendo', 'ésta', 'conseguimos', 'horas', 'uso', 'éstas', 'trabajais', 'varios', 'dan', 'nuevas', 'última', 'acuerdo', 'vamos', 'según', 'queremos', 'quizas', 'esa', 'cuándo', 'último', 'quienes', 'cinco', 'ser', 'propio', 'empleo', 'hecho', 'estan', 'cuando', 'medio', 'trabajan', 'usamos', 'asi', 'ésa', 'habrá', 'trabajar', 'podrias', 'creo', 'dia', 'dónde', 'empleas', 'nuestro', 'pronto', 'aquéllos', 'hemos', 'manifestó', 'entre', 'ambos', 'me', 'detrás', 'próximos', 'consigues', 'dos', 'sí', 'son', 'eras', 'trata', 'intentas', 'saber', 'eres', 'ni', 'solas', 'van', 'consigue', 'dijeron', 'podrian', 'conseguir', 'es', 'tiene', 'vuestras', 'unas', 'cuantas', 'ningunas', 'dijo', 'modo', 'usted', 'cosas', 'él', 'cuantos', 'siguiente', 'de', 'ellos', 'cierto', 'lo', 'mi', 'mucho', 'conocer', 'estaba', 'fin', 'bajo', 'podemos', 'tanto', 'encuentra', 'consigo', 'con', 'ella', 'le', 'tercera', 'dio', 'contigo', 'haya', 'quiere', 'tener', 'antaño', 'no', 'todas', 'indicó', 'solo', 'sobre', 'estar', 'debajo', 'mucha', 'dado', 'encima', 'mía', 'ir', 'siendo', 'quizás', 'todos', 'pais', 'hacemos', 'se', 'como', 'vosotras', 'ese', 'aquellas', 'podriamos', 'mismas', 'hay', 'tal', 'intentan', 'sabemos', 'casi', 'gueno', 'tenga', 'agregó', 'esto', 'ésas', 'puede', 'hoy', 'últimas', 'afirmó', 'dieron', 'vez', 'durante', 'nuevos', 'quizá', 'sé', 'primeros', 'fueron', 'aquel', 'dicho', 'nunca', 'salvo', 'cada', 'cualquier', 'tres', 'tuyo', 'estuvo', 'seis', 'aquí', 'cuenta', 'mí', 'diferente', 'incluso', 'otro', 'temprano', 'otras', 'dicen', 'despues', 'intentais', 'mejor', 'da', 'aqui', 'detras', 'usar', 'solamente', 'buenos', 'sabes', 'unos', 'gran', 'sus', 'yo', 'consideró', 'una', 'podriais', 'nosotras', 'sea', 'trabajas', 'grandes', 'tarde', 'aunque', 'alrededor', 'su', 'considera', 'poca', 'bueno', 'últimos', 'podrá', 'total', 'mia', 'otros', 'el', 'debido', 'solos', 'pueda', 'qeu', 'ustedes', 'apenas', 'nadie', 'claro', 'pero', 'en', 'ciertos', 'cuales', 'dias', 'ahi', 'sino', 'antano', 'próximo', 'supuesto', 'demás', 'cual', 'tuyas', 'general', 'propias', 'repente', 'siete', 'segun', 'respecto', 'ti', 'ademas', 'ésos', 'haceis', 'mediante', 'sera', 'emplean', 'dice', 'todo', 'aseguró', 'podrían', 'ninguno', 'través', 'demasiado', 'estamos', 'mal', 'nuestras', 'ningunos', 'conmigo', 'mías', 'proximo', 'existen', 'llegó', 'nosotros', 'ningún', 'aun', 'otra', 'primero', 'pasado', 'hicieron', 'te', 'cuántas', 'tienen', 'esta', 'aquellos', 'dentro', 'trabajo', 'excepto', 'os', 'tenía', 'nada', 'primer', 'atras', 'nueva', 'tiempo', 'pocos', 'parte', 'pudo', 'por', 'alguno', 'vuestros', 'habla', 'podria', 'contra', 'día', 'suyo', 'segunda', 'enseguida', 'dar', 'embargo', 'aquello', 'entonces', 'ello', 'raras', 'estas', 'aún', 'cuánto', 'fue', 'ver', 'deben', 'tendrá', 'eran', 'éste', 'haber', 'poner', 'serán', 'pesar', 'haces', 'tendrán', 'hacerlo', 'ex', 'deprisa', 'será', 'han', 'cuántos', 'mientras', 'propia', 'eso', 'anterior', 'menudo', 'soyos', 'pasada', 'alli', 'tras', 'vosotros', 'lado', 'hasta', 'para', 'va', 'usais', 'aproximadamente', 'poco', 'sois', 'habia', 'valor', 'mencionó', 'días', 'porque', 'aquél', 'peor', 'ahí', 'trabaja', 'aquella', 'misma', 'estais', 'verdad', 'cómo', 'tu', 'principalmente', 'parece', 'buenas', 'todavia', 'mias', 'los', 'arriba', 'quiénes', 'teneis', 'verdadero', 'comentó']\n"
     ]
    },
    {
     "data": {
      "text/plain": [
       "551"
      ]
     },
     "execution_count": 16,
     "metadata": {},
     "output_type": "execute_result"
    }
   ],
   "source": [
    "from spacy.lang.es.stop_words import STOP_WORDS\n",
    "stopwords_spacy = list(STOP_WORDS)\n",
    "print (stopwords_spacy)\n",
    "len(stopwords_spacy)"
   ]
  },
  {
   "cell_type": "markdown",
   "metadata": {},
   "source": [
    "Imprimimos las palabras del texto que no son stop words según Spacy"
   ]
  },
  {
   "cell_type": "code",
   "execution_count": 17,
   "metadata": {},
   "outputs": [
    {
     "name": "stdout",
     "output_type": "stream",
     "text": [
      "instruciones\n",
      "adecuadas\n",
      "emparejar\n",
      "Bluetooth\n",
      "Windows\n",
      "10\n",
      ",\n",
      "manual\n",
      "español\n",
      ",\n",
      "compren\n",
      "emparejar\n",
      "ratón\n",
      "oprimir\n",
      "botones\n",
      "principales\n",
      "clic\n",
      "derecho\n",
      ",\n",
      "clic\n",
      "izquierdo\n",
      "y\n",
      "rueda\n",
      "central\n",
      ",\n",
      "Windows\n",
      "aparece\n",
      "ratón\n",
      "entrada\n",
      "y\n",
      "empareja\n"
     ]
    }
   ],
   "source": [
    "for token in doc:\n",
    "    if token.is_stop == False:\n",
    "        print(token)"
   ]
  },
  {
   "cell_type": "markdown",
   "metadata": {},
   "source": [
    "**Lemmatización**"
   ]
  },
  {
   "cell_type": "code",
   "execution_count": 18,
   "metadata": {},
   "outputs": [
    {
     "name": "stdout",
     "output_type": "stream",
     "text": [
      "Las el\n",
      "instruciones instrución\n",
      "no no\n",
      "son ser\n",
      "adecuadas adecuar\n",
      "no no\n",
      "dicen decir\n",
      "cómo cómo\n",
      "emparejar emparejar\n",
      "el el\n",
      "Bluetooth Bluetooth\n",
      "con con\n",
      "Windows Windows\n",
      "10 10\n",
      ", ,\n",
      "el el\n",
      "manual manual\n",
      "no no\n",
      "están estar\n",
      "en en\n",
      "español español\n",
      ", ,\n",
      "para para\n",
      "aquellos aquel\n",
      "que que\n",
      "lo él\n",
      "compren comprir\n",
      "para para\n",
      "emparejar emparejar\n",
      "el el\n",
      "ratón ratón\n",
      "tiene tener\n",
      "que que\n",
      "oprimir oprimir\n",
      "los el\n",
      "tres tres\n",
      "botones botón\n",
      "principales principal\n",
      "al al\n",
      "mismo mismo\n",
      "tiempo tiempo\n",
      "clic clic\n",
      "derecho derecho\n",
      ", ,\n",
      "clic clic\n",
      "izquierdo izquierdo\n",
      "y y\n",
      "rueda rueda\n",
      "central central\n",
      ", ,\n",
      "en en\n",
      "Windows Windows\n",
      "aparece aparecer\n",
      "el el\n",
      "ratón ratón\n",
      "como como\n",
      "modo modo\n",
      "entrada entrado\n",
      "y y\n",
      "así así\n",
      "se él\n",
      "empareja emparejar\n"
     ]
    }
   ],
   "source": [
    "for token in doc:\n",
    "    print (token.text, token.lemma_)"
   ]
  },
  {
   "cell_type": "markdown",
   "metadata": {},
   "source": [
    "**POS Part of Speech**"
   ]
  },
  {
   "cell_type": "code",
   "execution_count": 19,
   "metadata": {},
   "outputs": [
    {
     "name": "stdout",
     "output_type": "stream",
     "text": [
      "Las DET\n",
      "instruciones NOUN\n",
      "no ADV\n",
      "son AUX\n",
      "adecuadas VERB\n",
      "no ADV\n",
      "dicen VERB\n",
      "cómo PRON\n",
      "emparejar VERB\n",
      "el DET\n",
      "Bluetooth PROPN\n",
      "con ADP\n",
      "Windows PROPN\n",
      "10 NUM\n",
      ", PUNCT\n",
      "el DET\n",
      "manual NOUN\n",
      "no ADV\n",
      "están AUX\n",
      "en ADP\n",
      "español NOUN\n",
      ", PUNCT\n",
      "para ADP\n",
      "aquellos PRON\n",
      "que PRON\n",
      "lo PRON\n",
      "compren VERB\n",
      "para ADP\n",
      "emparejar VERB\n",
      "el DET\n",
      "ratón NOUN\n",
      "tiene VERB\n",
      "que SCONJ\n",
      "oprimir VERB\n",
      "los DET\n",
      "tres NUM\n",
      "botones NOUN\n",
      "principales ADJ\n",
      "al ADP\n",
      "mismo DET\n",
      "tiempo NOUN\n",
      "clic VERB\n",
      "derecho ADJ\n",
      ", PUNCT\n",
      "clic NOUN\n",
      "izquierdo ADJ\n",
      "y CCONJ\n",
      "rueda NOUN\n",
      "central ADJ\n",
      ", PUNCT\n",
      "en ADP\n",
      "Windows PROPN\n",
      "aparece VERB\n",
      "el DET\n",
      "ratón NOUN\n",
      "como SCONJ\n",
      "modo NOUN\n",
      "entrada ADJ\n",
      "y CCONJ\n",
      "así ADV\n",
      "se PRON\n",
      "empareja VERB\n"
     ]
    }
   ],
   "source": [
    "for token in doc:\n",
    "    print (token.text, token.pos_)"
   ]
  },
  {
   "cell_type": "markdown",
   "metadata": {},
   "source": [
    "**Tokenización**\n",
    "\n",
    "Eliminamos los signos "
   ]
  },
  {
   "cell_type": "code",
   "execution_count": 20,
   "metadata": {},
   "outputs": [
    {
     "data": {
      "text/plain": [
       "'!\"#$%&\\'()*+,-./:;<=>?@[\\\\]^_`{|}~¿!¡? + \" \"'"
      ]
     },
     "execution_count": 20,
     "metadata": {},
     "output_type": "execute_result"
    }
   ],
   "source": [
    "puntua = string.punctuation + '¿!¡? + \" \"'\n",
    "puntua"
   ]
  },
  {
   "cell_type": "code",
   "execution_count": 21,
   "metadata": {},
   "outputs": [],
   "source": [
    "def text_data_cleaning(sentence):\n",
    "    doc = nlp(sentence)\n",
    "    \n",
    "    tokens = []\n",
    "    for token in doc:\n",
    "        if token.lemma_ !='-PRON-':\n",
    "            temp = token.lemma_.lower().strip()\n",
    "        else:\n",
    "             temp = token.lower_\n",
    "        tokens.append(temp)\n",
    "            \n",
    "    cleaned_tokens = []\n",
    "    for token in tokens:\n",
    "        if token not in stopwords_spacy and token not in puntua:\n",
    "            cleaned_tokens.append(token)\n",
    "            \n",
    "    return \" \".join(cleaned_tokens)"
   ]
  },
  {
   "cell_type": "code",
   "execution_count": 22,
   "metadata": {},
   "outputs": [
    {
     "data": {
      "text/plain": [
       "'instrución adecuar emparejar bluetooth windows 10 manual español comprir emparejar ratón oprimir botón principal clic derecho clic izquierdo y rueda central windows aparecer ratón entrado y emparejar'"
      ]
     },
     "execution_count": 22,
     "metadata": {},
     "output_type": "execute_result"
    }
   ],
   "source": [
    "text_data_cleaning (descripcion)"
   ]
  },
  {
   "cell_type": "markdown",
   "metadata": {},
   "source": [
    "Aplicamos un text data cleaning sobre review body en todo el dataset y lo imprimimos"
   ]
  },
  {
   "cell_type": "code",
   "execution_count": 23,
   "metadata": {},
   "outputs": [
    {
     "data": {
      "text/plain": [
       "0          malisimo grande aparatoso y protector pantalla\n",
       "1                               recibir pedido devolución\n",
       "2       buscar sistema funcionar abrazadera agarrar ma...\n",
       "3       utilicé broca menor diámetro y doblar mantequi...\n",
       "4                      gustar olor a viejo y aspecto malo\n",
       "                              ...                        \n",
       "4995    encantar cesta llegar impecable tamaño util fi...\n",
       "4996                     desempeñar función correctamente\n",
       "4997    encantar diadema flor venir imagen y venir apl...\n",
       "4998    a gustar funda tpu fundas normalmente fino y c...\n",
       "4999                  artículo cumplir expectativa desear\n",
       "Name: review_body, Length: 5000, dtype: object"
      ]
     },
     "execution_count": 23,
     "metadata": {},
     "output_type": "execute_result"
    }
   ],
   "source": [
    "dev.review_body.apply(text_data_cleaning)"
   ]
  },
  {
   "cell_type": "code",
   "execution_count": 24,
   "metadata": {},
   "outputs": [
    {
     "data": {
      "text/html": [
       "<div>\n",
       "<style scoped>\n",
       "    .dataframe tbody tr th:only-of-type {\n",
       "        vertical-align: middle;\n",
       "    }\n",
       "\n",
       "    .dataframe tbody tr th {\n",
       "        vertical-align: top;\n",
       "    }\n",
       "\n",
       "    .dataframe thead th {\n",
       "        text-align: right;\n",
       "    }\n",
       "</style>\n",
       "<table border=\"1\" class=\"dataframe\">\n",
       "  <thead>\n",
       "    <tr style=\"text-align: right;\">\n",
       "      <th></th>\n",
       "      <th>review_id</th>\n",
       "      <th>product_id</th>\n",
       "      <th>reviewer_id</th>\n",
       "      <th>stars</th>\n",
       "      <th>review_body</th>\n",
       "      <th>review_title</th>\n",
       "      <th>language</th>\n",
       "      <th>product_category</th>\n",
       "    </tr>\n",
       "  </thead>\n",
       "  <tbody>\n",
       "    <tr>\n",
       "      <th>0</th>\n",
       "      <td>es_0417480</td>\n",
       "      <td>product_es_0873923</td>\n",
       "      <td>reviewer_es_0672978</td>\n",
       "      <td>1</td>\n",
       "      <td>Malisimo, muy grande demasiado aparatoso y mal...</td>\n",
       "      <td>Mala compra</td>\n",
       "      <td>es</td>\n",
       "      <td>wireless</td>\n",
       "    </tr>\n",
       "    <tr>\n",
       "      <th>1</th>\n",
       "      <td>es_0180432</td>\n",
       "      <td>product_es_0713146</td>\n",
       "      <td>reviewer_es_0100858</td>\n",
       "      <td>1</td>\n",
       "      <td>No he recibido el pedido no la devolución</td>\n",
       "      <td>No lo he recibido</td>\n",
       "      <td>es</td>\n",
       "      <td>apparel</td>\n",
       "    </tr>\n",
       "    <tr>\n",
       "      <th>2</th>\n",
       "      <td>es_0144850</td>\n",
       "      <td>product_es_0356874</td>\n",
       "      <td>reviewer_es_0486447</td>\n",
       "      <td>1</td>\n",
       "      <td>Tengo que buscar otro sistema, este no funcion...</td>\n",
       "      <td>Que no aprieta bien en el manillar</td>\n",
       "      <td>es</td>\n",
       "      <td>sports</td>\n",
       "    </tr>\n",
       "  </tbody>\n",
       "</table>\n",
       "</div>"
      ],
      "text/plain": [
       "    review_id          product_id          reviewer_id  stars  \\\n",
       "0  es_0417480  product_es_0873923  reviewer_es_0672978      1   \n",
       "1  es_0180432  product_es_0713146  reviewer_es_0100858      1   \n",
       "2  es_0144850  product_es_0356874  reviewer_es_0486447      1   \n",
       "\n",
       "                                         review_body  \\\n",
       "0  Malisimo, muy grande demasiado aparatoso y mal...   \n",
       "1          No he recibido el pedido no la devolución   \n",
       "2  Tengo que buscar otro sistema, este no funcion...   \n",
       "\n",
       "                         review_title language product_category  \n",
       "0                         Mala compra       es         wireless  \n",
       "1                   No lo he recibido       es          apparel  \n",
       "2  Que no aprieta bien en el manillar       es           sports  "
      ]
     },
     "execution_count": 24,
     "metadata": {},
     "output_type": "execute_result"
    }
   ],
   "source": [
    "dev.head(3)"
   ]
  },
  {
   "cell_type": "code",
   "execution_count": 25,
   "metadata": {},
   "outputs": [],
   "source": [
    "dev['review_body']= dev.review_body.apply(text_data_cleaning)"
   ]
  },
  {
   "cell_type": "code",
   "execution_count": 26,
   "metadata": {},
   "outputs": [
    {
     "data": {
      "text/html": [
       "<div>\n",
       "<style scoped>\n",
       "    .dataframe tbody tr th:only-of-type {\n",
       "        vertical-align: middle;\n",
       "    }\n",
       "\n",
       "    .dataframe tbody tr th {\n",
       "        vertical-align: top;\n",
       "    }\n",
       "\n",
       "    .dataframe thead th {\n",
       "        text-align: right;\n",
       "    }\n",
       "</style>\n",
       "<table border=\"1\" class=\"dataframe\">\n",
       "  <thead>\n",
       "    <tr style=\"text-align: right;\">\n",
       "      <th></th>\n",
       "      <th>review_id</th>\n",
       "      <th>product_id</th>\n",
       "      <th>reviewer_id</th>\n",
       "      <th>stars</th>\n",
       "      <th>review_body</th>\n",
       "      <th>review_title</th>\n",
       "      <th>language</th>\n",
       "      <th>product_category</th>\n",
       "    </tr>\n",
       "  </thead>\n",
       "  <tbody>\n",
       "    <tr>\n",
       "      <th>0</th>\n",
       "      <td>es_0417480</td>\n",
       "      <td>product_es_0873923</td>\n",
       "      <td>reviewer_es_0672978</td>\n",
       "      <td>1</td>\n",
       "      <td>malisimo grande aparatoso y protector pantalla</td>\n",
       "      <td>Mala compra</td>\n",
       "      <td>es</td>\n",
       "      <td>wireless</td>\n",
       "    </tr>\n",
       "    <tr>\n",
       "      <th>1</th>\n",
       "      <td>es_0180432</td>\n",
       "      <td>product_es_0713146</td>\n",
       "      <td>reviewer_es_0100858</td>\n",
       "      <td>1</td>\n",
       "      <td>recibir pedido devolución</td>\n",
       "      <td>No lo he recibido</td>\n",
       "      <td>es</td>\n",
       "      <td>apparel</td>\n",
       "    </tr>\n",
       "    <tr>\n",
       "      <th>2</th>\n",
       "      <td>es_0144850</td>\n",
       "      <td>product_es_0356874</td>\n",
       "      <td>reviewer_es_0486447</td>\n",
       "      <td>1</td>\n",
       "      <td>buscar sistema funcionar abrazadera agarrar ma...</td>\n",
       "      <td>Que no aprieta bien en el manillar</td>\n",
       "      <td>es</td>\n",
       "      <td>sports</td>\n",
       "    </tr>\n",
       "    <tr>\n",
       "      <th>3</th>\n",
       "      <td>es_0339629</td>\n",
       "      <td>product_es_0939832</td>\n",
       "      <td>reviewer_es_0894703</td>\n",
       "      <td>1</td>\n",
       "      <td>utilicé broca menor diámetro y doblar mantequi...</td>\n",
       "      <td>Brocas de mantequilla</td>\n",
       "      <td>es</td>\n",
       "      <td>home_improvement</td>\n",
       "    </tr>\n",
       "    <tr>\n",
       "      <th>4</th>\n",
       "      <td>es_0858362</td>\n",
       "      <td>product_es_0489066</td>\n",
       "      <td>reviewer_es_0887663</td>\n",
       "      <td>1</td>\n",
       "      <td>gustar olor a viejo y aspecto malo</td>\n",
       "      <td>No me gusta</td>\n",
       "      <td>es</td>\n",
       "      <td>beauty</td>\n",
       "    </tr>\n",
       "    <tr>\n",
       "      <th>...</th>\n",
       "      <td>...</td>\n",
       "      <td>...</td>\n",
       "      <td>...</td>\n",
       "      <td>...</td>\n",
       "      <td>...</td>\n",
       "      <td>...</td>\n",
       "      <td>...</td>\n",
       "      <td>...</td>\n",
       "    </tr>\n",
       "    <tr>\n",
       "      <th>4995</th>\n",
       "      <td>es_0179515</td>\n",
       "      <td>product_es_0158275</td>\n",
       "      <td>reviewer_es_0273644</td>\n",
       "      <td>5</td>\n",
       "      <td>encantar cesta llegar impecable tamaño util fi...</td>\n",
       "      <td>guadalupe</td>\n",
       "      <td>es</td>\n",
       "      <td>home</td>\n",
       "    </tr>\n",
       "    <tr>\n",
       "      <th>4996</th>\n",
       "      <td>es_0894902</td>\n",
       "      <td>product_es_0953259</td>\n",
       "      <td>reviewer_es_0153773</td>\n",
       "      <td>5</td>\n",
       "      <td>desempeñar función correctamente</td>\n",
       "      <td>calidad precio</td>\n",
       "      <td>es</td>\n",
       "      <td>camera</td>\n",
       "    </tr>\n",
       "    <tr>\n",
       "      <th>4997</th>\n",
       "      <td>es_0760496</td>\n",
       "      <td>product_es_0731995</td>\n",
       "      <td>reviewer_es_0171091</td>\n",
       "      <td>5</td>\n",
       "      <td>encantar diadema flor venir imagen y venir apl...</td>\n",
       "      <td>Excelente</td>\n",
       "      <td>es</td>\n",
       "      <td>toy</td>\n",
       "    </tr>\n",
       "    <tr>\n",
       "      <th>4998</th>\n",
       "      <td>es_0178380</td>\n",
       "      <td>product_es_0402051</td>\n",
       "      <td>reviewer_es_0686937</td>\n",
       "      <td>5</td>\n",
       "      <td>a gustar funda tpu fundas normalmente fino y c...</td>\n",
       "      <td>Genial</td>\n",
       "      <td>es</td>\n",
       "      <td>wireless</td>\n",
       "    </tr>\n",
       "    <tr>\n",
       "      <th>4999</th>\n",
       "      <td>es_0810087</td>\n",
       "      <td>product_es_0684221</td>\n",
       "      <td>reviewer_es_0613091</td>\n",
       "      <td>5</td>\n",
       "      <td>artículo cumplir expectativa desear</td>\n",
       "      <td>Buena calidad</td>\n",
       "      <td>es</td>\n",
       "      <td>apparel</td>\n",
       "    </tr>\n",
       "  </tbody>\n",
       "</table>\n",
       "<p>5000 rows × 8 columns</p>\n",
       "</div>"
      ],
      "text/plain": [
       "       review_id          product_id          reviewer_id  stars  \\\n",
       "0     es_0417480  product_es_0873923  reviewer_es_0672978      1   \n",
       "1     es_0180432  product_es_0713146  reviewer_es_0100858      1   \n",
       "2     es_0144850  product_es_0356874  reviewer_es_0486447      1   \n",
       "3     es_0339629  product_es_0939832  reviewer_es_0894703      1   \n",
       "4     es_0858362  product_es_0489066  reviewer_es_0887663      1   \n",
       "...          ...                 ...                  ...    ...   \n",
       "4995  es_0179515  product_es_0158275  reviewer_es_0273644      5   \n",
       "4996  es_0894902  product_es_0953259  reviewer_es_0153773      5   \n",
       "4997  es_0760496  product_es_0731995  reviewer_es_0171091      5   \n",
       "4998  es_0178380  product_es_0402051  reviewer_es_0686937      5   \n",
       "4999  es_0810087  product_es_0684221  reviewer_es_0613091      5   \n",
       "\n",
       "                                            review_body  \\\n",
       "0        malisimo grande aparatoso y protector pantalla   \n",
       "1                             recibir pedido devolución   \n",
       "2     buscar sistema funcionar abrazadera agarrar ma...   \n",
       "3     utilicé broca menor diámetro y doblar mantequi...   \n",
       "4                    gustar olor a viejo y aspecto malo   \n",
       "...                                                 ...   \n",
       "4995  encantar cesta llegar impecable tamaño util fi...   \n",
       "4996                   desempeñar función correctamente   \n",
       "4997  encantar diadema flor venir imagen y venir apl...   \n",
       "4998  a gustar funda tpu fundas normalmente fino y c...   \n",
       "4999                artículo cumplir expectativa desear   \n",
       "\n",
       "                            review_title language  product_category  \n",
       "0                            Mala compra       es          wireless  \n",
       "1                      No lo he recibido       es           apparel  \n",
       "2     Que no aprieta bien en el manillar       es            sports  \n",
       "3                  Brocas de mantequilla       es  home_improvement  \n",
       "4                            No me gusta       es            beauty  \n",
       "...                                  ...      ...               ...  \n",
       "4995                           guadalupe       es              home  \n",
       "4996                      calidad precio       es            camera  \n",
       "4997                           Excelente       es               toy  \n",
       "4998                              Genial       es          wireless  \n",
       "4999                       Buena calidad       es           apparel  \n",
       "\n",
       "[5000 rows x 8 columns]"
      ]
     },
     "execution_count": 26,
     "metadata": {},
     "output_type": "execute_result"
    }
   ],
   "source": [
    "dev"
   ]
  },
  {
   "cell_type": "markdown",
   "metadata": {},
   "source": [
    "**Importamos el DS desde un csv con los datos de Review body y review title modificados**"
   ]
  },
  {
   "cell_type": "code",
   "execution_count": 27,
   "metadata": {},
   "outputs": [
    {
     "data": {
      "text/html": [
       "<div>\n",
       "<style scoped>\n",
       "    .dataframe tbody tr th:only-of-type {\n",
       "        vertical-align: middle;\n",
       "    }\n",
       "\n",
       "    .dataframe tbody tr th {\n",
       "        vertical-align: top;\n",
       "    }\n",
       "\n",
       "    .dataframe thead th {\n",
       "        text-align: right;\n",
       "    }\n",
       "</style>\n",
       "<table border=\"1\" class=\"dataframe\">\n",
       "  <thead>\n",
       "    <tr style=\"text-align: right;\">\n",
       "      <th></th>\n",
       "      <th>Unnamed: 0</th>\n",
       "      <th>review_id</th>\n",
       "      <th>product_id</th>\n",
       "      <th>reviewer_id</th>\n",
       "      <th>stars</th>\n",
       "      <th>review_body</th>\n",
       "      <th>review_title</th>\n",
       "      <th>language</th>\n",
       "      <th>product_category</th>\n",
       "    </tr>\n",
       "  </thead>\n",
       "  <tbody>\n",
       "    <tr>\n",
       "      <th>0</th>\n",
       "      <td>0</td>\n",
       "      <td>es_0417480</td>\n",
       "      <td>product_es_0873923</td>\n",
       "      <td>reviewer_es_0672978</td>\n",
       "      <td>1</td>\n",
       "      <td>malisimo grande aparatoso y protector pantalla</td>\n",
       "      <td>malo compro</td>\n",
       "      <td>es</td>\n",
       "      <td>wireless</td>\n",
       "    </tr>\n",
       "    <tr>\n",
       "      <th>1</th>\n",
       "      <td>1</td>\n",
       "      <td>es_0180432</td>\n",
       "      <td>product_es_0713146</td>\n",
       "      <td>reviewer_es_0100858</td>\n",
       "      <td>1</td>\n",
       "      <td>recibir pedido devolución</td>\n",
       "      <td>recibir</td>\n",
       "      <td>es</td>\n",
       "      <td>apparel</td>\n",
       "    </tr>\n",
       "    <tr>\n",
       "      <th>2</th>\n",
       "      <td>2</td>\n",
       "      <td>es_0144850</td>\n",
       "      <td>product_es_0356874</td>\n",
       "      <td>reviewer_es_0486447</td>\n",
       "      <td>1</td>\n",
       "      <td>buscar sistema funcionar abrazadera agarrar ma...</td>\n",
       "      <td>apretar manillar</td>\n",
       "      <td>es</td>\n",
       "      <td>sports</td>\n",
       "    </tr>\n",
       "    <tr>\n",
       "      <th>3</th>\n",
       "      <td>3</td>\n",
       "      <td>es_0339629</td>\n",
       "      <td>product_es_0939832</td>\n",
       "      <td>reviewer_es_0894703</td>\n",
       "      <td>1</td>\n",
       "      <td>utilicé broca menor diámetro y doblar mantequi...</td>\n",
       "      <td>Brocas mantequilla</td>\n",
       "      <td>es</td>\n",
       "      <td>home_improvement</td>\n",
       "    </tr>\n",
       "    <tr>\n",
       "      <th>4</th>\n",
       "      <td>4</td>\n",
       "      <td>es_0858362</td>\n",
       "      <td>product_es_0489066</td>\n",
       "      <td>reviewer_es_0887663</td>\n",
       "      <td>1</td>\n",
       "      <td>gustar olor a viejo y aspecto malo</td>\n",
       "      <td>gustar</td>\n",
       "      <td>es</td>\n",
       "      <td>beauty</td>\n",
       "    </tr>\n",
       "  </tbody>\n",
       "</table>\n",
       "</div>"
      ],
      "text/plain": [
       "   Unnamed: 0   review_id          product_id          reviewer_id  stars  \\\n",
       "0           0  es_0417480  product_es_0873923  reviewer_es_0672978      1   \n",
       "1           1  es_0180432  product_es_0713146  reviewer_es_0100858      1   \n",
       "2           2  es_0144850  product_es_0356874  reviewer_es_0486447      1   \n",
       "3           3  es_0339629  product_es_0939832  reviewer_es_0894703      1   \n",
       "4           4  es_0858362  product_es_0489066  reviewer_es_0887663      1   \n",
       "\n",
       "                                         review_body        review_title  \\\n",
       "0     malisimo grande aparatoso y protector pantalla         malo compro   \n",
       "1                          recibir pedido devolución             recibir   \n",
       "2  buscar sistema funcionar abrazadera agarrar ma...    apretar manillar   \n",
       "3  utilicé broca menor diámetro y doblar mantequi...  Brocas mantequilla   \n",
       "4                 gustar olor a viejo y aspecto malo              gustar   \n",
       "\n",
       "  language  product_category  \n",
       "0       es          wireless  \n",
       "1       es           apparel  \n",
       "2       es            sports  \n",
       "3       es  home_improvement  \n",
       "4       es            beauty  "
      ]
     },
     "execution_count": 27,
     "metadata": {},
     "output_type": "execute_result"
    }
   ],
   "source": [
    "dataset_dev = pd.read_csv('dataset_dev.csv') \n",
    "dataset_dev.head()"
   ]
  },
  {
   "cell_type": "markdown",
   "metadata": {},
   "source": [
    "## **Importo los datos ya transformados de TRAIN Y TEST en formato csv**"
   ]
  },
  {
   "cell_type": "code",
   "execution_count": 28,
   "metadata": {},
   "outputs": [
    {
     "data": {
      "text/html": [
       "<div>\n",
       "<style scoped>\n",
       "    .dataframe tbody tr th:only-of-type {\n",
       "        vertical-align: middle;\n",
       "    }\n",
       "\n",
       "    .dataframe tbody tr th {\n",
       "        vertical-align: top;\n",
       "    }\n",
       "\n",
       "    .dataframe thead th {\n",
       "        text-align: right;\n",
       "    }\n",
       "</style>\n",
       "<table border=\"1\" class=\"dataframe\">\n",
       "  <thead>\n",
       "    <tr style=\"text-align: right;\">\n",
       "      <th></th>\n",
       "      <th>Unnamed: 0</th>\n",
       "      <th>review_id</th>\n",
       "      <th>product_id</th>\n",
       "      <th>reviewer_id</th>\n",
       "      <th>stars</th>\n",
       "      <th>review_body</th>\n",
       "      <th>review_title</th>\n",
       "      <th>language</th>\n",
       "      <th>product_category</th>\n",
       "    </tr>\n",
       "  </thead>\n",
       "  <tbody>\n",
       "    <tr>\n",
       "      <th>0</th>\n",
       "      <td>0</td>\n",
       "      <td>es_0491108</td>\n",
       "      <td>product_es_0296024</td>\n",
       "      <td>reviewer_es_0999081</td>\n",
       "      <td>1</td>\n",
       "      <td>kar pantalla 8 mes y recibir respuesta fabricante</td>\n",
       "      <td>television Nevir</td>\n",
       "      <td>es</td>\n",
       "      <td>electronics</td>\n",
       "    </tr>\n",
       "    <tr>\n",
       "      <th>1</th>\n",
       "      <td>1</td>\n",
       "      <td>es_0869872</td>\n",
       "      <td>product_es_0922286</td>\n",
       "      <td>reviewer_es_0216771</td>\n",
       "      <td>1</td>\n",
       "      <td>horrible comprar inglés informático hora capaz...</td>\n",
       "      <td>Dinero tirado a basura compro</td>\n",
       "      <td>es</td>\n",
       "      <td>electronics</td>\n",
       "    </tr>\n",
       "    <tr>\n",
       "      <th>2</th>\n",
       "      <td>2</td>\n",
       "      <td>es_0811721</td>\n",
       "      <td>product_es_0474543</td>\n",
       "      <td>reviewer_es_0929213</td>\n",
       "      <td>1</td>\n",
       "      <td>obligar a comprar unidad y llegar y forma recl...</td>\n",
       "      <td>llegar unidad obligar a comprar</td>\n",
       "      <td>es</td>\n",
       "      <td>drugstore</td>\n",
       "    </tr>\n",
       "    <tr>\n",
       "      <th>3</th>\n",
       "      <td>3</td>\n",
       "      <td>es_0359921</td>\n",
       "      <td>product_es_0656090</td>\n",
       "      <td>reviewer_es_0224702</td>\n",
       "      <td>1</td>\n",
       "      <td>entrar descalificar vendedor mes espera .... s...</td>\n",
       "      <td>PRODUCTO RECIBIDO</td>\n",
       "      <td>es</td>\n",
       "      <td>wireless</td>\n",
       "    </tr>\n",
       "    <tr>\n",
       "      <th>4</th>\n",
       "      <td>4</td>\n",
       "      <td>es_0068940</td>\n",
       "      <td>product_es_0662544</td>\n",
       "      <td>reviewer_es_0224827</td>\n",
       "      <td>1</td>\n",
       "      <td>llegar y co talla equivocado</td>\n",
       "      <td>Devuelto</td>\n",
       "      <td>es</td>\n",
       "      <td>shoes</td>\n",
       "    </tr>\n",
       "  </tbody>\n",
       "</table>\n",
       "</div>"
      ],
      "text/plain": [
       "   Unnamed: 0   review_id          product_id          reviewer_id  stars  \\\n",
       "0           0  es_0491108  product_es_0296024  reviewer_es_0999081      1   \n",
       "1           1  es_0869872  product_es_0922286  reviewer_es_0216771      1   \n",
       "2           2  es_0811721  product_es_0474543  reviewer_es_0929213      1   \n",
       "3           3  es_0359921  product_es_0656090  reviewer_es_0224702      1   \n",
       "4           4  es_0068940  product_es_0662544  reviewer_es_0224827      1   \n",
       "\n",
       "                                         review_body  \\\n",
       "0  kar pantalla 8 mes y recibir respuesta fabricante   \n",
       "1  horrible comprar inglés informático hora capaz...   \n",
       "2  obligar a comprar unidad y llegar y forma recl...   \n",
       "3  entrar descalificar vendedor mes espera .... s...   \n",
       "4                       llegar y co talla equivocado   \n",
       "\n",
       "                      review_title language product_category  \n",
       "0                 television Nevir       es      electronics  \n",
       "1    Dinero tirado a basura compro       es      electronics  \n",
       "2  llegar unidad obligar a comprar       es        drugstore  \n",
       "3                PRODUCTO RECIBIDO       es         wireless  \n",
       "4                         Devuelto       es            shoes  "
      ]
     },
     "execution_count": 28,
     "metadata": {},
     "output_type": "execute_result"
    }
   ],
   "source": [
    "dataset_train = pd.read_csv('dataset_train.csv') \n",
    "dataset_train.head()"
   ]
  },
  {
   "cell_type": "code",
   "execution_count": 29,
   "metadata": {},
   "outputs": [
    {
     "data": {
      "text/html": [
       "<div>\n",
       "<style scoped>\n",
       "    .dataframe tbody tr th:only-of-type {\n",
       "        vertical-align: middle;\n",
       "    }\n",
       "\n",
       "    .dataframe tbody tr th {\n",
       "        vertical-align: top;\n",
       "    }\n",
       "\n",
       "    .dataframe thead th {\n",
       "        text-align: right;\n",
       "    }\n",
       "</style>\n",
       "<table border=\"1\" class=\"dataframe\">\n",
       "  <thead>\n",
       "    <tr style=\"text-align: right;\">\n",
       "      <th></th>\n",
       "      <th>Unnamed: 0</th>\n",
       "      <th>review_id</th>\n",
       "      <th>product_id</th>\n",
       "      <th>reviewer_id</th>\n",
       "      <th>stars</th>\n",
       "      <th>review_body</th>\n",
       "      <th>review_title</th>\n",
       "      <th>language</th>\n",
       "      <th>product_category</th>\n",
       "    </tr>\n",
       "  </thead>\n",
       "  <tbody>\n",
       "    <tr>\n",
       "      <th>0</th>\n",
       "      <td>0</td>\n",
       "      <td>es_0038754</td>\n",
       "      <td>product_es_0113523</td>\n",
       "      <td>reviewer_es_0580071</td>\n",
       "      <td>1</td>\n",
       "      <td>llegar articulo mandar correo normal seguimien...</td>\n",
       "      <td>llegar</td>\n",
       "      <td>es</td>\n",
       "      <td>wireless</td>\n",
       "    </tr>\n",
       "    <tr>\n",
       "      <th>1</th>\n",
       "      <td>1</td>\n",
       "      <td>es_0748979</td>\n",
       "      <td>product_es_0017036</td>\n",
       "      <td>reviewer_es_0819733</td>\n",
       "      <td>1</td>\n",
       "      <td>mensajería horrible compro</td>\n",
       "      <td>amazon seguir cumplir entrega</td>\n",
       "      <td>es</td>\n",
       "      <td>home</td>\n",
       "    </tr>\n",
       "    <tr>\n",
       "      <th>2</th>\n",
       "      <td>2</td>\n",
       "      <td>es_0411746</td>\n",
       "      <td>product_es_0138642</td>\n",
       "      <td>reviewer_es_0508607</td>\n",
       "      <td>1</td>\n",
       "      <td>decepcionado vendedor pedido llegar a y cumpli...</td>\n",
       "      <td>ESTAFA envío</td>\n",
       "      <td>es</td>\n",
       "      <td>toy</td>\n",
       "    </tr>\n",
       "    <tr>\n",
       "      <th>3</th>\n",
       "      <td>3</td>\n",
       "      <td>es_0786686</td>\n",
       "      <td>product_es_0170887</td>\n",
       "      <td>reviewer_es_0491157</td>\n",
       "      <td>1</td>\n",
       "      <td>valoración producto amazon ofreceis producto a...</td>\n",
       "      <td>Estafa Amazon</td>\n",
       "      <td>es</td>\n",
       "      <td>home</td>\n",
       "    </tr>\n",
       "    <tr>\n",
       "      <th>4</th>\n",
       "      <td>4</td>\n",
       "      <td>es_0429700</td>\n",
       "      <td>product_es_0710642</td>\n",
       "      <td>reviewer_es_0008745</td>\n",
       "      <td>1</td>\n",
       "      <td>interés libro y probar versión kindle abrir po...</td>\n",
       "      <td>conseguí pasar portada Kindle</td>\n",
       "      <td>es</td>\n",
       "      <td>digital_ebook_purchase</td>\n",
       "    </tr>\n",
       "  </tbody>\n",
       "</table>\n",
       "</div>"
      ],
      "text/plain": [
       "   Unnamed: 0   review_id          product_id          reviewer_id  stars  \\\n",
       "0           0  es_0038754  product_es_0113523  reviewer_es_0580071      1   \n",
       "1           1  es_0748979  product_es_0017036  reviewer_es_0819733      1   \n",
       "2           2  es_0411746  product_es_0138642  reviewer_es_0508607      1   \n",
       "3           3  es_0786686  product_es_0170887  reviewer_es_0491157      1   \n",
       "4           4  es_0429700  product_es_0710642  reviewer_es_0008745      1   \n",
       "\n",
       "                                         review_body  \\\n",
       "0  llegar articulo mandar correo normal seguimien...   \n",
       "1                         mensajería horrible compro   \n",
       "2  decepcionado vendedor pedido llegar a y cumpli...   \n",
       "3  valoración producto amazon ofreceis producto a...   \n",
       "4  interés libro y probar versión kindle abrir po...   \n",
       "\n",
       "                    review_title language        product_category  \n",
       "0                         llegar       es                wireless  \n",
       "1  amazon seguir cumplir entrega       es                    home  \n",
       "2                   ESTAFA envío       es                     toy  \n",
       "3                  Estafa Amazon       es                    home  \n",
       "4  conseguí pasar portada Kindle       es  digital_ebook_purchase  "
      ]
     },
     "execution_count": 29,
     "metadata": {},
     "output_type": "execute_result"
    }
   ],
   "source": [
    "dataset_test = pd.read_csv('dataset_test.csv') \n",
    "dataset_test.head()"
   ]
  },
  {
   "cell_type": "code",
   "execution_count": 30,
   "metadata": {},
   "outputs": [
    {
     "data": {
      "text/plain": [
       "(5000, 9)"
      ]
     },
     "execution_count": 30,
     "metadata": {},
     "output_type": "execute_result"
    }
   ],
   "source": [
    "dataset_test.shape"
   ]
  },
  {
   "cell_type": "markdown",
   "metadata": {},
   "source": [
    "**Como el DS TRAIN contiene una gran cantidad de datos, vamos a tomar una muestra del mismo para su análisis, luego evaluaremos sobre todo el dataset**"
   ]
  },
  {
   "cell_type": "code",
   "execution_count": 31,
   "metadata": {},
   "outputs": [
    {
     "data": {
      "text/html": [
       "<div>\n",
       "<style scoped>\n",
       "    .dataframe tbody tr th:only-of-type {\n",
       "        vertical-align: middle;\n",
       "    }\n",
       "\n",
       "    .dataframe tbody tr th {\n",
       "        vertical-align: top;\n",
       "    }\n",
       "\n",
       "    .dataframe thead th {\n",
       "        text-align: right;\n",
       "    }\n",
       "</style>\n",
       "<table border=\"1\" class=\"dataframe\">\n",
       "  <thead>\n",
       "    <tr style=\"text-align: right;\">\n",
       "      <th></th>\n",
       "      <th>Unnamed: 0</th>\n",
       "      <th>review_id</th>\n",
       "      <th>product_id</th>\n",
       "      <th>reviewer_id</th>\n",
       "      <th>stars</th>\n",
       "      <th>review_body</th>\n",
       "      <th>review_title</th>\n",
       "      <th>language</th>\n",
       "      <th>product_category</th>\n",
       "    </tr>\n",
       "  </thead>\n",
       "  <tbody>\n",
       "    <tr>\n",
       "      <th>74908</th>\n",
       "      <td>74908</td>\n",
       "      <td>es_0101647</td>\n",
       "      <td>product_es_0450032</td>\n",
       "      <td>reviewer_es_0608549</td>\n",
       "      <td>2</td>\n",
       "      <td>embalar retrasar</td>\n",
       "      <td>venir sucio</td>\n",
       "      <td>es</td>\n",
       "      <td>home</td>\n",
       "    </tr>\n",
       "    <tr>\n",
       "      <th>190142</th>\n",
       "      <td>190142</td>\n",
       "      <td>es_0302856</td>\n",
       "      <td>product_es_0907235</td>\n",
       "      <td>reviewer_es_0714115</td>\n",
       "      <td>5</td>\n",
       "      <td>regalamos a sobrina 12 año fan serie encantar ...</td>\n",
       "      <td>regalo</td>\n",
       "      <td>es</td>\n",
       "      <td>jewelry</td>\n",
       "    </tr>\n",
       "    <tr>\n",
       "      <th>146398</th>\n",
       "      <td>146398</td>\n",
       "      <td>es_0948829</td>\n",
       "      <td>product_es_0063764</td>\n",
       "      <td>reviewer_es_0178095</td>\n",
       "      <td>4</td>\n",
       "      <td>correa tardar llegar a merecer pena</td>\n",
       "      <td>NaN</td>\n",
       "      <td>es</td>\n",
       "      <td>sports</td>\n",
       "    </tr>\n",
       "    <tr>\n",
       "      <th>119731</th>\n",
       "      <td>119731</td>\n",
       "      <td>es_0065556</td>\n",
       "      <td>product_es_0845916</td>\n",
       "      <td>reviewer_es_0636981</td>\n",
       "      <td>3</td>\n",
       "      <td>probar quitar punto negro probé farmacia y noche</td>\n",
       "      <td>NaN</td>\n",
       "      <td>es</td>\n",
       "      <td>beauty</td>\n",
       "    </tr>\n",
       "    <tr>\n",
       "      <th>31203</th>\n",
       "      <td>31203</td>\n",
       "      <td>es_0009633</td>\n",
       "      <td>product_es_0155896</td>\n",
       "      <td>reviewer_es_0229708</td>\n",
       "      <td>1</td>\n",
       "      <td>quedar satisfecho modelo 2019 y especifique fu...</td>\n",
       "      <td>Funda y movil incompatible</td>\n",
       "      <td>es</td>\n",
       "      <td>home</td>\n",
       "    </tr>\n",
       "    <tr>\n",
       "      <th>...</th>\n",
       "      <td>...</td>\n",
       "      <td>...</td>\n",
       "      <td>...</td>\n",
       "      <td>...</td>\n",
       "      <td>...</td>\n",
       "      <td>...</td>\n",
       "      <td>...</td>\n",
       "      <td>...</td>\n",
       "      <td>...</td>\n",
       "    </tr>\n",
       "    <tr>\n",
       "      <th>27363</th>\n",
       "      <td>27363</td>\n",
       "      <td>es_0078673</td>\n",
       "      <td>product_es_0270175</td>\n",
       "      <td>reviewer_es_0358567</td>\n",
       "      <td>1</td>\n",
       "      <td>poner él evitar presencia mota y fácil instala...</td>\n",
       "      <td>recomendable</td>\n",
       "      <td>es</td>\n",
       "      <td>wireless</td>\n",
       "    </tr>\n",
       "    <tr>\n",
       "      <th>190047</th>\n",
       "      <td>190047</td>\n",
       "      <td>es_0144389</td>\n",
       "      <td>product_es_0785813</td>\n",
       "      <td>reviewer_es_0369290</td>\n",
       "      <td>5</td>\n",
       "      <td>perfecta niño y adolescente ocupar espacio y c...</td>\n",
       "      <td>Perfecta</td>\n",
       "      <td>es</td>\n",
       "      <td>furniture</td>\n",
       "    </tr>\n",
       "    <tr>\n",
       "      <th>89201</th>\n",
       "      <td>89201</td>\n",
       "      <td>es_0805021</td>\n",
       "      <td>product_es_0167570</td>\n",
       "      <td>reviewer_es_0114986</td>\n",
       "      <td>3</td>\n",
       "      <td>irritar piel crema</td>\n",
       "      <td>a piel funcionar</td>\n",
       "      <td>es</td>\n",
       "      <td>beauty</td>\n",
       "    </tr>\n",
       "    <tr>\n",
       "      <th>37053</th>\n",
       "      <td>37053</td>\n",
       "      <td>es_0680350</td>\n",
       "      <td>product_es_0790523</td>\n",
       "      <td>reviewer_es_0367273</td>\n",
       "      <td>1</td>\n",
       "      <td>compro y venir rueda eje querer devolver él pe...</td>\n",
       "      <td>esperar respuesta Amazon comentario</td>\n",
       "      <td>es</td>\n",
       "      <td>lawn_and_garden</td>\n",
       "    </tr>\n",
       "    <tr>\n",
       "      <th>108388</th>\n",
       "      <td>108388</td>\n",
       "      <td>es_0009736</td>\n",
       "      <td>product_es_0430822</td>\n",
       "      <td>reviewer_es_0739409</td>\n",
       "      <td>3</td>\n",
       "      <td>salir y hoja grueso</td>\n",
       "      <td>Funciona basico</td>\n",
       "      <td>es</td>\n",
       "      <td>home</td>\n",
       "    </tr>\n",
       "  </tbody>\n",
       "</table>\n",
       "<p>1000 rows × 9 columns</p>\n",
       "</div>"
      ],
      "text/plain": [
       "        Unnamed: 0   review_id          product_id          reviewer_id  \\\n",
       "74908        74908  es_0101647  product_es_0450032  reviewer_es_0608549   \n",
       "190142      190142  es_0302856  product_es_0907235  reviewer_es_0714115   \n",
       "146398      146398  es_0948829  product_es_0063764  reviewer_es_0178095   \n",
       "119731      119731  es_0065556  product_es_0845916  reviewer_es_0636981   \n",
       "31203        31203  es_0009633  product_es_0155896  reviewer_es_0229708   \n",
       "...            ...         ...                 ...                  ...   \n",
       "27363        27363  es_0078673  product_es_0270175  reviewer_es_0358567   \n",
       "190047      190047  es_0144389  product_es_0785813  reviewer_es_0369290   \n",
       "89201        89201  es_0805021  product_es_0167570  reviewer_es_0114986   \n",
       "37053        37053  es_0680350  product_es_0790523  reviewer_es_0367273   \n",
       "108388      108388  es_0009736  product_es_0430822  reviewer_es_0739409   \n",
       "\n",
       "        stars                                        review_body  \\\n",
       "74908       2                                   embalar retrasar   \n",
       "190142      5  regalamos a sobrina 12 año fan serie encantar ...   \n",
       "146398      4                correa tardar llegar a merecer pena   \n",
       "119731      3   probar quitar punto negro probé farmacia y noche   \n",
       "31203       1  quedar satisfecho modelo 2019 y especifique fu...   \n",
       "...       ...                                                ...   \n",
       "27363       1  poner él evitar presencia mota y fácil instala...   \n",
       "190047      5  perfecta niño y adolescente ocupar espacio y c...   \n",
       "89201       3                                 irritar piel crema   \n",
       "37053       1  compro y venir rueda eje querer devolver él pe...   \n",
       "108388      3                                salir y hoja grueso   \n",
       "\n",
       "                               review_title language product_category  \n",
       "74908                           venir sucio       es             home  \n",
       "190142                               regalo       es          jewelry  \n",
       "146398                                  NaN       es           sports  \n",
       "119731                                  NaN       es           beauty  \n",
       "31203            Funda y movil incompatible       es             home  \n",
       "...                                     ...      ...              ...  \n",
       "27363                          recomendable       es         wireless  \n",
       "190047                             Perfecta       es        furniture  \n",
       "89201                      a piel funcionar       es           beauty  \n",
       "37053   esperar respuesta Amazon comentario       es  lawn_and_garden  \n",
       "108388                      Funciona basico       es             home  \n",
       "\n",
       "[1000 rows x 9 columns]"
      ]
     },
     "execution_count": 31,
     "metadata": {},
     "output_type": "execute_result"
    }
   ],
   "source": [
    "dataset_train_dos = dataset_train.sample( n= 1000, weights=np.ones(dataset_train.shape[0]), random_state = 42)\n",
    "dataset_train_dos"
   ]
  },
  {
   "cell_type": "code",
   "execution_count": 32,
   "metadata": {},
   "outputs": [
    {
     "data": {
      "text/plain": [
       "1    40000\n",
       "2    40000\n",
       "3    40000\n",
       "4    40000\n",
       "5    40000\n",
       "Name: stars, dtype: int64"
      ]
     },
     "execution_count": 32,
     "metadata": {},
     "output_type": "execute_result"
    }
   ],
   "source": [
    "dataset_train.stars.value_counts()"
   ]
  },
  {
   "cell_type": "code",
   "execution_count": 33,
   "metadata": {},
   "outputs": [
    {
     "data": {
      "text/plain": [
       "1    225\n",
       "5    199\n",
       "2    196\n",
       "3    193\n",
       "4    187\n",
       "Name: stars, dtype: int64"
      ]
     },
     "execution_count": 33,
     "metadata": {},
     "output_type": "execute_result"
    }
   ],
   "source": [
    "dataset_train_dos.stars.value_counts()"
   ]
  },
  {
   "cell_type": "markdown",
   "metadata": {},
   "source": [
    "**Benchmark**"
   ]
  },
  {
   "cell_type": "markdown",
   "metadata": {},
   "source": [
    "**Vectorización TF-IDF**"
   ]
  },
  {
   "cell_type": "markdown",
   "metadata": {},
   "source": [
    "Tomamos X del DS train y del DS dev y comparamos su desempeño sobre **Review_body**"
   ]
  },
  {
   "cell_type": "code",
   "execution_count": 34,
   "metadata": {},
   "outputs": [],
   "source": [
    "tfidf_body = TfidfVectorizer (analyzer = 'word', max_features = 1000)\n",
    "X_ds_train_body = tfidf_body.fit_transform(dataset_train_dos['review_body'].values.astype('U')) \n",
    "y_ds_train_body = dataset_train_dos ['stars']"
   ]
  },
  {
   "cell_type": "code",
   "execution_count": 35,
   "metadata": {},
   "outputs": [],
   "source": [
    "X_ds_dev_body = tfidf_body.transform(dataset_dev['review_body'].values.astype('U')) \n",
    "y_ds_dev_body = dataset_dev['stars']"
   ]
  },
  {
   "cell_type": "raw",
   "metadata": {},
   "source": [
    "X_ds_dev"
   ]
  },
  {
   "cell_type": "code",
   "execution_count": 36,
   "metadata": {},
   "outputs": [
    {
     "data": {
      "text/plain": [
       "74908     2\n",
       "190142    5\n",
       "146398    4\n",
       "119731    3\n",
       "31203     1\n",
       "         ..\n",
       "27363     1\n",
       "190047    5\n",
       "89201     3\n",
       "37053     1\n",
       "108388    3\n",
       "Name: stars, Length: 1000, dtype: int64"
      ]
     },
     "execution_count": 36,
     "metadata": {},
     "output_type": "execute_result"
    }
   ],
   "source": [
    "y_ds_train_body"
   ]
  },
  {
   "cell_type": "markdown",
   "metadata": {},
   "source": [
    "**OVO - One vs One Classifier**"
   ]
  },
  {
   "cell_type": "code",
   "execution_count": 37,
   "metadata": {},
   "outputs": [],
   "source": [
    "modelo_train= OneVsOneClassifier(LinearSVC(random_state = 42)).fit(X_ds_train_body,y_ds_train_body)\n",
    "y_dev_pred= modelo_train.predict(X_ds_dev_body)"
   ]
  },
  {
   "cell_type": "code",
   "execution_count": 38,
   "metadata": {},
   "outputs": [
    {
     "data": {
      "text/plain": [
       "OneVsOneClassifier(estimator=LinearSVC(random_state=42))"
      ]
     },
     "execution_count": 38,
     "metadata": {},
     "output_type": "execute_result"
    }
   ],
   "source": [
    "modelo_train"
   ]
  },
  {
   "cell_type": "code",
   "execution_count": 39,
   "metadata": {},
   "outputs": [
    {
     "data": {
      "text/plain": [
       "array([2, 1, 4, ..., 4, 5, 4], dtype=int64)"
      ]
     },
     "execution_count": 39,
     "metadata": {},
     "output_type": "execute_result"
    }
   ],
   "source": [
    "y_dev_pred"
   ]
  },
  {
   "cell_type": "code",
   "execution_count": 40,
   "metadata": {},
   "outputs": [
    {
     "name": "stdout",
     "output_type": "stream",
     "text": [
      "              precision    recall  f1-score   support\n",
      "\n",
      "           1       0.42      0.52      0.47      1000\n",
      "           2       0.26      0.27      0.27      1000\n",
      "           3       0.27      0.27      0.27      1000\n",
      "           4       0.29      0.26      0.27      1000\n",
      "           5       0.43      0.37      0.40      1000\n",
      "\n",
      "    accuracy                           0.34      5000\n",
      "   macro avg       0.34      0.34      0.34      5000\n",
      "weighted avg       0.34      0.34      0.34      5000\n",
      "\n"
     ]
    }
   ],
   "source": [
    "print(classification_report(y_ds_dev_body, y_dev_pred))"
   ]
  },
  {
   "cell_type": "markdown",
   "metadata": {},
   "source": [
    "Vectorizamos **Review_title**"
   ]
  },
  {
   "cell_type": "code",
   "execution_count": 41,
   "metadata": {},
   "outputs": [],
   "source": [
    "tfidf_title = TfidfVectorizer (analyzer = 'word', max_features = 1000)\n",
    "X_ds_train_title = tfidf_title.fit_transform(dataset_train_dos['review_title'].values.astype('U')) \n",
    "y_ds_train_body = dataset_train_dos ['stars']"
   ]
  },
  {
   "cell_type": "code",
   "execution_count": 42,
   "metadata": {},
   "outputs": [],
   "source": [
    "X_ds_dev_title = tfidf_title.transform(dataset_dev['review_title'].values.astype('U')) \n",
    "y_ds_dev_body = dataset_dev['stars']"
   ]
  },
  {
   "cell_type": "markdown",
   "metadata": {},
   "source": [
    "**Concatenamos review body y review title**"
   ]
  },
  {
   "cell_type": "code",
   "execution_count": 43,
   "metadata": {},
   "outputs": [],
   "source": [
    "X_train_bt = sparse.hstack((X_ds_train_body, X_ds_train_title))\n",
    "X_dev_bt =sparse.hstack((X_ds_dev_body, X_ds_dev_title))"
   ]
  },
  {
   "cell_type": "markdown",
   "metadata": {},
   "source": [
    "**Random Forest Classifier**"
   ]
  },
  {
   "cell_type": "code",
   "execution_count": 44,
   "metadata": {},
   "outputs": [],
   "source": [
    "modelo_train_rf= OneVsOneClassifier(RandomForestClassifier(random_state = 42)).fit(X_train_bt, y_ds_train_body)\n",
    "y_dev_pred_rf= modelo_train_rf.predict(X_dev_bt)"
   ]
  },
  {
   "cell_type": "code",
   "execution_count": 45,
   "metadata": {},
   "outputs": [
    {
     "name": "stdout",
     "output_type": "stream",
     "text": [
      "              precision    recall  f1-score   support\n",
      "\n",
      "           1       0.47      0.60      0.52      1000\n",
      "           2       0.28      0.19      0.23      1000\n",
      "           3       0.27      0.43      0.33      1000\n",
      "           4       0.35      0.19      0.25      1000\n",
      "           5       0.48      0.41      0.44      1000\n",
      "\n",
      "    accuracy                           0.37      5000\n",
      "   macro avg       0.37      0.37      0.35      5000\n",
      "weighted avg       0.37      0.37      0.35      5000\n",
      "\n"
     ]
    }
   ],
   "source": [
    "print(classification_report(y_ds_dev_body, y_dev_pred_rf))"
   ]
  },
  {
   "cell_type": "code",
   "execution_count": 46,
   "metadata": {},
   "outputs": [],
   "source": [
    "modelo_train_scv= OneVsOneClassifier(LinearSVC(random_state = 42)).fit(X_train_bt,y_ds_train_body)\n",
    "y_dev_pred_scv= modelo_train_scv.predict(X_dev_bt)"
   ]
  },
  {
   "cell_type": "code",
   "execution_count": 47,
   "metadata": {},
   "outputs": [
    {
     "name": "stdout",
     "output_type": "stream",
     "text": [
      "              precision    recall  f1-score   support\n",
      "\n",
      "           1       0.46      0.55      0.50      1000\n",
      "           2       0.30      0.29      0.30      1000\n",
      "           3       0.29      0.30      0.29      1000\n",
      "           4       0.31      0.28      0.29      1000\n",
      "           5       0.48      0.43      0.45      1000\n",
      "\n",
      "    accuracy                           0.37      5000\n",
      "   macro avg       0.37      0.37      0.37      5000\n",
      "weighted avg       0.37      0.37      0.37      5000\n",
      "\n"
     ]
    }
   ],
   "source": [
    "print(classification_report(y_ds_dev_body, y_dev_pred_scv))"
   ]
  },
  {
   "cell_type": "markdown",
   "metadata": {},
   "source": [
    "**Hiperparametros con Random Forest**"
   ]
  },
  {
   "cell_type": "code",
   "execution_count": 48,
   "metadata": {},
   "outputs": [
    {
     "name": "stdout",
     "output_type": "stream",
     "text": [
      "(0.3654,) (150,) 350\n"
     ]
    }
   ],
   "source": [
    "n_estimators_list = [50,100,150]\n",
    "max_depth_list = [150,300,350]\n",
    "\n",
    "best_n_estimators = None \n",
    "best_max_depth = None\n",
    "\n",
    "best_accuracy = 0\n",
    "combinations = [(n_estimators, max_depth)for n_estimators in n_estimators_list for max_depth in max_depth_list]\n",
    "\n",
    "for n_estimators, max_depth in combinations:\n",
    "    modelo_train_mx = OneVsOneClassifier(RandomForestClassifier(random_state = 42,n_estimators = n_estimators, max_depth = max_depth))\n",
    "    modelo_train_mx.fit(X_ds_train_title, y_ds_train_body)\n",
    "    y_dev_pref_mx = modelo_train_mx.predict (X_ds_dev_title)\n",
    "\n",
    "    current_accuracy = accuracy_score (y_ds_dev_body, y_dev_pred_rf)\n",
    "    if current_accuracy >= best_accuracy:\n",
    "        best_accuracy = current_accuracy,\n",
    "        best_n_estimators =n_estimators,\n",
    "        best_max_depth = max_depth\n",
    "        \n",
    "print (best_accuracy, best_n_estimators, best_max_depth)\n",
    "\n"
   ]
  },
  {
   "cell_type": "code",
   "execution_count": 49,
   "metadata": {},
   "outputs": [
    {
     "name": "stdout",
     "output_type": "stream",
     "text": [
      "(0.3654,) (150,) 350\n"
     ]
    }
   ],
   "source": [
    "print (best_accuracy, best_n_estimators, best_max_depth)"
   ]
  },
  {
   "cell_type": "markdown",
   "metadata": {},
   "source": [
    "**Hiperparametros con SVC**"
   ]
  },
  {
   "cell_type": "code",
   "execution_count": 50,
   "metadata": {},
   "outputs": [
    {
     "name": "stdout",
     "output_type": "stream",
     "text": [
      "(0.323,) 2 l2\n"
     ]
    }
   ],
   "source": [
    "max_c = [0.5,1,2,3,3.5]\n",
    "max_penalty = ['l2']\n",
    "\n",
    "best_c = None \n",
    "best_penalty = None\n",
    "\n",
    "mejor_accuracy = 0\n",
    "combinations = [(C, penalty)for C in max_c for penalty in max_penalty]\n",
    "\n",
    "for C, penalty in combinations:\n",
    "    modelo_train_svc = OneVsOneClassifier(LinearSVC(C = C,  penalty = penalty))\n",
    "    modelo_train_svc.fit(X_ds_train_title, y_ds_train_body)\n",
    "    y_dev_pred_svc = modelo_train_svc.predict (X_ds_dev_title)\n",
    "\n",
    "    current_accuracy_svc = accuracy_score (y_ds_dev_body, y_dev_pred_svc)\n",
    "    if current_accuracy_svc >= mejor_accuracy:\n",
    "        mejor_accuracy = current_accuracy_svc,\n",
    "        best_c = C\n",
    "        best_penalty = penalty\n",
    "        \n",
    "print (mejor_accuracy, best_c, best_penalty)"
   ]
  },
  {
   "cell_type": "markdown",
   "metadata": {},
   "source": [
    "**Importamos los DS de TRAIN y TEST y los preparamos para evaluar** "
   ]
  },
  {
   "cell_type": "code",
   "execution_count": 51,
   "metadata": {},
   "outputs": [
    {
     "data": {
      "text/html": [
       "<div>\n",
       "<style scoped>\n",
       "    .dataframe tbody tr th:only-of-type {\n",
       "        vertical-align: middle;\n",
       "    }\n",
       "\n",
       "    .dataframe tbody tr th {\n",
       "        vertical-align: top;\n",
       "    }\n",
       "\n",
       "    .dataframe thead th {\n",
       "        text-align: right;\n",
       "    }\n",
       "</style>\n",
       "<table border=\"1\" class=\"dataframe\">\n",
       "  <thead>\n",
       "    <tr style=\"text-align: right;\">\n",
       "      <th></th>\n",
       "      <th>Unnamed: 0</th>\n",
       "      <th>review_id</th>\n",
       "      <th>product_id</th>\n",
       "      <th>reviewer_id</th>\n",
       "      <th>stars</th>\n",
       "      <th>review_body</th>\n",
       "      <th>review_title</th>\n",
       "      <th>language</th>\n",
       "      <th>product_category</th>\n",
       "    </tr>\n",
       "  </thead>\n",
       "  <tbody>\n",
       "    <tr>\n",
       "      <th>0</th>\n",
       "      <td>0</td>\n",
       "      <td>es_0038754</td>\n",
       "      <td>product_es_0113523</td>\n",
       "      <td>reviewer_es_0580071</td>\n",
       "      <td>1</td>\n",
       "      <td>llegar articulo mandar correo normal seguimien...</td>\n",
       "      <td>llegar</td>\n",
       "      <td>es</td>\n",
       "      <td>wireless</td>\n",
       "    </tr>\n",
       "    <tr>\n",
       "      <th>1</th>\n",
       "      <td>1</td>\n",
       "      <td>es_0748979</td>\n",
       "      <td>product_es_0017036</td>\n",
       "      <td>reviewer_es_0819733</td>\n",
       "      <td>1</td>\n",
       "      <td>mensajería horrible compro</td>\n",
       "      <td>amazon seguir cumplir entrega</td>\n",
       "      <td>es</td>\n",
       "      <td>home</td>\n",
       "    </tr>\n",
       "    <tr>\n",
       "      <th>2</th>\n",
       "      <td>2</td>\n",
       "      <td>es_0411746</td>\n",
       "      <td>product_es_0138642</td>\n",
       "      <td>reviewer_es_0508607</td>\n",
       "      <td>1</td>\n",
       "      <td>decepcionado vendedor pedido llegar a y cumpli...</td>\n",
       "      <td>ESTAFA envío</td>\n",
       "      <td>es</td>\n",
       "      <td>toy</td>\n",
       "    </tr>\n",
       "    <tr>\n",
       "      <th>3</th>\n",
       "      <td>3</td>\n",
       "      <td>es_0786686</td>\n",
       "      <td>product_es_0170887</td>\n",
       "      <td>reviewer_es_0491157</td>\n",
       "      <td>1</td>\n",
       "      <td>valoración producto amazon ofreceis producto a...</td>\n",
       "      <td>Estafa Amazon</td>\n",
       "      <td>es</td>\n",
       "      <td>home</td>\n",
       "    </tr>\n",
       "    <tr>\n",
       "      <th>4</th>\n",
       "      <td>4</td>\n",
       "      <td>es_0429700</td>\n",
       "      <td>product_es_0710642</td>\n",
       "      <td>reviewer_es_0008745</td>\n",
       "      <td>1</td>\n",
       "      <td>interés libro y probar versión kindle abrir po...</td>\n",
       "      <td>conseguí pasar portada Kindle</td>\n",
       "      <td>es</td>\n",
       "      <td>digital_ebook_purchase</td>\n",
       "    </tr>\n",
       "  </tbody>\n",
       "</table>\n",
       "</div>"
      ],
      "text/plain": [
       "   Unnamed: 0   review_id          product_id          reviewer_id  stars  \\\n",
       "0           0  es_0038754  product_es_0113523  reviewer_es_0580071      1   \n",
       "1           1  es_0748979  product_es_0017036  reviewer_es_0819733      1   \n",
       "2           2  es_0411746  product_es_0138642  reviewer_es_0508607      1   \n",
       "3           3  es_0786686  product_es_0170887  reviewer_es_0491157      1   \n",
       "4           4  es_0429700  product_es_0710642  reviewer_es_0008745      1   \n",
       "\n",
       "                                         review_body  \\\n",
       "0  llegar articulo mandar correo normal seguimien...   \n",
       "1                         mensajería horrible compro   \n",
       "2  decepcionado vendedor pedido llegar a y cumpli...   \n",
       "3  valoración producto amazon ofreceis producto a...   \n",
       "4  interés libro y probar versión kindle abrir po...   \n",
       "\n",
       "                    review_title language        product_category  \n",
       "0                         llegar       es                wireless  \n",
       "1  amazon seguir cumplir entrega       es                    home  \n",
       "2                   ESTAFA envío       es                     toy  \n",
       "3                  Estafa Amazon       es                    home  \n",
       "4  conseguí pasar portada Kindle       es  digital_ebook_purchase  "
      ]
     },
     "execution_count": 51,
     "metadata": {},
     "output_type": "execute_result"
    }
   ],
   "source": [
    "ds_test = pd.read_csv('dataset_test.csv') \n",
    "ds_test.head()"
   ]
  },
  {
   "cell_type": "code",
   "execution_count": 52,
   "metadata": {},
   "outputs": [
    {
     "data": {
      "text/html": [
       "<div>\n",
       "<style scoped>\n",
       "    .dataframe tbody tr th:only-of-type {\n",
       "        vertical-align: middle;\n",
       "    }\n",
       "\n",
       "    .dataframe tbody tr th {\n",
       "        vertical-align: top;\n",
       "    }\n",
       "\n",
       "    .dataframe thead th {\n",
       "        text-align: right;\n",
       "    }\n",
       "</style>\n",
       "<table border=\"1\" class=\"dataframe\">\n",
       "  <thead>\n",
       "    <tr style=\"text-align: right;\">\n",
       "      <th></th>\n",
       "      <th>Unnamed: 0</th>\n",
       "      <th>review_id</th>\n",
       "      <th>product_id</th>\n",
       "      <th>reviewer_id</th>\n",
       "      <th>stars</th>\n",
       "      <th>review_body</th>\n",
       "      <th>review_title</th>\n",
       "      <th>language</th>\n",
       "      <th>product_category</th>\n",
       "    </tr>\n",
       "  </thead>\n",
       "  <tbody>\n",
       "    <tr>\n",
       "      <th>0</th>\n",
       "      <td>0</td>\n",
       "      <td>es_0491108</td>\n",
       "      <td>product_es_0296024</td>\n",
       "      <td>reviewer_es_0999081</td>\n",
       "      <td>1</td>\n",
       "      <td>kar pantalla 8 mes y recibir respuesta fabricante</td>\n",
       "      <td>television Nevir</td>\n",
       "      <td>es</td>\n",
       "      <td>electronics</td>\n",
       "    </tr>\n",
       "    <tr>\n",
       "      <th>1</th>\n",
       "      <td>1</td>\n",
       "      <td>es_0869872</td>\n",
       "      <td>product_es_0922286</td>\n",
       "      <td>reviewer_es_0216771</td>\n",
       "      <td>1</td>\n",
       "      <td>horrible comprar inglés informático hora capaz...</td>\n",
       "      <td>Dinero tirado a basura compro</td>\n",
       "      <td>es</td>\n",
       "      <td>electronics</td>\n",
       "    </tr>\n",
       "    <tr>\n",
       "      <th>2</th>\n",
       "      <td>2</td>\n",
       "      <td>es_0811721</td>\n",
       "      <td>product_es_0474543</td>\n",
       "      <td>reviewer_es_0929213</td>\n",
       "      <td>1</td>\n",
       "      <td>obligar a comprar unidad y llegar y forma recl...</td>\n",
       "      <td>llegar unidad obligar a comprar</td>\n",
       "      <td>es</td>\n",
       "      <td>drugstore</td>\n",
       "    </tr>\n",
       "    <tr>\n",
       "      <th>3</th>\n",
       "      <td>3</td>\n",
       "      <td>es_0359921</td>\n",
       "      <td>product_es_0656090</td>\n",
       "      <td>reviewer_es_0224702</td>\n",
       "      <td>1</td>\n",
       "      <td>entrar descalificar vendedor mes espera .... s...</td>\n",
       "      <td>PRODUCTO RECIBIDO</td>\n",
       "      <td>es</td>\n",
       "      <td>wireless</td>\n",
       "    </tr>\n",
       "    <tr>\n",
       "      <th>4</th>\n",
       "      <td>4</td>\n",
       "      <td>es_0068940</td>\n",
       "      <td>product_es_0662544</td>\n",
       "      <td>reviewer_es_0224827</td>\n",
       "      <td>1</td>\n",
       "      <td>llegar y co talla equivocado</td>\n",
       "      <td>Devuelto</td>\n",
       "      <td>es</td>\n",
       "      <td>shoes</td>\n",
       "    </tr>\n",
       "  </tbody>\n",
       "</table>\n",
       "</div>"
      ],
      "text/plain": [
       "   Unnamed: 0   review_id          product_id          reviewer_id  stars  \\\n",
       "0           0  es_0491108  product_es_0296024  reviewer_es_0999081      1   \n",
       "1           1  es_0869872  product_es_0922286  reviewer_es_0216771      1   \n",
       "2           2  es_0811721  product_es_0474543  reviewer_es_0929213      1   \n",
       "3           3  es_0359921  product_es_0656090  reviewer_es_0224702      1   \n",
       "4           4  es_0068940  product_es_0662544  reviewer_es_0224827      1   \n",
       "\n",
       "                                         review_body  \\\n",
       "0  kar pantalla 8 mes y recibir respuesta fabricante   \n",
       "1  horrible comprar inglés informático hora capaz...   \n",
       "2  obligar a comprar unidad y llegar y forma recl...   \n",
       "3  entrar descalificar vendedor mes espera .... s...   \n",
       "4                       llegar y co talla equivocado   \n",
       "\n",
       "                      review_title language product_category  \n",
       "0                 television Nevir       es      electronics  \n",
       "1    Dinero tirado a basura compro       es      electronics  \n",
       "2  llegar unidad obligar a comprar       es        drugstore  \n",
       "3                PRODUCTO RECIBIDO       es         wireless  \n",
       "4                         Devuelto       es            shoes  "
      ]
     },
     "execution_count": 52,
     "metadata": {},
     "output_type": "execute_result"
    }
   ],
   "source": [
    "ds_train = pd.read_csv('dataset_train.csv') \n",
    "ds_train.head()"
   ]
  },
  {
   "cell_type": "markdown",
   "metadata": {},
   "source": [
    "**Aplicamos TF-IDF sobre Review body y review title de cada DS**"
   ]
  },
  {
   "cell_type": "code",
   "execution_count": 53,
   "metadata": {},
   "outputs": [],
   "source": [
    "tfidf_titulo = TfidfVectorizer (analyzer = 'word', max_features = 1000)\n",
    "X_test_titulo = tfidf_titulo.fit_transform(ds_test['review_title'].values.astype('U')) \n",
    "y_test = ds_test ['stars']"
   ]
  },
  {
   "cell_type": "code",
   "execution_count": 54,
   "metadata": {},
   "outputs": [],
   "source": [
    "X_train_titulo = tfidf_titulo.transform(ds_train['review_title'].values.astype('U')) \n",
    "y_train = ds_train['stars']"
   ]
  },
  {
   "cell_type": "code",
   "execution_count": 55,
   "metadata": {},
   "outputs": [],
   "source": [
    "X_test_body = tfidf_titulo.fit_transform(ds_test['review_body'].values.astype('U')) \n",
    "y_test = ds_test ['stars']"
   ]
  },
  {
   "cell_type": "code",
   "execution_count": 56,
   "metadata": {},
   "outputs": [],
   "source": [
    "X_train_body = tfidf_titulo.transform(ds_train['review_body'].values.astype('U')) \n",
    "y_train = ds_train['stars']"
   ]
  },
  {
   "cell_type": "markdown",
   "metadata": {},
   "source": [
    "Concatenamos body y title"
   ]
  },
  {
   "cell_type": "code",
   "execution_count": 57,
   "metadata": {},
   "outputs": [],
   "source": [
    "X_train_concat = sparse.hstack((X_train_titulo, X_train_body))\n",
    "X_test_concat =sparse.hstack((X_test_titulo, X_test_body))"
   ]
  },
  {
   "cell_type": "code",
   "execution_count": 58,
   "metadata": {},
   "outputs": [
    {
     "data": {
      "text/plain": [
       "<200000x2000 sparse matrix of type '<class 'numpy.float64'>'\n",
       "\twith 1645078 stored elements in COOrdinate format>"
      ]
     },
     "execution_count": 58,
     "metadata": {},
     "output_type": "execute_result"
    }
   ],
   "source": [
    "X_train_concat"
   ]
  },
  {
   "cell_type": "code",
   "execution_count": 59,
   "metadata": {},
   "outputs": [
    {
     "data": {
      "text/plain": [
       "<5000x2000 sparse matrix of type '<class 'numpy.float64'>'\n",
       "\twith 43142 stored elements in COOrdinate format>"
      ]
     },
     "execution_count": 59,
     "metadata": {},
     "output_type": "execute_result"
    }
   ],
   "source": [
    "X_test_concat"
   ]
  },
  {
   "cell_type": "code",
   "execution_count": 60,
   "metadata": {},
   "outputs": [
    {
     "name": "stdout",
     "output_type": "stream",
     "text": [
      "0.4838\n"
     ]
    }
   ],
   "source": [
    "modelo_final = OneVsOneClassifier(RandomForestClassifier(random_state = 42,n_estimators = 150 , max_depth = 350 ))\n",
    "modelo_final.fit(X_train_concat, y_train)\n",
    "predi = modelo_final.predict (X_test_concat)\n",
    "print(accuracy_score (y_test, predi))"
   ]
  },
  {
   "cell_type": "markdown",
   "metadata": {},
   "source": [
    "**Matriz de confusión**"
   ]
  },
  {
   "cell_type": "code",
   "execution_count": 61,
   "metadata": {},
   "outputs": [],
   "source": [
    "from sklearn.metrics import confusion_matrix\n",
    "import seaborn as sns\n",
    "lista=[1,2,3,4,5]\n",
    "\n",
    "def confusion(y_test,predi):\n",
    "    names= lista\n",
    "    cm=confusion_matrix(y_test,predi)\n",
    "    f,ax=plt.subplots(figsize=(5,5))\n",
    "    sns.heatmap(cm,annot=True,linewidth=.5,linecolor=\"r\",fmt=\".0f\",ax=ax)\n",
    "    plt.xlabel(\"y_pred\")\n",
    "    plt.ylabel(\"y_true\")\n",
    "    ax.set_xticklabels(names)\n",
    "    ax.set_yticklabels(names)\n",
    "    plt.show()\n",
    "\n",
    "    return"
   ]
  },
  {
   "cell_type": "code",
   "execution_count": 62,
   "metadata": {},
   "outputs": [
    {
     "data": {
      "image/png": "[encoded data removed]",
      "text/plain": [
       "<Figure size 360x360 with 2 Axes>"
      ]
     },
     "metadata": {},
     "output_type": "display_data"
    }
   ],
   "source": [
    "confusion (y_test, predi)"
   ]
  },
  {
   "cell_type": "markdown",
   "metadata": {},
   "source": [
    "Al graficar la matriz de confusión podemos encontrar 2 bloques dividos: 1/2 y 4/5. se agrupan los positivos y negativos.  Esperaba que midiera mejor la diferencia entre 1 y 2 y entre 4 y 5, pero creo que no es tan grave ya que no esta midiendo el numero 1 como un 5 , sino que se confunde entre los dos bloques (malo y bueno).\n",
    "Esperaba que el 3 midiera un poco mejor, que separara un poco mas las calificaciones, quizás a futuro podria ajustarse el modelo un poco mas para que mida mejor. "
   ]
  },
  {
   "cell_type": "markdown",
   "metadata": {},
   "source": [
    "Como es de esperarse, al comparar los modelos podemos observar que el que mejor mide la exactitud es el OVO con optimización de hiperparametros aplicada.\n",
    "Al realizar el proyecto, por la cantidad de datos brindados esperaba que el accuracy fuera de un 80%, pero no fue el resultado obtenido. "
   ]
  },
  {
   "cell_type": "markdown",
   "metadata": {},
   "source": [
    "A modo de aclaracion; los dataset TRAIN Y TEST se presentan ya transformados en formato CSV para que el trabajo sea más legible en relación a las técnicas y procesos aplicados. Se aplicaron todas las modificaciones (tokenizacion, lematizacion, concatenación tanto para review_body y review_title) y se guardo en archivo CSV por una cuestión de prolijidad y legibilidad del código.\n",
    "\n",
    "Hago la demostracion de la aplicacion de los codigos aprendidos en el modelo DEV. \n",
    "En el caso de que sea necesario, puedo agregar dichas transformaciones al proyecto. "
   ]
  },
  {
   "cell_type": "markdown",
   "metadata": {},
   "source": [
    "El proyecto presenta un problema de clasificacion multiclase, en el que me encuentro frente a la premisa de predecir qué estrella le asigna cada usuario a determinada compra en base a sus comentarios. Encontramos 3 dataset con diversa cantidad de datos. Analizo los mismos y los ordeno para poder trabajar con ellos de la manera que considero mas adecuada.\n",
    "\n",
    "Decido aplicar OVO (one vs one) porque estoy trabajando un problema de multiclases. Luego aplico Random forest y Linear SVC al modelo para poder elegir los hiperparametros mas adecuados para el mismo.\n",
    "\n",
    "Al realizar el analisis de procesos avanzados como Random Forest y Linear SVC decido evaluar todas las metricas de clasificacion para determinar cual es la que mejor resultado brinda. \n",
    "\n",
    "Realizo el analisis de hiperparametros y determino cuales son los mejores para correr el modelo final optimizado. \n",
    "\n",
    "A futuro me gustaria ver la incidencia que tiene en el modelo la categoria de productos de los datos. Me gustaria analizar si hay mayor o menor predisposición al alto o bajo puntaje dependiendo de la misma. Tambien se podria realizar un analisis de product_id y reviewer_id para ver con que frecuencia compran y califican los usuarios (seria interesante preguntarnos si hay usuarios \"detractores\" de productos que suelen calificar mal sin importar el producto obtenido) \n",
    "\n"
   ]
  },
  {
   "cell_type": "code",
   "execution_count": null,
   "metadata": {},
   "outputs": [],
   "source": []
  }
 ],
 "metadata": {
  "colab": {
   "collapsed_sections": [],
   "name": "DS_Proyecto_03_NLP.ipynb",
   "provenance": []
  },
  "kernelspec": {
   "display_name": "Python 3",
   "language": "python",
   "name": "python3"
  },
  "language_info": {
   "codemirror_mode": {
    "name": "ipython",
    "version": 3
   },
   "file_extension": ".py",
   "mimetype": "text/x-python",
   "name": "python",
   "nbconvert_exporter": "python",
   "pygments_lexer": "ipython3",
   "version": "3.8.5"
  }
 },
 "nbformat": 4,
 "nbformat_minor": 4
}
