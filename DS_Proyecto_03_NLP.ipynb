{
 "cells": [
  {
   "cell_type": "markdown",
   "metadata": {
    "id": "2GRQnxMzISE_"
   },
   "source": [
    "# Proyecto 03 - Procesamiento del Lenguaje Natural\n",
    "\n",
    "## Dataset: The Multilingual Amazon Reviews Corpus\n",
    "\n",
    "**Recuerda descargar el dataset de [aquí](https://github.com/kang205/SASRec). Es un archivo .zip que contiene tres documentos. Más información sobre el dataset [aquí](https://registry.opendata.aws/amazon-reviews-ml/). Es importante que tengas en cuenta la [licencia](https://docs.opendata.aws/amazon-reviews-ml/license.txt) de este dataset.**\n",
    "\n",
    "### Exploración de datos y Procesamiento del Lenguaje Natural\n",
    "\n",
    "Dedícale un buen tiempo a hacer un Análisis Exploratorio de Datos. Considera que hasta que no hayas aplicado las herramientas de Procesamiento del Lenguaje Natural vistas, será difícil completar este análisis. Elige preguntas que creas que puedas responder con este dataset. Por ejemplo, ¿qué palabras están asociadas a calificaciones positivas y qué palabras a calificaciones negativas?\n",
    "\n",
    "### Machine Learning\n",
    "\n",
    "Implementa un modelo que, dada la crítica de un producto, asigne la cantidad de estrellas correspondiente. **Para pensar**: ¿es un problema de Clasificación o de Regresión?\n",
    "\n",
    "1. Haz todas las transformaciones de datos que consideres necesarias. Justifica.\n",
    "1. Evalúa de forma apropiada sus resultados. Justifica la métrica elegida.\n",
    "1. Elige un modelo benchmark y compara tus resultados con este modelo.\n",
    "1. Optimiza los hiperparámetros de tu modelo.\n",
    "1. Intenta responder la pregunta: ¿Qué información está usando el modelo para predecir?\n",
    "\n",
    "**Recomendación:** si no te resulta conveniente trabajar en español con NLTK, te recomendamos que explores la librería [spaCy](https://spacy.io/).\n",
    "\n",
    "### Para pensar, investigar y, opcionalmente, implementar\n",
    "1. ¿Valdrá la pena convertir el problema de Machine Learning en un problema binario? Es decir, asignar únicamente las etiquetas Positiva y Negativa a cada crítica y hacer un modelo que, en lugar de predecir las estrellas, prediga esa etiqueta. Pensar en qué situación puede ser útil. ¿Esperas que el desempeño sea mejor o peor?\n",
    "1. ¿Hay algo que te gustaría investigar o probar?\n",
    "\n",
    "### **¡Tómate tiempo para investigar y leer mucho!**"
   ]
  },
  {
   "cell_type": "code",
   "execution_count": 1,
   "metadata": {
    "id": "x1GFwraSISFB"
   },
   "outputs": [],
   "source": [
    "#Importo las librerias con las que voy a trabajar\n",
    "import numpy as np\n",
    "import pandas as pd\n",
    "import matplotlib.pyplot as plt\n",
    "import seaborn as sns\n",
    "sns.set()\n",
    "import spacy\n",
    "from spacy import displacy\n",
    "from spacy.pipeline import EntityRuler\n",
    "from spacy.lang.es.examples import sentences\n",
    "from spacy.lang.es.stop_words import STOP_WORDS\n",
    "from sklearn.feature_extraction.text import TfidfVectorizer\n",
    "from sklearn.multiclass import OneVsOneClassifier\n",
    "from sklearn.svm import LinearSVC\n",
    "from sklearn.model_selection import train_test_split\n",
    "import string\n",
    "from sklearn.metrics import classification_report"
   ]
  },
  {
   "cell_type": "markdown",
   "metadata": {},
   "source": [
    "**Teniendo en cuenta que los Datasets son de gran tamaño y tardan mucho en cargar, voy a usar el Dataset DEV para la demostracion de todas las transformaciones que hay que realizar y luego voy a importar los DS TRAIN Y TEST en formato CSV con las mismas ya realizadas**"
   ]
  },
  {
   "cell_type": "markdown",
   "metadata": {},
   "source": [
    "## Dataset DEV ##"
   ]
  },
  {
   "cell_type": "code",
   "execution_count": 2,
   "metadata": {},
   "outputs": [],
   "source": [
    "#dataset_dev = pd.read_json('dataset_es_dev.json', lines = True)\n",
    "#dataset_dev.head()"
   ]
  },
  {
   "cell_type": "code",
   "execution_count": 3,
   "metadata": {},
   "outputs": [],
   "source": [
    "#dataset_dev.shape"
   ]
  },
  {
   "cell_type": "code",
   "execution_count": 4,
   "metadata": {},
   "outputs": [],
   "source": [
    "#dataset_dev.drop_duplicates(inplace = True) #no hay datos duplicados ni faltantes\n",
    "#dataset_dev.shape"
   ]
  },
  {
   "cell_type": "code",
   "execution_count": 5,
   "metadata": {},
   "outputs": [],
   "source": [
    "#dataset_dev.isna().sum()"
   ]
  },
  {
   "cell_type": "code",
   "execution_count": 6,
   "metadata": {},
   "outputs": [],
   "source": [
    "#dataset_dev.language.value_counts() #solo reseñas en español"
   ]
  },
  {
   "cell_type": "code",
   "execution_count": 7,
   "metadata": {},
   "outputs": [],
   "source": [
    "#dataset_dev.review_body.shape"
   ]
  },
  {
   "cell_type": "code",
   "execution_count": 8,
   "metadata": {},
   "outputs": [],
   "source": [
    "#dataset_dev.stars.value_counts()"
   ]
  },
  {
   "cell_type": "code",
   "execution_count": 9,
   "metadata": {},
   "outputs": [],
   "source": [
    "#dataset_dev.product_id.value_counts()"
   ]
  },
  {
   "cell_type": "code",
   "execution_count": 10,
   "metadata": {},
   "outputs": [],
   "source": [
    "#dataset_dev.reviewer_id.value_counts() #product id y reviewer id no deberian coincidir?"
   ]
  },
  {
   "cell_type": "markdown",
   "metadata": {},
   "source": [
    "Elijo una instancia al azar y veo el review boby"
   ]
  },
  {
   "cell_type": "code",
   "execution_count": 11,
   "metadata": {},
   "outputs": [],
   "source": [
    "#np.random #.seed(56)\n",
    "#index_random = np.random.randint(0,high = dataset_dev.shape[0])\n",
    "#descripcion = dataset_dev.iloc[index_random].review_body\n",
    "#print(index_random, descripcion)"
   ]
  },
  {
   "cell_type": "markdown",
   "metadata": {},
   "source": [
    "vemos la estrella con la que califico al producto comprado"
   ]
  },
  {
   "cell_type": "code",
   "execution_count": 12,
   "metadata": {},
   "outputs": [],
   "source": [
    "#print (f'El comprador {index_random}')\n",
    "#print (f'Califico al producto con {dataset_dev.iloc[index_random].stars} estrellas' )\n",
    "\n",
    "#print(index_random, dataset_dev.iloc[index_random].stars)"
   ]
  },
  {
   "cell_type": "code",
   "execution_count": 13,
   "metadata": {},
   "outputs": [],
   "source": [
    "#nlp = spacy.load(\"es_core_news_sm\")"
   ]
  },
  {
   "cell_type": "code",
   "execution_count": 14,
   "metadata": {},
   "outputs": [],
   "source": [
    "#doc = nlp (descripcion)"
   ]
  },
  {
   "cell_type": "code",
   "execution_count": 15,
   "metadata": {},
   "outputs": [],
   "source": [
    "#for token in doc:\n",
    "#    print(token.text)"
   ]
  },
  {
   "cell_type": "markdown",
   "metadata": {},
   "source": [
    "**Stopwords**"
   ]
  },
  {
   "cell_type": "code",
   "execution_count": 16,
   "metadata": {},
   "outputs": [],
   "source": [
    "#from spacy.lang.es.stop_words import STOP_WORDS\n",
    "#stopwords_spacy = list(STOP_WORDS)\n",
    "#print (stopwords_spacy)\n",
    "#len(stopwords_spacy)"
   ]
  },
  {
   "cell_type": "markdown",
   "metadata": {},
   "source": [
    "Imprimimos las palabras del texto que no son stop words según Spacy"
   ]
  },
  {
   "cell_type": "code",
   "execution_count": 17,
   "metadata": {},
   "outputs": [],
   "source": [
    "#for token in doc:\n",
    " #   if token.is_stop == False:\n",
    "  #      print(token)"
   ]
  },
  {
   "cell_type": "markdown",
   "metadata": {},
   "source": [
    "**Lemmatización**"
   ]
  },
  {
   "cell_type": "code",
   "execution_count": 18,
   "metadata": {},
   "outputs": [],
   "source": [
    "#for token in doc:\n",
    " #   print (token.text, token.lemma_)"
   ]
  },
  {
   "cell_type": "markdown",
   "metadata": {},
   "source": [
    "**POS Part of Speech**"
   ]
  },
  {
   "cell_type": "code",
   "execution_count": 19,
   "metadata": {},
   "outputs": [],
   "source": [
    "#for token in doc:\n",
    "#    print (token.text, token.pos_)"
   ]
  },
  {
   "cell_type": "markdown",
   "metadata": {},
   "source": [
    "**Tokenización**\n",
    "\n",
    "Eliminamos los signos "
   ]
  },
  {
   "cell_type": "code",
   "execution_count": 20,
   "metadata": {},
   "outputs": [],
   "source": [
    "#puntua = string.punctuation + '¿!¡? + \" \"'\n",
    "#puntua"
   ]
  },
  {
   "cell_type": "code",
   "execution_count": 21,
   "metadata": {},
   "outputs": [],
   "source": [
    "#def text_data_cleaning(sentence):\n",
    " #   doc=nlp(sentence)\n",
    "    \n",
    " #   tokens = []\n",
    " #  for token in doc:\n",
    "  #      if token.lemma_ != '-PRON-':\n",
    "   #         temp= token.lemma_.strip()\n",
    "    #    else:\n",
    "#            temp = token\n",
    "#        tokens.append(temp)\n",
    "        \n",
    "#    clean_tokens = []\n",
    "#    for token in tokens:\n",
    "#        if token not in stopwords_spacy and token not in puntua:\n",
    "#            clean_tokens.append(token)\n",
    "            \n",
    "#    return \" \".join(clean_tokens)"
   ]
  },
  {
   "cell_type": "code",
   "execution_count": 22,
   "metadata": {},
   "outputs": [],
   "source": [
    "#text_data_cleaning(descripcion)"
   ]
  },
  {
   "cell_type": "markdown",
   "metadata": {},
   "source": [
    "Aplicamos un text data cleaning sobre review body en todo el dataset y lo imprimimos"
   ]
  },
  {
   "cell_type": "code",
   "execution_count": 23,
   "metadata": {},
   "outputs": [],
   "source": [
    "#dataset_dev.review_body.apply(text_data_cleaning)"
   ]
  },
  {
   "cell_type": "code",
   "execution_count": 24,
   "metadata": {},
   "outputs": [],
   "source": [
    "#dataset_dev.head(3)"
   ]
  },
  {
   "cell_type": "code",
   "execution_count": 25,
   "metadata": {},
   "outputs": [],
   "source": [
    "#dataset_dev['review_body']= dataset_dev.review_body.apply(text_data_cleaning)"
   ]
  },
  {
   "cell_type": "code",
   "execution_count": 26,
   "metadata": {},
   "outputs": [],
   "source": [
    "#dataset_dev"
   ]
  },
  {
   "cell_type": "markdown",
   "metadata": {},
   "source": [
    "Convertimos el Dataset a CSV para poder cargarlo mas rápido"
   ]
  },
  {
   "cell_type": "code",
   "execution_count": 27,
   "metadata": {},
   "outputs": [],
   "source": [
    "#dataset_dev.to_csv('dataset_dev.csv')"
   ]
  },
  {
   "cell_type": "code",
   "execution_count": 28,
   "metadata": {},
   "outputs": [],
   "source": [
    "#dataset_dev"
   ]
  },
  {
   "cell_type": "code",
   "execution_count": 29,
   "metadata": {},
   "outputs": [
    {
     "data": {
      "text/html": [
       "<div>\n",
       "<style scoped>\n",
       "    .dataframe tbody tr th:only-of-type {\n",
       "        vertical-align: middle;\n",
       "    }\n",
       "\n",
       "    .dataframe tbody tr th {\n",
       "        vertical-align: top;\n",
       "    }\n",
       "\n",
       "    .dataframe thead th {\n",
       "        text-align: right;\n",
       "    }\n",
       "</style>\n",
       "<table border=\"1\" class=\"dataframe\">\n",
       "  <thead>\n",
       "    <tr style=\"text-align: right;\">\n",
       "      <th></th>\n",
       "      <th>Unnamed: 0</th>\n",
       "      <th>review_id</th>\n",
       "      <th>product_id</th>\n",
       "      <th>reviewer_id</th>\n",
       "      <th>stars</th>\n",
       "      <th>review_body</th>\n",
       "      <th>review_title</th>\n",
       "      <th>language</th>\n",
       "      <th>product_category</th>\n",
       "    </tr>\n",
       "  </thead>\n",
       "  <tbody>\n",
       "    <tr>\n",
       "      <th>0</th>\n",
       "      <td>0</td>\n",
       "      <td>es_0417480</td>\n",
       "      <td>product_es_0873923</td>\n",
       "      <td>reviewer_es_0672978</td>\n",
       "      <td>1</td>\n",
       "      <td>malisimo grande aparatoso y protector pantalla</td>\n",
       "      <td>Mala compra</td>\n",
       "      <td>es</td>\n",
       "      <td>wireless</td>\n",
       "    </tr>\n",
       "    <tr>\n",
       "      <th>1</th>\n",
       "      <td>1</td>\n",
       "      <td>es_0180432</td>\n",
       "      <td>product_es_0713146</td>\n",
       "      <td>reviewer_es_0100858</td>\n",
       "      <td>1</td>\n",
       "      <td>recibir pedido devolución</td>\n",
       "      <td>No lo he recibido</td>\n",
       "      <td>es</td>\n",
       "      <td>apparel</td>\n",
       "    </tr>\n",
       "    <tr>\n",
       "      <th>2</th>\n",
       "      <td>2</td>\n",
       "      <td>es_0144850</td>\n",
       "      <td>product_es_0356874</td>\n",
       "      <td>reviewer_es_0486447</td>\n",
       "      <td>1</td>\n",
       "      <td>buscar sistema funcionar abrazadera agarrar ma...</td>\n",
       "      <td>Que no aprieta bien en el manillar</td>\n",
       "      <td>es</td>\n",
       "      <td>sports</td>\n",
       "    </tr>\n",
       "    <tr>\n",
       "      <th>3</th>\n",
       "      <td>3</td>\n",
       "      <td>es_0339629</td>\n",
       "      <td>product_es_0939832</td>\n",
       "      <td>reviewer_es_0894703</td>\n",
       "      <td>1</td>\n",
       "      <td>Utilicé broca menor diámetro y doblar mantequi...</td>\n",
       "      <td>Brocas de mantequilla</td>\n",
       "      <td>es</td>\n",
       "      <td>home_improvement</td>\n",
       "    </tr>\n",
       "    <tr>\n",
       "      <th>4</th>\n",
       "      <td>4</td>\n",
       "      <td>es_0858362</td>\n",
       "      <td>product_es_0489066</td>\n",
       "      <td>reviewer_es_0887663</td>\n",
       "      <td>1</td>\n",
       "      <td>gustar olor a viejo y aspecto malo</td>\n",
       "      <td>No me gusta</td>\n",
       "      <td>es</td>\n",
       "      <td>beauty</td>\n",
       "    </tr>\n",
       "  </tbody>\n",
       "</table>\n",
       "</div>"
      ],
      "text/plain": [
       "   Unnamed: 0   review_id          product_id          reviewer_id  stars  \\\n",
       "0           0  es_0417480  product_es_0873923  reviewer_es_0672978      1   \n",
       "1           1  es_0180432  product_es_0713146  reviewer_es_0100858      1   \n",
       "2           2  es_0144850  product_es_0356874  reviewer_es_0486447      1   \n",
       "3           3  es_0339629  product_es_0939832  reviewer_es_0894703      1   \n",
       "4           4  es_0858362  product_es_0489066  reviewer_es_0887663      1   \n",
       "\n",
       "                                         review_body  \\\n",
       "0     malisimo grande aparatoso y protector pantalla   \n",
       "1                          recibir pedido devolución   \n",
       "2  buscar sistema funcionar abrazadera agarrar ma...   \n",
       "3  Utilicé broca menor diámetro y doblar mantequi...   \n",
       "4                 gustar olor a viejo y aspecto malo   \n",
       "\n",
       "                         review_title language  product_category  \n",
       "0                         Mala compra       es          wireless  \n",
       "1                   No lo he recibido       es           apparel  \n",
       "2  Que no aprieta bien en el manillar       es            sports  \n",
       "3               Brocas de mantequilla       es  home_improvement  \n",
       "4                         No me gusta       es            beauty  "
      ]
     },
     "execution_count": 29,
     "metadata": {},
     "output_type": "execute_result"
    }
   ],
   "source": [
    "dataset_dev = pd.read_csv('dataset_dev.csv') \n",
    "dataset_dev.head()"
   ]
  },
  {
   "cell_type": "markdown",
   "metadata": {},
   "source": [
    "**Voy a transformar los datos de los dataset de TRAIN Y TEST y los voy a importar en CSV ya transformados**"
   ]
  },
  {
   "cell_type": "code",
   "execution_count": 30,
   "metadata": {},
   "outputs": [
    {
     "data": {
      "text/html": [
       "<div>\n",
       "<style scoped>\n",
       "    .dataframe tbody tr th:only-of-type {\n",
       "        vertical-align: middle;\n",
       "    }\n",
       "\n",
       "    .dataframe tbody tr th {\n",
       "        vertical-align: top;\n",
       "    }\n",
       "\n",
       "    .dataframe thead th {\n",
       "        text-align: right;\n",
       "    }\n",
       "</style>\n",
       "<table border=\"1\" class=\"dataframe\">\n",
       "  <thead>\n",
       "    <tr style=\"text-align: right;\">\n",
       "      <th></th>\n",
       "      <th>Unnamed: 0</th>\n",
       "      <th>review_id</th>\n",
       "      <th>product_id</th>\n",
       "      <th>reviewer_id</th>\n",
       "      <th>stars</th>\n",
       "      <th>review_body</th>\n",
       "      <th>review_title</th>\n",
       "      <th>language</th>\n",
       "      <th>product_category</th>\n",
       "    </tr>\n",
       "  </thead>\n",
       "  <tbody>\n",
       "    <tr>\n",
       "      <th>0</th>\n",
       "      <td>0</td>\n",
       "      <td>es_0491108</td>\n",
       "      <td>product_es_0296024</td>\n",
       "      <td>reviewer_es_0999081</td>\n",
       "      <td>1</td>\n",
       "      <td>kar pantalla 8 mes y recibir respuesta fabricante</td>\n",
       "      <td>television Nevir</td>\n",
       "      <td>es</td>\n",
       "      <td>electronics</td>\n",
       "    </tr>\n",
       "    <tr>\n",
       "      <th>1</th>\n",
       "      <td>1</td>\n",
       "      <td>es_0869872</td>\n",
       "      <td>product_es_0922286</td>\n",
       "      <td>reviewer_es_0216771</td>\n",
       "      <td>1</td>\n",
       "      <td>Horrible comprar inglés informático hora capaz...</td>\n",
       "      <td>Dinero tirado a la basura con esta compra</td>\n",
       "      <td>es</td>\n",
       "      <td>electronics</td>\n",
       "    </tr>\n",
       "    <tr>\n",
       "      <th>2</th>\n",
       "      <td>2</td>\n",
       "      <td>es_0811721</td>\n",
       "      <td>product_es_0474543</td>\n",
       "      <td>reviewer_es_0929213</td>\n",
       "      <td>1</td>\n",
       "      <td>obligar a comprar unidad y llegar y forma recl...</td>\n",
       "      <td>solo llega una unidad cuando te obligan a comp...</td>\n",
       "      <td>es</td>\n",
       "      <td>drugstore</td>\n",
       "    </tr>\n",
       "    <tr>\n",
       "      <th>3</th>\n",
       "      <td>3</td>\n",
       "      <td>es_0359921</td>\n",
       "      <td>product_es_0656090</td>\n",
       "      <td>reviewer_es_0224702</td>\n",
       "      <td>1</td>\n",
       "      <td>entrar descalificar vendedor mes espera .... s...</td>\n",
       "      <td>PRODUCTO NO RECIBIDO.</td>\n",
       "      <td>es</td>\n",
       "      <td>wireless</td>\n",
       "    </tr>\n",
       "    <tr>\n",
       "      <th>4</th>\n",
       "      <td>4</td>\n",
       "      <td>es_0068940</td>\n",
       "      <td>product_es_0662544</td>\n",
       "      <td>reviewer_es_0224827</td>\n",
       "      <td>1</td>\n",
       "      <td>llegar y co talla equivocado</td>\n",
       "      <td>Devuelto</td>\n",
       "      <td>es</td>\n",
       "      <td>shoes</td>\n",
       "    </tr>\n",
       "  </tbody>\n",
       "</table>\n",
       "</div>"
      ],
      "text/plain": [
       "   Unnamed: 0   review_id          product_id          reviewer_id  stars  \\\n",
       "0           0  es_0491108  product_es_0296024  reviewer_es_0999081      1   \n",
       "1           1  es_0869872  product_es_0922286  reviewer_es_0216771      1   \n",
       "2           2  es_0811721  product_es_0474543  reviewer_es_0929213      1   \n",
       "3           3  es_0359921  product_es_0656090  reviewer_es_0224702      1   \n",
       "4           4  es_0068940  product_es_0662544  reviewer_es_0224827      1   \n",
       "\n",
       "                                         review_body  \\\n",
       "0  kar pantalla 8 mes y recibir respuesta fabricante   \n",
       "1  Horrible comprar inglés informático hora capaz...   \n",
       "2  obligar a comprar unidad y llegar y forma recl...   \n",
       "3  entrar descalificar vendedor mes espera .... s...   \n",
       "4                       llegar y co talla equivocado   \n",
       "\n",
       "                                        review_title language product_category  \n",
       "0                                   television Nevir       es      electronics  \n",
       "1          Dinero tirado a la basura con esta compra       es      electronics  \n",
       "2  solo llega una unidad cuando te obligan a comp...       es        drugstore  \n",
       "3                              PRODUCTO NO RECIBIDO.       es         wireless  \n",
       "4                                           Devuelto       es            shoes  "
      ]
     },
     "execution_count": 30,
     "metadata": {},
     "output_type": "execute_result"
    }
   ],
   "source": [
    "dataset_train = pd.read_csv('dataset_train.csv') \n",
    "dataset_train.head()"
   ]
  },
  {
   "cell_type": "code",
   "execution_count": 31,
   "metadata": {},
   "outputs": [
    {
     "data": {
      "text/html": [
       "<div>\n",
       "<style scoped>\n",
       "    .dataframe tbody tr th:only-of-type {\n",
       "        vertical-align: middle;\n",
       "    }\n",
       "\n",
       "    .dataframe tbody tr th {\n",
       "        vertical-align: top;\n",
       "    }\n",
       "\n",
       "    .dataframe thead th {\n",
       "        text-align: right;\n",
       "    }\n",
       "</style>\n",
       "<table border=\"1\" class=\"dataframe\">\n",
       "  <thead>\n",
       "    <tr style=\"text-align: right;\">\n",
       "      <th></th>\n",
       "      <th>Unnamed: 0</th>\n",
       "      <th>review_id</th>\n",
       "      <th>product_id</th>\n",
       "      <th>reviewer_id</th>\n",
       "      <th>stars</th>\n",
       "      <th>review_body</th>\n",
       "      <th>review_title</th>\n",
       "      <th>language</th>\n",
       "      <th>product_category</th>\n",
       "    </tr>\n",
       "  </thead>\n",
       "  <tbody>\n",
       "    <tr>\n",
       "      <th>0</th>\n",
       "      <td>0</td>\n",
       "      <td>es_0491108</td>\n",
       "      <td>product_es_0296024</td>\n",
       "      <td>reviewer_es_0999081</td>\n",
       "      <td>1</td>\n",
       "      <td>kar pantalla 8 mes y recibir respuesta fabricante</td>\n",
       "      <td>television Nevir</td>\n",
       "      <td>es</td>\n",
       "      <td>electronics</td>\n",
       "    </tr>\n",
       "    <tr>\n",
       "      <th>1</th>\n",
       "      <td>1</td>\n",
       "      <td>es_0869872</td>\n",
       "      <td>product_es_0922286</td>\n",
       "      <td>reviewer_es_0216771</td>\n",
       "      <td>1</td>\n",
       "      <td>Horrible comprar inglés informático hora capaz...</td>\n",
       "      <td>Dinero tirado a la basura con esta compra</td>\n",
       "      <td>es</td>\n",
       "      <td>electronics</td>\n",
       "    </tr>\n",
       "    <tr>\n",
       "      <th>2</th>\n",
       "      <td>2</td>\n",
       "      <td>es_0811721</td>\n",
       "      <td>product_es_0474543</td>\n",
       "      <td>reviewer_es_0929213</td>\n",
       "      <td>1</td>\n",
       "      <td>obligar a comprar unidad y llegar y forma recl...</td>\n",
       "      <td>solo llega una unidad cuando te obligan a comp...</td>\n",
       "      <td>es</td>\n",
       "      <td>drugstore</td>\n",
       "    </tr>\n",
       "    <tr>\n",
       "      <th>3</th>\n",
       "      <td>3</td>\n",
       "      <td>es_0359921</td>\n",
       "      <td>product_es_0656090</td>\n",
       "      <td>reviewer_es_0224702</td>\n",
       "      <td>1</td>\n",
       "      <td>entrar descalificar vendedor mes espera .... s...</td>\n",
       "      <td>PRODUCTO NO RECIBIDO.</td>\n",
       "      <td>es</td>\n",
       "      <td>wireless</td>\n",
       "    </tr>\n",
       "    <tr>\n",
       "      <th>4</th>\n",
       "      <td>4</td>\n",
       "      <td>es_0068940</td>\n",
       "      <td>product_es_0662544</td>\n",
       "      <td>reviewer_es_0224827</td>\n",
       "      <td>1</td>\n",
       "      <td>llegar y co talla equivocado</td>\n",
       "      <td>Devuelto</td>\n",
       "      <td>es</td>\n",
       "      <td>shoes</td>\n",
       "    </tr>\n",
       "    <tr>\n",
       "      <th>...</th>\n",
       "      <td>...</td>\n",
       "      <td>...</td>\n",
       "      <td>...</td>\n",
       "      <td>...</td>\n",
       "      <td>...</td>\n",
       "      <td>...</td>\n",
       "      <td>...</td>\n",
       "      <td>...</td>\n",
       "      <td>...</td>\n",
       "    </tr>\n",
       "    <tr>\n",
       "      <th>199995</th>\n",
       "      <td>199995</td>\n",
       "      <td>es_0715276</td>\n",
       "      <td>product_es_0317036</td>\n",
       "      <td>reviewer_es_0643604</td>\n",
       "      <td>5</td>\n",
       "      <td>Mando funcionar perfectamente y cumplir funció...</td>\n",
       "      <td>Tal y como se describe</td>\n",
       "      <td>es</td>\n",
       "      <td>electronics</td>\n",
       "    </tr>\n",
       "    <tr>\n",
       "      <th>199996</th>\n",
       "      <td>199996</td>\n",
       "      <td>es_0085190</td>\n",
       "      <td>product_es_0622919</td>\n",
       "      <td>reviewer_es_0466173</td>\n",
       "      <td>5</td>\n",
       "      <td>Compré batería reticencia resultar fácil insta...</td>\n",
       "      <td>Funciona perfectamente</td>\n",
       "      <td>es</td>\n",
       "      <td>electronics</td>\n",
       "    </tr>\n",
       "    <tr>\n",
       "      <th>199997</th>\n",
       "      <td>199997</td>\n",
       "      <td>es_0484496</td>\n",
       "      <td>product_es_0358101</td>\n",
       "      <td>reviewer_es_0330744</td>\n",
       "      <td>5</td>\n",
       "      <td>calidad satisfecho compra</td>\n",
       "      <td>Buena calidad.</td>\n",
       "      <td>es</td>\n",
       "      <td>apparel</td>\n",
       "    </tr>\n",
       "    <tr>\n",
       "      <th>199998</th>\n",
       "      <td>199998</td>\n",
       "      <td>es_0930141</td>\n",
       "      <td>product_es_0788855</td>\n",
       "      <td>reviewer_es_0694290</td>\n",
       "      <td>5</td>\n",
       "      <td>Perfecto cumple hijo</td>\n",
       "      <td>Recomendado</td>\n",
       "      <td>es</td>\n",
       "      <td>toy</td>\n",
       "    </tr>\n",
       "    <tr>\n",
       "      <th>199999</th>\n",
       "      <td>199999</td>\n",
       "      <td>es_0859809</td>\n",
       "      <td>product_es_0378794</td>\n",
       "      <td>reviewer_es_0141717</td>\n",
       "      <td>5</td>\n",
       "      <td>Súper brocha caer pelito chula xd</td>\n",
       "      <td>Preciosas</td>\n",
       "      <td>es</td>\n",
       "      <td>home</td>\n",
       "    </tr>\n",
       "  </tbody>\n",
       "</table>\n",
       "<p>200000 rows × 9 columns</p>\n",
       "</div>"
      ],
      "text/plain": [
       "        Unnamed: 0   review_id          product_id          reviewer_id  \\\n",
       "0                0  es_0491108  product_es_0296024  reviewer_es_0999081   \n",
       "1                1  es_0869872  product_es_0922286  reviewer_es_0216771   \n",
       "2                2  es_0811721  product_es_0474543  reviewer_es_0929213   \n",
       "3                3  es_0359921  product_es_0656090  reviewer_es_0224702   \n",
       "4                4  es_0068940  product_es_0662544  reviewer_es_0224827   \n",
       "...            ...         ...                 ...                  ...   \n",
       "199995      199995  es_0715276  product_es_0317036  reviewer_es_0643604   \n",
       "199996      199996  es_0085190  product_es_0622919  reviewer_es_0466173   \n",
       "199997      199997  es_0484496  product_es_0358101  reviewer_es_0330744   \n",
       "199998      199998  es_0930141  product_es_0788855  reviewer_es_0694290   \n",
       "199999      199999  es_0859809  product_es_0378794  reviewer_es_0141717   \n",
       "\n",
       "        stars                                        review_body  \\\n",
       "0           1  kar pantalla 8 mes y recibir respuesta fabricante   \n",
       "1           1  Horrible comprar inglés informático hora capaz...   \n",
       "2           1  obligar a comprar unidad y llegar y forma recl...   \n",
       "3           1  entrar descalificar vendedor mes espera .... s...   \n",
       "4           1                       llegar y co talla equivocado   \n",
       "...       ...                                                ...   \n",
       "199995      5  Mando funcionar perfectamente y cumplir funció...   \n",
       "199996      5  Compré batería reticencia resultar fácil insta...   \n",
       "199997      5                          calidad satisfecho compra   \n",
       "199998      5                               Perfecto cumple hijo   \n",
       "199999      5                  Súper brocha caer pelito chula xd   \n",
       "\n",
       "                                             review_title language  \\\n",
       "0                                        television Nevir       es   \n",
       "1               Dinero tirado a la basura con esta compra       es   \n",
       "2       solo llega una unidad cuando te obligan a comp...       es   \n",
       "3                                   PRODUCTO NO RECIBIDO.       es   \n",
       "4                                                Devuelto       es   \n",
       "...                                                   ...      ...   \n",
       "199995                             Tal y como se describe       es   \n",
       "199996                             Funciona perfectamente       es   \n",
       "199997                                     Buena calidad.       es   \n",
       "199998                                        Recomendado       es   \n",
       "199999                                          Preciosas       es   \n",
       "\n",
       "       product_category  \n",
       "0           electronics  \n",
       "1           electronics  \n",
       "2             drugstore  \n",
       "3              wireless  \n",
       "4                 shoes  \n",
       "...                 ...  \n",
       "199995      electronics  \n",
       "199996      electronics  \n",
       "199997          apparel  \n",
       "199998              toy  \n",
       "199999             home  \n",
       "\n",
       "[200000 rows x 9 columns]"
      ]
     },
     "execution_count": 31,
     "metadata": {},
     "output_type": "execute_result"
    }
   ],
   "source": [
    "dataset_train"
   ]
  },
  {
   "cell_type": "code",
   "execution_count": 32,
   "metadata": {},
   "outputs": [
    {
     "data": {
      "text/html": [
       "<div>\n",
       "<style scoped>\n",
       "    .dataframe tbody tr th:only-of-type {\n",
       "        vertical-align: middle;\n",
       "    }\n",
       "\n",
       "    .dataframe tbody tr th {\n",
       "        vertical-align: top;\n",
       "    }\n",
       "\n",
       "    .dataframe thead th {\n",
       "        text-align: right;\n",
       "    }\n",
       "</style>\n",
       "<table border=\"1\" class=\"dataframe\">\n",
       "  <thead>\n",
       "    <tr style=\"text-align: right;\">\n",
       "      <th></th>\n",
       "      <th>review_id</th>\n",
       "      <th>product_id</th>\n",
       "      <th>reviewer_id</th>\n",
       "      <th>stars</th>\n",
       "      <th>review_body</th>\n",
       "      <th>review_title</th>\n",
       "      <th>language</th>\n",
       "      <th>product_category</th>\n",
       "    </tr>\n",
       "  </thead>\n",
       "  <tbody>\n",
       "    <tr>\n",
       "      <th>0</th>\n",
       "      <td>es_0038754</td>\n",
       "      <td>product_es_0113523</td>\n",
       "      <td>reviewer_es_0580071</td>\n",
       "      <td>1</td>\n",
       "      <td>llegar articulo mandar correo normal seguimien...</td>\n",
       "      <td>no me llego</td>\n",
       "      <td>es</td>\n",
       "      <td>wireless</td>\n",
       "    </tr>\n",
       "    <tr>\n",
       "      <th>1</th>\n",
       "      <td>es_0748979</td>\n",
       "      <td>product_es_0017036</td>\n",
       "      <td>reviewer_es_0819733</td>\n",
       "      <td>1</td>\n",
       "      <td>mensajería horrible compro</td>\n",
       "      <td>amazon sigue sin cumplir en las entregas</td>\n",
       "      <td>es</td>\n",
       "      <td>home</td>\n",
       "    </tr>\n",
       "    <tr>\n",
       "      <th>2</th>\n",
       "      <td>es_0411746</td>\n",
       "      <td>product_es_0138642</td>\n",
       "      <td>reviewer_es_0508607</td>\n",
       "      <td>1</td>\n",
       "      <td>decepcionado vendedor pedido llegar a y cumpli...</td>\n",
       "      <td>ESTAFA EN EL ENVÍO</td>\n",
       "      <td>es</td>\n",
       "      <td>toy</td>\n",
       "    </tr>\n",
       "    <tr>\n",
       "      <th>3</th>\n",
       "      <td>es_0786686</td>\n",
       "      <td>product_es_0170887</td>\n",
       "      <td>reviewer_es_0491157</td>\n",
       "      <td>1</td>\n",
       "      <td>valoración producto AMAZON ofreceis producto a...</td>\n",
       "      <td>Estafa de Amazon</td>\n",
       "      <td>es</td>\n",
       "      <td>home</td>\n",
       "    </tr>\n",
       "    <tr>\n",
       "      <th>4</th>\n",
       "      <td>es_0429700</td>\n",
       "      <td>product_es_0710642</td>\n",
       "      <td>reviewer_es_0008745</td>\n",
       "      <td>1</td>\n",
       "      <td>interés libro y probar versión kindle abrir po...</td>\n",
       "      <td>No conseguí pasar de la portada en Kindle</td>\n",
       "      <td>es</td>\n",
       "      <td>digital_ebook_purchase</td>\n",
       "    </tr>\n",
       "  </tbody>\n",
       "</table>\n",
       "</div>"
      ],
      "text/plain": [
       "    review_id          product_id          reviewer_id  stars  \\\n",
       "0  es_0038754  product_es_0113523  reviewer_es_0580071      1   \n",
       "1  es_0748979  product_es_0017036  reviewer_es_0819733      1   \n",
       "2  es_0411746  product_es_0138642  reviewer_es_0508607      1   \n",
       "3  es_0786686  product_es_0170887  reviewer_es_0491157      1   \n",
       "4  es_0429700  product_es_0710642  reviewer_es_0008745      1   \n",
       "\n",
       "                                         review_body  \\\n",
       "0  llegar articulo mandar correo normal seguimien...   \n",
       "1                         mensajería horrible compro   \n",
       "2  decepcionado vendedor pedido llegar a y cumpli...   \n",
       "3  valoración producto AMAZON ofreceis producto a...   \n",
       "4  interés libro y probar versión kindle abrir po...   \n",
       "\n",
       "                                review_title language        product_category  \n",
       "0                                no me llego       es                wireless  \n",
       "1   amazon sigue sin cumplir en las entregas       es                    home  \n",
       "2                         ESTAFA EN EL ENVÍO       es                     toy  \n",
       "3                           Estafa de Amazon       es                    home  \n",
       "4  No conseguí pasar de la portada en Kindle       es  digital_ebook_purchase  "
      ]
     },
     "execution_count": 32,
     "metadata": {},
     "output_type": "execute_result"
    }
   ],
   "source": [
    "dataset_test = pd.read_csv('dataset_test.csv') \n",
    "dataset_test.head()"
   ]
  },
  {
   "cell_type": "code",
   "execution_count": 33,
   "metadata": {},
   "outputs": [
    {
     "data": {
      "text/plain": [
       "(5000, 8)"
      ]
     },
     "execution_count": 33,
     "metadata": {},
     "output_type": "execute_result"
    }
   ],
   "source": [
    "dataset_test.shape"
   ]
  },
  {
   "cell_type": "markdown",
   "metadata": {},
   "source": [
    "Tomamos una muestra de dataset_train para poder analizar mejor el DS por su cantidad de datos."
   ]
  },
  {
   "cell_type": "code",
   "execution_count": 34,
   "metadata": {},
   "outputs": [
    {
     "data": {
      "text/html": [
       "<div>\n",
       "<style scoped>\n",
       "    .dataframe tbody tr th:only-of-type {\n",
       "        vertical-align: middle;\n",
       "    }\n",
       "\n",
       "    .dataframe tbody tr th {\n",
       "        vertical-align: top;\n",
       "    }\n",
       "\n",
       "    .dataframe thead th {\n",
       "        text-align: right;\n",
       "    }\n",
       "</style>\n",
       "<table border=\"1\" class=\"dataframe\">\n",
       "  <thead>\n",
       "    <tr style=\"text-align: right;\">\n",
       "      <th></th>\n",
       "      <th>Unnamed: 0</th>\n",
       "      <th>review_id</th>\n",
       "      <th>product_id</th>\n",
       "      <th>reviewer_id</th>\n",
       "      <th>stars</th>\n",
       "      <th>review_body</th>\n",
       "      <th>review_title</th>\n",
       "      <th>language</th>\n",
       "      <th>product_category</th>\n",
       "    </tr>\n",
       "  </thead>\n",
       "  <tbody>\n",
       "    <tr>\n",
       "      <th>74908</th>\n",
       "      <td>74908</td>\n",
       "      <td>es_0101647</td>\n",
       "      <td>product_es_0450032</td>\n",
       "      <td>reviewer_es_0608549</td>\n",
       "      <td>2</td>\n",
       "      <td>embalar retrasar</td>\n",
       "      <td>Viene sucio</td>\n",
       "      <td>es</td>\n",
       "      <td>home</td>\n",
       "    </tr>\n",
       "    <tr>\n",
       "      <th>190142</th>\n",
       "      <td>190142</td>\n",
       "      <td>es_0302856</td>\n",
       "      <td>product_es_0907235</td>\n",
       "      <td>reviewer_es_0714115</td>\n",
       "      <td>5</td>\n",
       "      <td>regalamos a sobrina 12 año fan serie encantar ...</td>\n",
       "      <td>Para un regalo</td>\n",
       "      <td>es</td>\n",
       "      <td>jewelry</td>\n",
       "    </tr>\n",
       "    <tr>\n",
       "      <th>146398</th>\n",
       "      <td>146398</td>\n",
       "      <td>es_0948829</td>\n",
       "      <td>product_es_0063764</td>\n",
       "      <td>reviewer_es_0178095</td>\n",
       "      <td>4</td>\n",
       "      <td>correa tardar llegar a merecer pena</td>\n",
       "      <td>Está muy bien</td>\n",
       "      <td>es</td>\n",
       "      <td>sports</td>\n",
       "    </tr>\n",
       "    <tr>\n",
       "      <th>119731</th>\n",
       "      <td>119731</td>\n",
       "      <td>es_0065556</td>\n",
       "      <td>product_es_0845916</td>\n",
       "      <td>reviewer_es_0636981</td>\n",
       "      <td>3</td>\n",
       "      <td>probar quitar punto negro probé farmacia y noche</td>\n",
       "      <td>No es muy bueno</td>\n",
       "      <td>es</td>\n",
       "      <td>beauty</td>\n",
       "    </tr>\n",
       "    <tr>\n",
       "      <th>31203</th>\n",
       "      <td>31203</td>\n",
       "      <td>es_0009633</td>\n",
       "      <td>product_es_0155896</td>\n",
       "      <td>reviewer_es_0229708</td>\n",
       "      <td>1</td>\n",
       "      <td>quedar satisfecho modelo 2019 y especifique fu...</td>\n",
       "      <td>Funda y movil incompatibles</td>\n",
       "      <td>es</td>\n",
       "      <td>home</td>\n",
       "    </tr>\n",
       "    <tr>\n",
       "      <th>...</th>\n",
       "      <td>...</td>\n",
       "      <td>...</td>\n",
       "      <td>...</td>\n",
       "      <td>...</td>\n",
       "      <td>...</td>\n",
       "      <td>...</td>\n",
       "      <td>...</td>\n",
       "      <td>...</td>\n",
       "      <td>...</td>\n",
       "    </tr>\n",
       "    <tr>\n",
       "      <th>27363</th>\n",
       "      <td>27363</td>\n",
       "      <td>es_0078673</td>\n",
       "      <td>product_es_0270175</td>\n",
       "      <td>reviewer_es_0358567</td>\n",
       "      <td>1</td>\n",
       "      <td>poner él evitar presencia mota y fácil instala...</td>\n",
       "      <td>Nada recomendable</td>\n",
       "      <td>es</td>\n",
       "      <td>wireless</td>\n",
       "    </tr>\n",
       "    <tr>\n",
       "      <th>190047</th>\n",
       "      <td>190047</td>\n",
       "      <td>es_0144389</td>\n",
       "      <td>product_es_0785813</td>\n",
       "      <td>reviewer_es_0369290</td>\n",
       "      <td>5</td>\n",
       "      <td>Perfecta niño y adolescente ocupar espacio y c...</td>\n",
       "      <td>Perfecta</td>\n",
       "      <td>es</td>\n",
       "      <td>furniture</td>\n",
       "    </tr>\n",
       "    <tr>\n",
       "      <th>89201</th>\n",
       "      <td>89201</td>\n",
       "      <td>es_0805021</td>\n",
       "      <td>product_es_0167570</td>\n",
       "      <td>reviewer_es_0114986</td>\n",
       "      <td>3</td>\n",
       "      <td>irritar piel crema</td>\n",
       "      <td>A mi piel no le funciona</td>\n",
       "      <td>es</td>\n",
       "      <td>beauty</td>\n",
       "    </tr>\n",
       "    <tr>\n",
       "      <th>37053</th>\n",
       "      <td>37053</td>\n",
       "      <td>es_0680350</td>\n",
       "      <td>product_es_0790523</td>\n",
       "      <td>reviewer_es_0367273</td>\n",
       "      <td>1</td>\n",
       "      <td>compro y venir rueda eje querer devolver él pe...</td>\n",
       "      <td>Espero respuesta de Amazon al comentario.</td>\n",
       "      <td>es</td>\n",
       "      <td>lawn_and_garden</td>\n",
       "    </tr>\n",
       "    <tr>\n",
       "      <th>108388</th>\n",
       "      <td>108388</td>\n",
       "      <td>es_0009736</td>\n",
       "      <td>product_es_0430822</td>\n",
       "      <td>reviewer_es_0739409</td>\n",
       "      <td>3</td>\n",
       "      <td>salir y hoja grueso</td>\n",
       "      <td>Funciona lo basico</td>\n",
       "      <td>es</td>\n",
       "      <td>home</td>\n",
       "    </tr>\n",
       "  </tbody>\n",
       "</table>\n",
       "<p>1000 rows × 9 columns</p>\n",
       "</div>"
      ],
      "text/plain": [
       "        Unnamed: 0   review_id          product_id          reviewer_id  \\\n",
       "74908        74908  es_0101647  product_es_0450032  reviewer_es_0608549   \n",
       "190142      190142  es_0302856  product_es_0907235  reviewer_es_0714115   \n",
       "146398      146398  es_0948829  product_es_0063764  reviewer_es_0178095   \n",
       "119731      119731  es_0065556  product_es_0845916  reviewer_es_0636981   \n",
       "31203        31203  es_0009633  product_es_0155896  reviewer_es_0229708   \n",
       "...            ...         ...                 ...                  ...   \n",
       "27363        27363  es_0078673  product_es_0270175  reviewer_es_0358567   \n",
       "190047      190047  es_0144389  product_es_0785813  reviewer_es_0369290   \n",
       "89201        89201  es_0805021  product_es_0167570  reviewer_es_0114986   \n",
       "37053        37053  es_0680350  product_es_0790523  reviewer_es_0367273   \n",
       "108388      108388  es_0009736  product_es_0430822  reviewer_es_0739409   \n",
       "\n",
       "        stars                                        review_body  \\\n",
       "74908       2                                   embalar retrasar   \n",
       "190142      5  regalamos a sobrina 12 año fan serie encantar ...   \n",
       "146398      4                correa tardar llegar a merecer pena   \n",
       "119731      3   probar quitar punto negro probé farmacia y noche   \n",
       "31203       1  quedar satisfecho modelo 2019 y especifique fu...   \n",
       "...       ...                                                ...   \n",
       "27363       1  poner él evitar presencia mota y fácil instala...   \n",
       "190047      5  Perfecta niño y adolescente ocupar espacio y c...   \n",
       "89201       3                                 irritar piel crema   \n",
       "37053       1  compro y venir rueda eje querer devolver él pe...   \n",
       "108388      3                                salir y hoja grueso   \n",
       "\n",
       "                                     review_title language product_category  \n",
       "74908                                 Viene sucio       es             home  \n",
       "190142                             Para un regalo       es          jewelry  \n",
       "146398                              Está muy bien       es           sports  \n",
       "119731                            No es muy bueno       es           beauty  \n",
       "31203                 Funda y movil incompatibles       es             home  \n",
       "...                                           ...      ...              ...  \n",
       "27363                           Nada recomendable       es         wireless  \n",
       "190047                                   Perfecta       es        furniture  \n",
       "89201                    A mi piel no le funciona       es           beauty  \n",
       "37053   Espero respuesta de Amazon al comentario.       es  lawn_and_garden  \n",
       "108388                         Funciona lo basico       es             home  \n",
       "\n",
       "[1000 rows x 9 columns]"
      ]
     },
     "execution_count": 34,
     "metadata": {},
     "output_type": "execute_result"
    }
   ],
   "source": [
    "dataset_train_dos = dataset_train.sample( n= 1000, weights=np.ones(dataset_train.shape[0]), random_state = 42)\n",
    "dataset_train_dos"
   ]
  },
  {
   "cell_type": "code",
   "execution_count": 35,
   "metadata": {},
   "outputs": [
    {
     "data": {
      "text/plain": [
       "1    40000\n",
       "2    40000\n",
       "3    40000\n",
       "4    40000\n",
       "5    40000\n",
       "Name: stars, dtype: int64"
      ]
     },
     "execution_count": 35,
     "metadata": {},
     "output_type": "execute_result"
    }
   ],
   "source": [
    "dataset_train.stars.value_counts()"
   ]
  },
  {
   "cell_type": "code",
   "execution_count": 36,
   "metadata": {},
   "outputs": [
    {
     "data": {
      "text/plain": [
       "1    225\n",
       "5    199\n",
       "2    196\n",
       "3    193\n",
       "4    187\n",
       "Name: stars, dtype: int64"
      ]
     },
     "execution_count": 36,
     "metadata": {},
     "output_type": "execute_result"
    }
   ],
   "source": [
    "dataset_train_dos.stars.value_counts()"
   ]
  },
  {
   "cell_type": "markdown",
   "metadata": {},
   "source": [
    "**Vectorización TF-IDF**"
   ]
  },
  {
   "cell_type": "markdown",
   "metadata": {},
   "source": [
    "Tomamos X del DS train y del DS dev y comparamos su desempeño"
   ]
  },
  {
   "cell_type": "code",
   "execution_count": 39,
   "metadata": {},
   "outputs": [],
   "source": [
    "tfidf = TfidfVectorizer (analyzer = 'word', max_features = 5000)\n",
    "X_ds_train = tfidf.fit_transform(dataset_train_dos['review_body'].values.astype('U')) \n",
    "y_ds_train = dataset_train_dos ['stars']"
   ]
  },
  {
   "cell_type": "code",
   "execution_count": 40,
   "metadata": {},
   "outputs": [],
   "source": [
    "X_ds_dev = tfidf.transform(dataset_dev['review_body'].values.astype('U')) \n",
    "y_ds_dev = dataset_dev['stars']"
   ]
  },
  {
   "cell_type": "raw",
   "metadata": {},
   "source": [
    "X_ds_dev"
   ]
  },
  {
   "cell_type": "code",
   "execution_count": 41,
   "metadata": {},
   "outputs": [
    {
     "data": {
      "text/plain": [
       "74908     2\n",
       "190142    5\n",
       "146398    4\n",
       "119731    3\n",
       "31203     1\n",
       "         ..\n",
       "27363     1\n",
       "190047    5\n",
       "89201     3\n",
       "37053     1\n",
       "108388    3\n",
       "Name: stars, Length: 1000, dtype: int64"
      ]
     },
     "execution_count": 41,
     "metadata": {},
     "output_type": "execute_result"
    }
   ],
   "source": [
    "y_ds_train"
   ]
  },
  {
   "cell_type": "markdown",
   "metadata": {},
   "source": [
    "**OVO - One vs One Classifier**"
   ]
  },
  {
   "cell_type": "code",
   "execution_count": 43,
   "metadata": {},
   "outputs": [],
   "source": [
    "modelo_train= OneVsOneClassifier(LinearSVC(random_state = 42)).fit(X_ds_train,y_ds_train)\n",
    "y_dev_pred= modelo_train.predict(X_ds_dev)"
   ]
  },
  {
   "cell_type": "code",
   "execution_count": 44,
   "metadata": {},
   "outputs": [
    {
     "data": {
      "text/plain": [
       "OneVsOneClassifier(estimator=LinearSVC(random_state=42))"
      ]
     },
     "execution_count": 44,
     "metadata": {},
     "output_type": "execute_result"
    }
   ],
   "source": [
    "modelo_train"
   ]
  },
  {
   "cell_type": "code",
   "execution_count": 45,
   "metadata": {},
   "outputs": [
    {
     "data": {
      "text/plain": [
       "array([2, 1, 4, ..., 4, 4, 4], dtype=int64)"
      ]
     },
     "execution_count": 45,
     "metadata": {},
     "output_type": "execute_result"
    }
   ],
   "source": [
    "y_dev_pred"
   ]
  },
  {
   "cell_type": "code",
   "execution_count": null,
   "metadata": {},
   "outputs": [],
   "source": []
  },
  {
   "cell_type": "code",
   "execution_count": 46,
   "metadata": {},
   "outputs": [
    {
     "name": "stdout",
     "output_type": "stream",
     "text": [
      "              precision    recall  f1-score   support\n",
      "\n",
      "           1       0.43      0.57      0.49      1000\n",
      "           2       0.26      0.27      0.27      1000\n",
      "           3       0.28      0.26      0.27      1000\n",
      "           4       0.31      0.25      0.28      1000\n",
      "           5       0.45      0.40      0.42      1000\n",
      "\n",
      "    accuracy                           0.35      5000\n",
      "   macro avg       0.35      0.35      0.35      5000\n",
      "weighted avg       0.35      0.35      0.35      5000\n",
      "\n"
     ]
    }
   ],
   "source": [
    "print(classification_report(y_ds_dev, y_dev_pred))"
   ]
  },
  {
   "cell_type": "code",
   "execution_count": null,
   "metadata": {},
   "outputs": [],
   "source": []
  }
 ],
 "metadata": {
  "colab": {
   "collapsed_sections": [],
   "name": "DS_Proyecto_03_NLP.ipynb",
   "provenance": []
  },
  "kernelspec": {
   "display_name": "Python 3",
   "language": "python",
   "name": "python3"
  },
  "language_info": {
   "codemirror_mode": {
    "name": "ipython",
    "version": 3
   },
   "file_extension": ".py",
   "mimetype": "text/x-python",
   "name": "python",
   "nbconvert_exporter": "python",
   "pygments_lexer": "ipython3",
   "version": "3.8.5"
  }
 },
 "nbformat": 4,
 "nbformat_minor": 4
}
