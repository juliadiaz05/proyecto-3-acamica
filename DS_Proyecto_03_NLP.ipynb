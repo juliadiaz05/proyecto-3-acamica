{
 "cells": [
  {
   "cell_type": "markdown",
   "metadata": {
    "id": "2GRQnxMzISE_"
   },
   "source": [
    "# Proyecto 03 - Procesamiento del Lenguaje Natural\n",
    "\n",
    "## Dataset: The Multilingual Amazon Reviews Corpus\n",
    "\n",
    "**Recuerda descargar el dataset de [aquí](https://github.com/kang205/SASRec). Es un archivo .zip que contiene tres documentos. Más información sobre el dataset [aquí](https://registry.opendata.aws/amazon-reviews-ml/). Es importante que tengas en cuenta la [licencia](https://docs.opendata.aws/amazon-reviews-ml/license.txt) de este dataset.**\n",
    "\n",
    "### Exploración de datos y Procesamiento del Lenguaje Natural\n",
    "\n",
    "Dedícale un buen tiempo a hacer un Análisis Exploratorio de Datos. Considera que hasta que no hayas aplicado las herramientas de Procesamiento del Lenguaje Natural vistas, será difícil completar este análisis. Elige preguntas que creas que puedas responder con este dataset. Por ejemplo, ¿qué palabras están asociadas a calificaciones positivas y qué palabras a calificaciones negativas?\n",
    "\n",
    "### Machine Learning\n",
    "\n",
    "Implementa un modelo que, dada la crítica de un producto, asigne la cantidad de estrellas correspondiente. **Para pensar**: ¿es un problema de Clasificación o de Regresión?\n",
    "\n",
    "1. Haz todas las transformaciones de datos que consideres necesarias. Justifica.\n",
    "1. Evalúa de forma apropiada sus resultados. Justifica la métrica elegida.\n",
    "1. Elige un modelo benchmark y compara tus resultados con este modelo.\n",
    "1. Optimiza los hiperparámetros de tu modelo.\n",
    "1. Intenta responder la pregunta: ¿Qué información está usando el modelo para predecir?\n",
    "\n",
    "**Recomendación:** si no te resulta conveniente trabajar en español con NLTK, te recomendamos que explores la librería [spaCy](https://spacy.io/).\n",
    "\n",
    "### Para pensar, investigar y, opcionalmente, implementar\n",
    "1. ¿Valdrá la pena convertir el problema de Machine Learning en un problema binario? Es decir, asignar únicamente las etiquetas Positiva y Negativa a cada crítica y hacer un modelo que, en lugar de predecir las estrellas, prediga esa etiqueta. Pensar en qué situación puede ser útil. ¿Esperas que el desempeño sea mejor o peor?\n",
    "1. ¿Hay algo que te gustaría investigar o probar?\n",
    "\n",
    "### **¡Tómate tiempo para investigar y leer mucho!**"
   ]
  },
  {
   "cell_type": "code",
   "execution_count": 1,
   "metadata": {
    "id": "x1GFwraSISFB"
   },
   "outputs": [],
   "source": [
    "import itertools\n",
    "\n",
    "import numpy as np\n",
    "import pandas as pd\n",
    "\n",
    "import matplotlib.pyplot as plt\n",
    "import seaborn as sns\n",
    "sns.set()\n"
   ]
  },
  {
   "cell_type": "markdown",
   "metadata": {},
   "source": [
    "## Dataset DEV ##"
   ]
  },
  {
   "cell_type": "code",
   "execution_count": 2,
   "metadata": {},
   "outputs": [
    {
     "data": {
      "text/html": [
       "<div>\n",
       "<style scoped>\n",
       "    .dataframe tbody tr th:only-of-type {\n",
       "        vertical-align: middle;\n",
       "    }\n",
       "\n",
       "    .dataframe tbody tr th {\n",
       "        vertical-align: top;\n",
       "    }\n",
       "\n",
       "    .dataframe thead th {\n",
       "        text-align: right;\n",
       "    }\n",
       "</style>\n",
       "<table border=\"1\" class=\"dataframe\">\n",
       "  <thead>\n",
       "    <tr style=\"text-align: right;\">\n",
       "      <th></th>\n",
       "      <th>review_id</th>\n",
       "      <th>product_id</th>\n",
       "      <th>reviewer_id</th>\n",
       "      <th>stars</th>\n",
       "      <th>review_body</th>\n",
       "      <th>review_title</th>\n",
       "      <th>language</th>\n",
       "      <th>product_category</th>\n",
       "    </tr>\n",
       "  </thead>\n",
       "  <tbody>\n",
       "    <tr>\n",
       "      <th>0</th>\n",
       "      <td>es_0417480</td>\n",
       "      <td>product_es_0873923</td>\n",
       "      <td>reviewer_es_0672978</td>\n",
       "      <td>1</td>\n",
       "      <td>Malisimo, muy grande demasiado aparatoso y mal...</td>\n",
       "      <td>Mala compra</td>\n",
       "      <td>es</td>\n",
       "      <td>wireless</td>\n",
       "    </tr>\n",
       "    <tr>\n",
       "      <th>1</th>\n",
       "      <td>es_0180432</td>\n",
       "      <td>product_es_0713146</td>\n",
       "      <td>reviewer_es_0100858</td>\n",
       "      <td>1</td>\n",
       "      <td>No he recibido el pedido no la devolución</td>\n",
       "      <td>No lo he recibido</td>\n",
       "      <td>es</td>\n",
       "      <td>apparel</td>\n",
       "    </tr>\n",
       "    <tr>\n",
       "      <th>2</th>\n",
       "      <td>es_0144850</td>\n",
       "      <td>product_es_0356874</td>\n",
       "      <td>reviewer_es_0486447</td>\n",
       "      <td>1</td>\n",
       "      <td>Tengo que buscar otro sistema, este no funcion...</td>\n",
       "      <td>Que no aprieta bien en el manillar</td>\n",
       "      <td>es</td>\n",
       "      <td>sports</td>\n",
       "    </tr>\n",
       "    <tr>\n",
       "      <th>3</th>\n",
       "      <td>es_0339629</td>\n",
       "      <td>product_es_0939832</td>\n",
       "      <td>reviewer_es_0894703</td>\n",
       "      <td>1</td>\n",
       "      <td>Utilicé las brocas de menor diámetro y se me d...</td>\n",
       "      <td>Brocas de mantequilla</td>\n",
       "      <td>es</td>\n",
       "      <td>home_improvement</td>\n",
       "    </tr>\n",
       "    <tr>\n",
       "      <th>4</th>\n",
       "      <td>es_0858362</td>\n",
       "      <td>product_es_0489066</td>\n",
       "      <td>reviewer_es_0887663</td>\n",
       "      <td>1</td>\n",
       "      <td>No me gusta su olor a viejo y aspecto malo</td>\n",
       "      <td>No me gusta</td>\n",
       "      <td>es</td>\n",
       "      <td>beauty</td>\n",
       "    </tr>\n",
       "  </tbody>\n",
       "</table>\n",
       "</div>"
      ],
      "text/plain": [
       "    review_id          product_id          reviewer_id  stars  \\\n",
       "0  es_0417480  product_es_0873923  reviewer_es_0672978      1   \n",
       "1  es_0180432  product_es_0713146  reviewer_es_0100858      1   \n",
       "2  es_0144850  product_es_0356874  reviewer_es_0486447      1   \n",
       "3  es_0339629  product_es_0939832  reviewer_es_0894703      1   \n",
       "4  es_0858362  product_es_0489066  reviewer_es_0887663      1   \n",
       "\n",
       "                                         review_body  \\\n",
       "0  Malisimo, muy grande demasiado aparatoso y mal...   \n",
       "1          No he recibido el pedido no la devolución   \n",
       "2  Tengo que buscar otro sistema, este no funcion...   \n",
       "3  Utilicé las brocas de menor diámetro y se me d...   \n",
       "4         No me gusta su olor a viejo y aspecto malo   \n",
       "\n",
       "                         review_title language  product_category  \n",
       "0                         Mala compra       es          wireless  \n",
       "1                   No lo he recibido       es           apparel  \n",
       "2  Que no aprieta bien en el manillar       es            sports  \n",
       "3               Brocas de mantequilla       es  home_improvement  \n",
       "4                         No me gusta       es            beauty  "
      ]
     },
     "execution_count": 2,
     "metadata": {},
     "output_type": "execute_result"
    }
   ],
   "source": [
    "dataset_dev = pd.read_json('dataset_es_dev.json', lines = True)\n",
    "dataset_dev.head()"
   ]
  },
  {
   "cell_type": "code",
   "execution_count": 3,
   "metadata": {},
   "outputs": [
    {
     "data": {
      "text/plain": [
       "(5000, 8)"
      ]
     },
     "execution_count": 3,
     "metadata": {},
     "output_type": "execute_result"
    }
   ],
   "source": [
    "dataset_dev.shape"
   ]
  },
  {
   "cell_type": "code",
   "execution_count": 4,
   "metadata": {},
   "outputs": [
    {
     "data": {
      "text/plain": [
       "(5000, 8)"
      ]
     },
     "execution_count": 4,
     "metadata": {},
     "output_type": "execute_result"
    }
   ],
   "source": [
    "dataset_dev.drop_duplicates(inplace = True) #no hay datos duplicados ni faltantes\n",
    "dataset_dev.shape"
   ]
  },
  {
   "cell_type": "code",
   "execution_count": 5,
   "metadata": {},
   "outputs": [
    {
     "data": {
      "text/plain": [
       "review_id           0\n",
       "product_id          0\n",
       "reviewer_id         0\n",
       "stars               0\n",
       "review_body         0\n",
       "review_title        0\n",
       "language            0\n",
       "product_category    0\n",
       "dtype: int64"
      ]
     },
     "execution_count": 5,
     "metadata": {},
     "output_type": "execute_result"
    }
   ],
   "source": [
    "dataset_dev.isna().sum()"
   ]
  },
  {
   "cell_type": "code",
   "execution_count": 6,
   "metadata": {},
   "outputs": [
    {
     "data": {
      "text/plain": [
       "es    5000\n",
       "Name: language, dtype: int64"
      ]
     },
     "execution_count": 6,
     "metadata": {},
     "output_type": "execute_result"
    }
   ],
   "source": [
    "dataset_dev.language.value_counts() #solo reseñas en español"
   ]
  },
  {
   "cell_type": "code",
   "execution_count": 7,
   "metadata": {},
   "outputs": [
    {
     "data": {
      "text/plain": [
       "(5000,)"
      ]
     },
     "execution_count": 7,
     "metadata": {},
     "output_type": "execute_result"
    }
   ],
   "source": [
    "dataset_dev.review_body.shape"
   ]
  },
  {
   "cell_type": "code",
   "execution_count": 8,
   "metadata": {},
   "outputs": [
    {
     "data": {
      "text/plain": [
       "4    1000\n",
       "1    1000\n",
       "5    1000\n",
       "2    1000\n",
       "3    1000\n",
       "Name: stars, dtype: int64"
      ]
     },
     "execution_count": 8,
     "metadata": {},
     "output_type": "execute_result"
    }
   ],
   "source": [
    "dataset_dev.stars.value_counts()"
   ]
  },
  {
   "cell_type": "code",
   "execution_count": 9,
   "metadata": {},
   "outputs": [
    {
     "data": {
      "text/plain": [
       "product_es_0257155    2\n",
       "product_es_0244030    2\n",
       "product_es_0294859    2\n",
       "product_es_0871533    2\n",
       "product_es_0920931    2\n",
       "                     ..\n",
       "product_es_0941384    1\n",
       "product_es_0070827    1\n",
       "product_es_0454367    1\n",
       "product_es_0898727    1\n",
       "product_es_0464684    1\n",
       "Name: product_id, Length: 4964, dtype: int64"
      ]
     },
     "execution_count": 9,
     "metadata": {},
     "output_type": "execute_result"
    }
   ],
   "source": [
    "dataset_dev.product_id.value_counts()"
   ]
  },
  {
   "cell_type": "code",
   "execution_count": 10,
   "metadata": {},
   "outputs": [
    {
     "data": {
      "text/plain": [
       "reviewer_es_0964440    2\n",
       "reviewer_es_0986865    2\n",
       "reviewer_es_0488492    2\n",
       "reviewer_es_0672560    2\n",
       "reviewer_es_0428276    2\n",
       "                      ..\n",
       "reviewer_es_0944387    1\n",
       "reviewer_es_0898134    1\n",
       "reviewer_es_0124895    1\n",
       "reviewer_es_0094584    1\n",
       "reviewer_es_0620289    1\n",
       "Name: reviewer_id, Length: 4982, dtype: int64"
      ]
     },
     "execution_count": 10,
     "metadata": {},
     "output_type": "execute_result"
    }
   ],
   "source": [
    "dataset_dev.reviewer_id.value_counts() #product id y reviewer id no deberian coincidir?"
   ]
  },
  {
   "cell_type": "markdown",
   "metadata": {},
   "source": [
    "Elijo una instancia al azar y veo el review boby"
   ]
  },
  {
   "cell_type": "code",
   "execution_count": 11,
   "metadata": {},
   "outputs": [
    {
     "name": "stdout",
     "output_type": "stream",
     "text": [
      "1291 Es bonita pero esperaba mejor calidad y que cubriera mejor al TF por delante en la pantalla. Por el precio ya podía ser mejor\n"
     ]
    }
   ],
   "source": [
    "np.random #.seed(56)\n",
    "index_random = np.random.randint(0,high = dataset_dev.shape[0])\n",
    "descripcion = dataset_dev.iloc[index_random].review_body\n",
    "print(index_random, descripcion)"
   ]
  },
  {
   "cell_type": "markdown",
   "metadata": {},
   "source": [
    "vemos la estrella con la que califico al producto comprado"
   ]
  },
  {
   "cell_type": "code",
   "execution_count": 12,
   "metadata": {},
   "outputs": [
    {
     "name": "stdout",
     "output_type": "stream",
     "text": [
      "El comprador 1291\n",
      "Califico al producto con 2 estrellas\n",
      "1291 2\n"
     ]
    }
   ],
   "source": [
    "print (f'El comprador {index_random}')\n",
    "print (f'Califico al producto con {dataset_dev.iloc[index_random].stars} estrellas' )\n",
    "\n",
    "print(index_random, dataset_dev.iloc[index_random].stars)"
   ]
  },
  {
   "cell_type": "code",
   "execution_count": 13,
   "metadata": {},
   "outputs": [],
   "source": [
    "import spacy\n",
    "from spacy import displacy\n",
    "from spacy.pipeline import EntityRuler\n",
    "from spacy.lang.es.examples import sentences"
   ]
  },
  {
   "cell_type": "code",
   "execution_count": 14,
   "metadata": {},
   "outputs": [],
   "source": [
    "nlp = spacy.load(\"es_core_news_sm\")"
   ]
  },
  {
   "cell_type": "code",
   "execution_count": 15,
   "metadata": {},
   "outputs": [],
   "source": [
    "doc = nlp (descripcion)"
   ]
  },
  {
   "cell_type": "code",
   "execution_count": 16,
   "metadata": {},
   "outputs": [
    {
     "name": "stdout",
     "output_type": "stream",
     "text": [
      "Es\n",
      "bonita\n",
      "pero\n",
      "esperaba\n",
      "mejor\n",
      "calidad\n",
      "y\n",
      "que\n",
      "cubriera\n",
      "mejor\n",
      "al\n",
      "TF\n",
      "por\n",
      "delante\n",
      "en\n",
      "la\n",
      "pantalla\n",
      ".\n",
      "Por\n",
      "el\n",
      "precio\n",
      "ya\n",
      "podía\n",
      "ser\n",
      "mejor\n"
     ]
    }
   ],
   "source": [
    "for token in doc:\n",
    "    print(token.text)"
   ]
  },
  {
   "cell_type": "markdown",
   "metadata": {},
   "source": [
    "Vemos las stop words"
   ]
  },
  {
   "cell_type": "code",
   "execution_count": 17,
   "metadata": {},
   "outputs": [
    {
     "name": "stdout",
     "output_type": "stream",
     "text": [
      "['ultimo', 'ésta', 'ese', 'podria', 'propios', 'trabajan', 'tal', 'más', 'cuanto', 'menudo', 'nosotros', 'hecho', 'aquéllos', 'cuando', 'aqui', 'dicen', 'vuestro', 'afirmó', 'mismo', 'llegó', 'hasta', 'mucha', 'algo', 'nuevos', 'le', 'soy', 'solos', 'parte', 'horas', 'bastante', 'contigo', 'éstos', 'emplear', 'informo', 'da', 'estos', 'mejor', 'ambos', 'usas', 'quizas', 'ésas', 'estar', 'través', 'intentar', 'mas', 'mis', 'usted', 'dado', 'creo', 'aun', 'cuántos', 'ciertas', 'durante', 'detrás', 'un', 'grandes', 'tuya', 'otra', 'todo', 'ésa', 'hay', 'dónde', 'aproximadamente', 'arribaabajo', 'cual', 'tarde', 'nos', 'pudo', 'son', 'estado', 'cerca', 'podriais', 'es', 'sobre', 'tienen', 'sido', 'al', 'pais', 'quién', 'lleva', 'mismas', 'anterior', 'este', 'antano', 'días', 'saber', 'estados', 'ya', 'también', 'considera', 'final', 'ni', 'tú', 'ha', 'sabes', 'momento', 'mío', 'bajo', 'pasada', 'cuál', 'poner', 'tres', 'sin', 'ningún', 'podrían', 'ningunas', 'os', 'del', 'agregó', 'total', 'ahi', 'ahí', 'nunca', 'propias', 'añadió', 'podemos', 'sus', 'buen', 'antes', 'ahora', 'consigues', 'verdadero', 'vuestros', 'vez', 'mismos', 'próximos', 'verdadera', 'estaba', 'sabeis', 'siendo', 'modo', 'aún', 'siete', 'indicó', 'alguno', 'ello', 'primero', 'ustedes', 'comentó', 'deprisa', 'sería', 'eras', 'consigo', 'cuantos', 'sigue', 'hacen', 'sean', 'acuerdo', 'día', 'eso', 'cuánta', 'somos', 'tenga', 'allí', 'porque', 'demás', 'largo', 'mal', 'primeros', 'quedó', 'señaló', 'breve', 'tuyos', 'casi', 'existe', 'queremos', 'ellas', 'era', 'intentan', 'dan', 'trabajo', 'en', 'habían', 'he', 'tiene', 'hizo', 'ciertos', 'aseguró', 'buenos', 'él', 'encuentra', 'desde', 'trabaja', 'sea', 'posible', 'dieron', 'manera', 'decir', 'junto', 'antaño', 'ocho', 'sí', 'propia', 'general', 'mí', 'se', 'esta', 'sola', 'diferente', 'expresó', 'donde', 'adelante', 'vamos', 'conocer', 'estais', 'ése', 'tuvo', 'unos', 'excepto', 'trabajamos', 'podrán', 'tanto', 'podrias', 'quizá', 'todas', 'usamos', 'sois', 'vuestra', 'consideró', 'esto', 'quiénes', 'dia', 'algunas', 'nuestros', 'hace', 'tenemos', 'cosas', 'embargo', 'otro', 'hacerlo', 'conseguir', 'cuatro', 'respecto', 'mi', 'tenido', 'cada', 'eran', 'vuestras', 'mediante', 'varios', 'arriba', 'cinco', 'tiempo', 'gran', 'ademas', 'trata', 'hacia', 'pocas', 'mías', 'varias', 'llevar', 'dicho', 'había', 'sé', 'haceis', 'intentas', 'realizar', 'toda', 'actualmente', 'apenas', 'segundo', 'demasiado', 'cierto', 'tras', 'dice', 'ante', 'estará', 'gueno', 'mios', 'por', 'debajo', 'despues', 'poco', 'mía', 'dentro', 'aquí', 'puede', 'usar', 'vaya', 'entonces', 'claro', 'nuestra', 'los', 'empleas', 'detras', 'dias', 'intentais', 'saben', 'ningunos', 'primera', 'bien', 'nueva', 'eramos', 'paìs', 'su', 'enfrente', 'tener', 'trabajar', 'asi', 'muchas', 'aquél', 'muchos', 'nuestras', 'existen', 'mucho', 'sera', 'lejos', 'entre', 'nadie', 'van', 'vosotros', 'conseguimos', 'podriamos', 'fui', 'tan', 'yo', 'emplean', 'mia', 'podría', 'consigue', 'alli', 'dar', 'fuera', 'aquel', 'deben', 'haya', 'quiza', 'cuantas', 'bueno', 'ampleamos', 'buena', 'pronto', 'tampoco', 'nuevas', 'pueda', 'cuáles', 'repente', 'me', 'incluso', 'aquéllas', 'teneis', 'haciendo', 'serán', 'suyas', 'para', 'estaban', 'debe', 'éste', 'nosotras', 'peor', 'puedo', 'veces', 'aquello', 'ir', 'dejó', 'quizás', 'intenta', 'alrededor', 'siguiente', 'realizado', 'trabajas', 'contra', 'además', 'consiguen', 'hacer', 'estan', 'ninguno', 'qué', 'tambien', 'segun', 'de', 'último', 'verdad', 'vais', 'raras', 'están', 'usais', 'unas', 'ésos', 'todos', 'aquella', 'cómo', 'primer', 'poder', 'principalmente', 'salvo', 'hubo', 'partir', 'aquellos', 'después', 'cualquier', 'atras', 'cuales', 'alguna', 'tendrá', 'si', 'última', 'usa', 'explicó', 'nuevo', 'cuántas', 'como', 'sabe', 'fuimos', 'sino', 'dijeron', 'manifestó', 'tuyo', 'hoy', 'tengo', 'empleo', 'igual', 'adrede', 'supuesto', 'ejemplo', 'cuanta', 'cuándo', 'va', 'podeis', 'algún', 'propio', 'ti', 'podrian', 'dio', 'cuenta', 'han', 'lugar', 'fue', 'aquélla', 'empleais', 'uso', 'temprano', 'podrá', 'estas', 'hablan', 'ellos', 'haces', 'esos', 'algunos', 'ninguna', 'pesar', 'cierta', 'intentamos', 'seis', 'ser', 'pueden', 'que', 'míos', 'qeu', 'ayer', 'éstas', 'estoy', 'buenas', 'tenía', 'luego', 'te', 'pues', 'poca', 'voy', 'quienes', 'dos', 'mayor', 'lo', 'despacio', 'intento', 'habla', 'pero', 'proximo', 'aquellas', 'últimos', 'ex', 'pocos', 'estamos', 'sólo', 'misma', 'diferentes', 'parece', 'dijo', 'nada', 'está', 'hago', 'soyos', 'solamente', 'eres', 'tercera', 'mencionó', 'según', 'suya', 'todavía', 'esa', 'tus', 'suyo', 'otros', 'mias', 'fueron', 'habia', 'realizó', 'conmigo', 'sabemos', 'valor', 'debido', 'segunda', 'encima', 'una', 'vosotras', 'ver', 'habrá', 'mientras', 'estuvo', 'esas', 'fin', 'solo', 'aunque', 'delante', 'ella', 'les', 'lado', 'muy', 'quiere', 'pasado', 'será', 'próximo', 'otras', 'tuyas', 'hacemos', 'tu', 'usan', 'siempre', 'últimas', 'todavia', 'con', 'no', 'informó', 'el', 'enseguida', 'menos', 'quien', 'cuánto', 'la', 'nuestro', 'medio', 'así', 'tendrán', 'las', 'uno', 'mio', 'solas', 'trabajais', 'hemos', 'hicieron', 'haber']\n"
     ]
    },
    {
     "data": {
      "text/plain": [
       "551"
      ]
     },
     "execution_count": 17,
     "metadata": {},
     "output_type": "execute_result"
    }
   ],
   "source": [
    "from spacy.lang.es.stop_words import STOP_WORDS\n",
    "stopwords_spacy = list(STOP_WORDS)\n",
    "print (stopwords_spacy)\n",
    "len(stopwords_spacy)"
   ]
  },
  {
   "cell_type": "markdown",
   "metadata": {},
   "source": [
    "Imprimimos las palabras del texto que no son stop words según Spacy"
   ]
  },
  {
   "cell_type": "code",
   "execution_count": 18,
   "metadata": {},
   "outputs": [
    {
     "name": "stdout",
     "output_type": "stream",
     "text": [
      "bonita\n",
      "esperaba\n",
      "calidad\n",
      "y\n",
      "cubriera\n",
      "TF\n",
      "pantalla\n",
      ".\n",
      "precio\n",
      "podía\n"
     ]
    }
   ],
   "source": [
    "for token in doc:\n",
    "    if token.is_stop == False:\n",
    "        print(token)"
   ]
  },
  {
   "cell_type": "markdown",
   "metadata": {},
   "source": [
    "**Lemmatización**"
   ]
  },
  {
   "cell_type": "code",
   "execution_count": 19,
   "metadata": {},
   "outputs": [
    {
     "name": "stdout",
     "output_type": "stream",
     "text": [
      "Es ser\n",
      "bonita bonito\n",
      "pero pero\n",
      "esperaba esperar\n",
      "mejor mejor\n",
      "calidad calidad\n",
      "y y\n",
      "que que\n",
      "cubriera cubrierar\n",
      "mejor mejor\n",
      "al al\n",
      "TF TF\n",
      "por por\n",
      "delante delante\n",
      "en en\n",
      "la el\n",
      "pantalla pantalla\n",
      ". .\n",
      "Por por\n",
      "el el\n",
      "precio precio\n",
      "ya ya\n",
      "podía poder\n",
      "ser ser\n",
      "mejor mejor\n"
     ]
    }
   ],
   "source": [
    "for token in doc:\n",
    "    print (token.text, token.lemma_)"
   ]
  },
  {
   "cell_type": "markdown",
   "metadata": {},
   "source": [
    "**POS Part of Speech**"
   ]
  },
  {
   "cell_type": "code",
   "execution_count": 20,
   "metadata": {},
   "outputs": [
    {
     "name": "stdout",
     "output_type": "stream",
     "text": [
      "Es AUX\n",
      "bonita ADJ\n",
      "pero CCONJ\n",
      "esperaba VERB\n",
      "mejor ADJ\n",
      "calidad NOUN\n",
      "y CCONJ\n",
      "que PRON\n",
      "cubriera VERB\n",
      "mejor ADV\n",
      "al ADP\n",
      "TF PROPN\n",
      "por ADP\n",
      "delante ADV\n",
      "en ADP\n",
      "la DET\n",
      "pantalla NOUN\n",
      ". PUNCT\n",
      "Por ADP\n",
      "el DET\n",
      "precio NOUN\n",
      "ya ADV\n",
      "podía AUX\n",
      "ser AUX\n",
      "mejor ADJ\n"
     ]
    }
   ],
   "source": [
    "for token in doc:\n",
    "    print (token.text, token.pos_)"
   ]
  },
  {
   "cell_type": "markdown",
   "metadata": {},
   "source": [
    "**Tokenización**\n",
    "\n",
    "Eliminamos los signos "
   ]
  },
  {
   "cell_type": "code",
   "execution_count": 21,
   "metadata": {},
   "outputs": [],
   "source": [
    "from sklearn.feature_extraction.text import TfidfVectorizer\n",
    "from sklearn.pipeline import Pipeline\n",
    "from sklearn.model_selection import train_test_split"
   ]
  },
  {
   "cell_type": "code",
   "execution_count": 22,
   "metadata": {},
   "outputs": [
    {
     "data": {
      "text/plain": [
       "'!\"#$%&\\'()*+,-./:;<=>?@[\\\\]^_`{|}~¿!¡? + \" \"'"
      ]
     },
     "execution_count": 22,
     "metadata": {},
     "output_type": "execute_result"
    }
   ],
   "source": [
    "import string\n",
    "puntua = string.punctuation + '¿!¡? + \" \"'\n",
    "puntua"
   ]
  },
  {
   "cell_type": "code",
   "execution_count": 23,
   "metadata": {},
   "outputs": [],
   "source": [
    "def text_data_cleaning(sentence):\n",
    "    doc=nlp(sentence)\n",
    "    \n",
    "    tokens = []\n",
    "    for token in doc:\n",
    "        if token.lemma_ != '-PRON-':\n",
    "            temp= token.lemma_.strip()\n",
    "        else:\n",
    "            temp = token\n",
    "        tokens.append(temp)\n",
    "        \n",
    "    clean_tokens = []\n",
    "    for token in tokens:\n",
    "        if token not in stopwords_spacy and token not in puntua:\n",
    "            clean_tokens.append(token)\n",
    "            \n",
    "    return \" \".join(clean_tokens)"
   ]
  },
  {
   "cell_type": "code",
   "execution_count": 24,
   "metadata": {},
   "outputs": [
    {
     "data": {
      "text/plain": [
       "'bonito esperar calidad y cubrierar TF pantalla precio'"
      ]
     },
     "execution_count": 24,
     "metadata": {},
     "output_type": "execute_result"
    }
   ],
   "source": [
    "text_data_cleaning(descripcion)"
   ]
  },
  {
   "cell_type": "code",
   "execution_count": 25,
   "metadata": {},
   "outputs": [
    {
     "data": {
      "text/plain": [
       "0          malisimo grande aparatoso y protector pantalla\n",
       "1                               recibir pedido devolución\n",
       "2       buscar sistema funcionar abrazadera agarrar ma...\n",
       "3       Utilicé broca menor diámetro y doblar mantequi...\n",
       "4                      gustar olor a viejo y aspecto malo\n",
       "                              ...                        \n",
       "4995    encantar cesta llegar impecable tamaño util fi...\n",
       "4996                     desempeñar función correctamente\n",
       "4997    encantar diadema flor venir imagen y venir apl...\n",
       "4998    a gustar funda TPU fundas normalmente fino y c...\n",
       "4999                  artículo cumplir expectativa desear\n",
       "Name: review_body, Length: 5000, dtype: object"
      ]
     },
     "execution_count": 25,
     "metadata": {},
     "output_type": "execute_result"
    }
   ],
   "source": [
    "dataset_dev.review_body.apply(text_data_cleaning)"
   ]
  },
  {
   "cell_type": "code",
   "execution_count": 26,
   "metadata": {},
   "outputs": [
    {
     "data": {
      "text/html": [
       "<div>\n",
       "<style scoped>\n",
       "    .dataframe tbody tr th:only-of-type {\n",
       "        vertical-align: middle;\n",
       "    }\n",
       "\n",
       "    .dataframe tbody tr th {\n",
       "        vertical-align: top;\n",
       "    }\n",
       "\n",
       "    .dataframe thead th {\n",
       "        text-align: right;\n",
       "    }\n",
       "</style>\n",
       "<table border=\"1\" class=\"dataframe\">\n",
       "  <thead>\n",
       "    <tr style=\"text-align: right;\">\n",
       "      <th></th>\n",
       "      <th>review_id</th>\n",
       "      <th>product_id</th>\n",
       "      <th>reviewer_id</th>\n",
       "      <th>stars</th>\n",
       "      <th>review_body</th>\n",
       "      <th>review_title</th>\n",
       "      <th>language</th>\n",
       "      <th>product_category</th>\n",
       "    </tr>\n",
       "  </thead>\n",
       "  <tbody>\n",
       "    <tr>\n",
       "      <th>0</th>\n",
       "      <td>es_0417480</td>\n",
       "      <td>product_es_0873923</td>\n",
       "      <td>reviewer_es_0672978</td>\n",
       "      <td>1</td>\n",
       "      <td>Malisimo, muy grande demasiado aparatoso y mal...</td>\n",
       "      <td>Mala compra</td>\n",
       "      <td>es</td>\n",
       "      <td>wireless</td>\n",
       "    </tr>\n",
       "    <tr>\n",
       "      <th>1</th>\n",
       "      <td>es_0180432</td>\n",
       "      <td>product_es_0713146</td>\n",
       "      <td>reviewer_es_0100858</td>\n",
       "      <td>1</td>\n",
       "      <td>No he recibido el pedido no la devolución</td>\n",
       "      <td>No lo he recibido</td>\n",
       "      <td>es</td>\n",
       "      <td>apparel</td>\n",
       "    </tr>\n",
       "    <tr>\n",
       "      <th>2</th>\n",
       "      <td>es_0144850</td>\n",
       "      <td>product_es_0356874</td>\n",
       "      <td>reviewer_es_0486447</td>\n",
       "      <td>1</td>\n",
       "      <td>Tengo que buscar otro sistema, este no funcion...</td>\n",
       "      <td>Que no aprieta bien en el manillar</td>\n",
       "      <td>es</td>\n",
       "      <td>sports</td>\n",
       "    </tr>\n",
       "  </tbody>\n",
       "</table>\n",
       "</div>"
      ],
      "text/plain": [
       "    review_id          product_id          reviewer_id  stars  \\\n",
       "0  es_0417480  product_es_0873923  reviewer_es_0672978      1   \n",
       "1  es_0180432  product_es_0713146  reviewer_es_0100858      1   \n",
       "2  es_0144850  product_es_0356874  reviewer_es_0486447      1   \n",
       "\n",
       "                                         review_body  \\\n",
       "0  Malisimo, muy grande demasiado aparatoso y mal...   \n",
       "1          No he recibido el pedido no la devolución   \n",
       "2  Tengo que buscar otro sistema, este no funcion...   \n",
       "\n",
       "                         review_title language product_category  \n",
       "0                         Mala compra       es         wireless  \n",
       "1                   No lo he recibido       es          apparel  \n",
       "2  Que no aprieta bien en el manillar       es           sports  "
      ]
     },
     "execution_count": 26,
     "metadata": {},
     "output_type": "execute_result"
    }
   ],
   "source": [
    "dataset_dev.head(3)"
   ]
  },
  {
   "cell_type": "markdown",
   "metadata": {},
   "source": [
    "## vos decis q dio bien??? para mi algo fallo y no saco las , o algo. es decir, no pude aplicar el data_cleaning al ds\n",
    "intente hacer dataset_dev[´review_body´] =dataset_dev.review_body.apply(text_data_cleaning) y me tiro un error. igual corro la celda debajo para q lo veas"
   ]
  },
  {
   "cell_type": "code",
   "execution_count": 27,
   "metadata": {},
   "outputs": [],
   "source": [
    "dataset_dev['review_body']= dataset_dev.review_body.apply(text_data_cleaning)"
   ]
  },
  {
   "cell_type": "code",
   "execution_count": 28,
   "metadata": {},
   "outputs": [
    {
     "data": {
      "text/html": [
       "<div>\n",
       "<style scoped>\n",
       "    .dataframe tbody tr th:only-of-type {\n",
       "        vertical-align: middle;\n",
       "    }\n",
       "\n",
       "    .dataframe tbody tr th {\n",
       "        vertical-align: top;\n",
       "    }\n",
       "\n",
       "    .dataframe thead th {\n",
       "        text-align: right;\n",
       "    }\n",
       "</style>\n",
       "<table border=\"1\" class=\"dataframe\">\n",
       "  <thead>\n",
       "    <tr style=\"text-align: right;\">\n",
       "      <th></th>\n",
       "      <th>review_id</th>\n",
       "      <th>product_id</th>\n",
       "      <th>reviewer_id</th>\n",
       "      <th>stars</th>\n",
       "      <th>review_body</th>\n",
       "      <th>review_title</th>\n",
       "      <th>language</th>\n",
       "      <th>product_category</th>\n",
       "    </tr>\n",
       "  </thead>\n",
       "  <tbody>\n",
       "    <tr>\n",
       "      <th>0</th>\n",
       "      <td>es_0417480</td>\n",
       "      <td>product_es_0873923</td>\n",
       "      <td>reviewer_es_0672978</td>\n",
       "      <td>1</td>\n",
       "      <td>malisimo grande aparatoso y protector pantalla</td>\n",
       "      <td>Mala compra</td>\n",
       "      <td>es</td>\n",
       "      <td>wireless</td>\n",
       "    </tr>\n",
       "    <tr>\n",
       "      <th>1</th>\n",
       "      <td>es_0180432</td>\n",
       "      <td>product_es_0713146</td>\n",
       "      <td>reviewer_es_0100858</td>\n",
       "      <td>1</td>\n",
       "      <td>recibir pedido devolución</td>\n",
       "      <td>No lo he recibido</td>\n",
       "      <td>es</td>\n",
       "      <td>apparel</td>\n",
       "    </tr>\n",
       "    <tr>\n",
       "      <th>2</th>\n",
       "      <td>es_0144850</td>\n",
       "      <td>product_es_0356874</td>\n",
       "      <td>reviewer_es_0486447</td>\n",
       "      <td>1</td>\n",
       "      <td>buscar sistema funcionar abrazadera agarrar ma...</td>\n",
       "      <td>Que no aprieta bien en el manillar</td>\n",
       "      <td>es</td>\n",
       "      <td>sports</td>\n",
       "    </tr>\n",
       "    <tr>\n",
       "      <th>3</th>\n",
       "      <td>es_0339629</td>\n",
       "      <td>product_es_0939832</td>\n",
       "      <td>reviewer_es_0894703</td>\n",
       "      <td>1</td>\n",
       "      <td>Utilicé broca menor diámetro y doblar mantequi...</td>\n",
       "      <td>Brocas de mantequilla</td>\n",
       "      <td>es</td>\n",
       "      <td>home_improvement</td>\n",
       "    </tr>\n",
       "    <tr>\n",
       "      <th>4</th>\n",
       "      <td>es_0858362</td>\n",
       "      <td>product_es_0489066</td>\n",
       "      <td>reviewer_es_0887663</td>\n",
       "      <td>1</td>\n",
       "      <td>gustar olor a viejo y aspecto malo</td>\n",
       "      <td>No me gusta</td>\n",
       "      <td>es</td>\n",
       "      <td>beauty</td>\n",
       "    </tr>\n",
       "    <tr>\n",
       "      <th>...</th>\n",
       "      <td>...</td>\n",
       "      <td>...</td>\n",
       "      <td>...</td>\n",
       "      <td>...</td>\n",
       "      <td>...</td>\n",
       "      <td>...</td>\n",
       "      <td>...</td>\n",
       "      <td>...</td>\n",
       "    </tr>\n",
       "    <tr>\n",
       "      <th>4995</th>\n",
       "      <td>es_0179515</td>\n",
       "      <td>product_es_0158275</td>\n",
       "      <td>reviewer_es_0273644</td>\n",
       "      <td>5</td>\n",
       "      <td>encantar cesta llegar impecable tamaño util fi...</td>\n",
       "      <td>guadalupe</td>\n",
       "      <td>es</td>\n",
       "      <td>home</td>\n",
       "    </tr>\n",
       "    <tr>\n",
       "      <th>4996</th>\n",
       "      <td>es_0894902</td>\n",
       "      <td>product_es_0953259</td>\n",
       "      <td>reviewer_es_0153773</td>\n",
       "      <td>5</td>\n",
       "      <td>desempeñar función correctamente</td>\n",
       "      <td>calidad precio</td>\n",
       "      <td>es</td>\n",
       "      <td>camera</td>\n",
       "    </tr>\n",
       "    <tr>\n",
       "      <th>4997</th>\n",
       "      <td>es_0760496</td>\n",
       "      <td>product_es_0731995</td>\n",
       "      <td>reviewer_es_0171091</td>\n",
       "      <td>5</td>\n",
       "      <td>encantar diadema flor venir imagen y venir apl...</td>\n",
       "      <td>Excelente</td>\n",
       "      <td>es</td>\n",
       "      <td>toy</td>\n",
       "    </tr>\n",
       "    <tr>\n",
       "      <th>4998</th>\n",
       "      <td>es_0178380</td>\n",
       "      <td>product_es_0402051</td>\n",
       "      <td>reviewer_es_0686937</td>\n",
       "      <td>5</td>\n",
       "      <td>a gustar funda TPU fundas normalmente fino y c...</td>\n",
       "      <td>Genial</td>\n",
       "      <td>es</td>\n",
       "      <td>wireless</td>\n",
       "    </tr>\n",
       "    <tr>\n",
       "      <th>4999</th>\n",
       "      <td>es_0810087</td>\n",
       "      <td>product_es_0684221</td>\n",
       "      <td>reviewer_es_0613091</td>\n",
       "      <td>5</td>\n",
       "      <td>artículo cumplir expectativa desear</td>\n",
       "      <td>Buena calidad</td>\n",
       "      <td>es</td>\n",
       "      <td>apparel</td>\n",
       "    </tr>\n",
       "  </tbody>\n",
       "</table>\n",
       "<p>5000 rows × 8 columns</p>\n",
       "</div>"
      ],
      "text/plain": [
       "       review_id          product_id          reviewer_id  stars  \\\n",
       "0     es_0417480  product_es_0873923  reviewer_es_0672978      1   \n",
       "1     es_0180432  product_es_0713146  reviewer_es_0100858      1   \n",
       "2     es_0144850  product_es_0356874  reviewer_es_0486447      1   \n",
       "3     es_0339629  product_es_0939832  reviewer_es_0894703      1   \n",
       "4     es_0858362  product_es_0489066  reviewer_es_0887663      1   \n",
       "...          ...                 ...                  ...    ...   \n",
       "4995  es_0179515  product_es_0158275  reviewer_es_0273644      5   \n",
       "4996  es_0894902  product_es_0953259  reviewer_es_0153773      5   \n",
       "4997  es_0760496  product_es_0731995  reviewer_es_0171091      5   \n",
       "4998  es_0178380  product_es_0402051  reviewer_es_0686937      5   \n",
       "4999  es_0810087  product_es_0684221  reviewer_es_0613091      5   \n",
       "\n",
       "                                            review_body  \\\n",
       "0        malisimo grande aparatoso y protector pantalla   \n",
       "1                             recibir pedido devolución   \n",
       "2     buscar sistema funcionar abrazadera agarrar ma...   \n",
       "3     Utilicé broca menor diámetro y doblar mantequi...   \n",
       "4                    gustar olor a viejo y aspecto malo   \n",
       "...                                                 ...   \n",
       "4995  encantar cesta llegar impecable tamaño util fi...   \n",
       "4996                   desempeñar función correctamente   \n",
       "4997  encantar diadema flor venir imagen y venir apl...   \n",
       "4998  a gustar funda TPU fundas normalmente fino y c...   \n",
       "4999                artículo cumplir expectativa desear   \n",
       "\n",
       "                            review_title language  product_category  \n",
       "0                            Mala compra       es          wireless  \n",
       "1                      No lo he recibido       es           apparel  \n",
       "2     Que no aprieta bien en el manillar       es            sports  \n",
       "3                  Brocas de mantequilla       es  home_improvement  \n",
       "4                            No me gusta       es            beauty  \n",
       "...                                  ...      ...               ...  \n",
       "4995                           guadalupe       es              home  \n",
       "4996                      calidad precio       es            camera  \n",
       "4997                           Excelente       es               toy  \n",
       "4998                              Genial       es          wireless  \n",
       "4999                       Buena calidad       es           apparel  \n",
       "\n",
       "[5000 rows x 8 columns]"
      ]
     },
     "execution_count": 28,
     "metadata": {},
     "output_type": "execute_result"
    }
   ],
   "source": [
    "dataset_dev"
   ]
  },
  {
   "cell_type": "markdown",
   "metadata": {},
   "source": [
    "** ahora me dio, no se que paso jajajaja ** asi esta bien? **"
   ]
  },
  {
   "cell_type": "code",
   "execution_count": null,
   "metadata": {},
   "outputs": [],
   "source": []
  },
  {
   "cell_type": "markdown",
   "metadata": {},
   "source": [
    "## convertilo a csv ## - no me salio. realidad cuando lo busque en google dice que tengo q poner el archivo para q lo cambie, y no se como exportar el ds en json para convertirlo a csv. me explico?? ##"
   ]
  },
  {
   "cell_type": "markdown",
   "metadata": {},
   "source": [
    "tener un dataset en donde tengo todas las oraciones ordenadas y lematizadas. el dataset resultante lo guardo en un csv"
   ]
  },
  {
   "cell_type": "markdown",
   "metadata": {},
   "source": [
    "**Vectorización TF-IDF**"
   ]
  },
  {
   "cell_type": "code",
   "execution_count": 29,
   "metadata": {},
   "outputs": [],
   "source": [
    "#from sklearn.svm import LinearSVC"
   ]
  },
  {
   "cell_type": "code",
   "execution_count": 30,
   "metadata": {},
   "outputs": [],
   "source": [
    "#tfidf = TfidfVectorizer(tokenizer = text_data_cleaning)\n",
    "#classifier = LinearSVC()"
   ]
  },
  {
   "cell_type": "code",
   "execution_count": null,
   "metadata": {},
   "outputs": [],
   "source": []
  },
  {
   "cell_type": "code",
   "execution_count": 31,
   "metadata": {},
   "outputs": [],
   "source": [
    "#clf = Pipeline([('tfidf', tfidf), ('clf', classifier)])"
   ]
  },
  {
   "cell_type": "code",
   "execution_count": 32,
   "metadata": {},
   "outputs": [],
   "source": [
    "#dataset_dev.review_body =tfidf.fit_transform(dataset_dev.review_body)\n",
    "#dataset_dev"
   ]
  },
  {
   "cell_type": "code",
   "execution_count": 33,
   "metadata": {},
   "outputs": [],
   "source": [
    "#X_transform_rick"
   ]
  },
  {
   "cell_type": "markdown",
   "metadata": {},
   "source": [
    "##PENDIENTES##\n",
    "\n",
    "terminar de hacer vectorizacion. \n",
    "\n",
    "Pense en dividir el DS en dos. uno que tenga los comentarios de las personas que hayan puntuado entre 1 y 3 estrellas y el otro con el de 4 y 5 y buscar cuales son las palabras que mas se repiten en ambos. Quizas al dividir en dos el df se distribuyen de diferente manera las product_Category y podemos ver si algunas tienen mayor tendencia a tener malas puntuaciones. o cuales son las catergorias con mejor puntuacion.\n",
    "\n",
    "\n"
   ]
  },
  {
   "cell_type": "markdown",
   "metadata": {},
   "source": [
    "## DS TRAIN ##"
   ]
  },
  {
   "cell_type": "code",
   "execution_count": 34,
   "metadata": {},
   "outputs": [
    {
     "data": {
      "text/html": [
       "<div>\n",
       "<style scoped>\n",
       "    .dataframe tbody tr th:only-of-type {\n",
       "        vertical-align: middle;\n",
       "    }\n",
       "\n",
       "    .dataframe tbody tr th {\n",
       "        vertical-align: top;\n",
       "    }\n",
       "\n",
       "    .dataframe thead th {\n",
       "        text-align: right;\n",
       "    }\n",
       "</style>\n",
       "<table border=\"1\" class=\"dataframe\">\n",
       "  <thead>\n",
       "    <tr style=\"text-align: right;\">\n",
       "      <th></th>\n",
       "      <th>review_id</th>\n",
       "      <th>product_id</th>\n",
       "      <th>reviewer_id</th>\n",
       "      <th>stars</th>\n",
       "      <th>review_body</th>\n",
       "      <th>review_title</th>\n",
       "      <th>language</th>\n",
       "      <th>product_category</th>\n",
       "    </tr>\n",
       "  </thead>\n",
       "  <tbody>\n",
       "    <tr>\n",
       "      <th>0</th>\n",
       "      <td>es_0491108</td>\n",
       "      <td>product_es_0296024</td>\n",
       "      <td>reviewer_es_0999081</td>\n",
       "      <td>1</td>\n",
       "      <td>Nada bueno se me fue ka pantalla en menos de 8...</td>\n",
       "      <td>television Nevir</td>\n",
       "      <td>es</td>\n",
       "      <td>electronics</td>\n",
       "    </tr>\n",
       "    <tr>\n",
       "      <th>1</th>\n",
       "      <td>es_0869872</td>\n",
       "      <td>product_es_0922286</td>\n",
       "      <td>reviewer_es_0216771</td>\n",
       "      <td>1</td>\n",
       "      <td>Horrible, nos tuvimos que comprar otro porque ...</td>\n",
       "      <td>Dinero tirado a la basura con esta compra</td>\n",
       "      <td>es</td>\n",
       "      <td>electronics</td>\n",
       "    </tr>\n",
       "    <tr>\n",
       "      <th>2</th>\n",
       "      <td>es_0811721</td>\n",
       "      <td>product_es_0474543</td>\n",
       "      <td>reviewer_es_0929213</td>\n",
       "      <td>1</td>\n",
       "      <td>Te obligan a comprar dos unidades y te llega s...</td>\n",
       "      <td>solo llega una unidad cuando te obligan a comp...</td>\n",
       "      <td>es</td>\n",
       "      <td>drugstore</td>\n",
       "    </tr>\n",
       "    <tr>\n",
       "      <th>3</th>\n",
       "      <td>es_0359921</td>\n",
       "      <td>product_es_0656090</td>\n",
       "      <td>reviewer_es_0224702</td>\n",
       "      <td>1</td>\n",
       "      <td>No entro en descalificar al vendedor, solo pue...</td>\n",
       "      <td>PRODUCTO NO RECIBIDO.</td>\n",
       "      <td>es</td>\n",
       "      <td>wireless</td>\n",
       "    </tr>\n",
       "    <tr>\n",
       "      <th>4</th>\n",
       "      <td>es_0068940</td>\n",
       "      <td>product_es_0662544</td>\n",
       "      <td>reviewer_es_0224827</td>\n",
       "      <td>1</td>\n",
       "      <td>Llega tarde y co la talla equivocada</td>\n",
       "      <td>Devuelto</td>\n",
       "      <td>es</td>\n",
       "      <td>shoes</td>\n",
       "    </tr>\n",
       "  </tbody>\n",
       "</table>\n",
       "</div>"
      ],
      "text/plain": [
       "    review_id          product_id          reviewer_id  stars  \\\n",
       "0  es_0491108  product_es_0296024  reviewer_es_0999081      1   \n",
       "1  es_0869872  product_es_0922286  reviewer_es_0216771      1   \n",
       "2  es_0811721  product_es_0474543  reviewer_es_0929213      1   \n",
       "3  es_0359921  product_es_0656090  reviewer_es_0224702      1   \n",
       "4  es_0068940  product_es_0662544  reviewer_es_0224827      1   \n",
       "\n",
       "                                         review_body  \\\n",
       "0  Nada bueno se me fue ka pantalla en menos de 8...   \n",
       "1  Horrible, nos tuvimos que comprar otro porque ...   \n",
       "2  Te obligan a comprar dos unidades y te llega s...   \n",
       "3  No entro en descalificar al vendedor, solo pue...   \n",
       "4               Llega tarde y co la talla equivocada   \n",
       "\n",
       "                                        review_title language product_category  \n",
       "0                                   television Nevir       es      electronics  \n",
       "1          Dinero tirado a la basura con esta compra       es      electronics  \n",
       "2  solo llega una unidad cuando te obligan a comp...       es        drugstore  \n",
       "3                              PRODUCTO NO RECIBIDO.       es         wireless  \n",
       "4                                           Devuelto       es            shoes  "
      ]
     },
     "execution_count": 34,
     "metadata": {},
     "output_type": "execute_result"
    }
   ],
   "source": [
    "dataset_train = pd.read_json('dataset_es_train.json', lines = True)\n",
    "dataset_train.head()"
   ]
  },
  {
   "cell_type": "code",
   "execution_count": 35,
   "metadata": {},
   "outputs": [
    {
     "data": {
      "text/plain": [
       "(200000, 8)"
      ]
     },
     "execution_count": 35,
     "metadata": {},
     "output_type": "execute_result"
    }
   ],
   "source": [
    "dataset_train.shape"
   ]
  },
  {
   "cell_type": "code",
   "execution_count": 36,
   "metadata": {},
   "outputs": [
    {
     "data": {
      "text/plain": [
       "review_id           0\n",
       "product_id          0\n",
       "reviewer_id         0\n",
       "stars               0\n",
       "review_body         0\n",
       "review_title        0\n",
       "language            0\n",
       "product_category    0\n",
       "dtype: int64"
      ]
     },
     "execution_count": 36,
     "metadata": {},
     "output_type": "execute_result"
    }
   ],
   "source": [
    "dataset_train.isna().sum()"
   ]
  },
  {
   "cell_type": "code",
   "execution_count": 37,
   "metadata": {},
   "outputs": [
    {
     "data": {
      "text/plain": [
       "(200000,)"
      ]
     },
     "execution_count": 37,
     "metadata": {},
     "output_type": "execute_result"
    }
   ],
   "source": [
    "dataset_train.review_body.shape"
   ]
  },
  {
   "cell_type": "code",
   "execution_count": 38,
   "metadata": {},
   "outputs": [
    {
     "name": "stdout",
     "output_type": "stream",
     "text": [
      "48022 Me llego muy rapido, a los dos dias de la compra (una semana antes o mas de lo estimado), pero no es del tamaño del leeco S3, se queda pequeño, no cubre toda la pantalla.\n"
     ]
    }
   ],
   "source": [
    "#Elijo una instanciaal azar y veo el review body\n",
    "\n",
    "np.random #.seed(18)\n",
    "index_random = np.random.randint(0,high = dataset_train.shape[0])\n",
    "descripcion_train = dataset_train.iloc[index_random].review_body\n",
    "print(index_random, descripcion_train)"
   ]
  },
  {
   "cell_type": "code",
   "execution_count": 39,
   "metadata": {},
   "outputs": [
    {
     "name": "stdout",
     "output_type": "stream",
     "text": [
      "El comprador 48022\n",
      "Califico al producto con 2 estrellas\n",
      "48022 2\n"
     ]
    }
   ],
   "source": [
    "print (f'El comprador {index_random}')\n",
    "print (f'Califico al producto con {dataset_train.iloc[index_random].stars} estrellas' )\n",
    "\n",
    "print(index_random, dataset_train.iloc[index_random].stars)"
   ]
  },
  {
   "cell_type": "code",
   "execution_count": 40,
   "metadata": {},
   "outputs": [],
   "source": [
    "doc = nlp (descripcion_train)"
   ]
  },
  {
   "cell_type": "code",
   "execution_count": 41,
   "metadata": {},
   "outputs": [
    {
     "name": "stdout",
     "output_type": "stream",
     "text": [
      "Me\n",
      "llego\n",
      "muy\n",
      "rapido\n",
      ",\n",
      "a\n",
      "los\n",
      "dos\n",
      "dias\n",
      "de\n",
      "la\n",
      "compra\n",
      "(\n",
      "una\n",
      "semana\n",
      "antes\n",
      "o\n",
      "mas\n",
      "de\n",
      "lo\n",
      "estimado\n",
      ")\n",
      ",\n",
      "pero\n",
      "no\n",
      "es\n",
      "del\n",
      "tamaño\n",
      "del\n",
      "leeco\n",
      "S3\n",
      ",\n",
      "se\n",
      "queda\n",
      "pequeño\n",
      ",\n",
      "no\n",
      "cubre\n",
      "toda\n",
      "la\n",
      "pantalla\n",
      ".\n"
     ]
    }
   ],
   "source": [
    "for token in doc:\n",
    "    print(token.text)"
   ]
  },
  {
   "cell_type": "code",
   "execution_count": 42,
   "metadata": {},
   "outputs": [
    {
     "name": "stdout",
     "output_type": "stream",
     "text": [
      "['ultimo', 'ésta', 'ese', 'podria', 'propios', 'trabajan', 'tal', 'más', 'cuanto', 'menudo', 'nosotros', 'hecho', 'aquéllos', 'cuando', 'aqui', 'dicen', 'vuestro', 'afirmó', 'mismo', 'llegó', 'hasta', 'mucha', 'algo', 'nuevos', 'le', 'soy', 'solos', 'parte', 'horas', 'bastante', 'contigo', 'éstos', 'emplear', 'informo', 'da', 'estos', 'mejor', 'ambos', 'usas', 'quizas', 'ésas', 'estar', 'través', 'intentar', 'mas', 'mis', 'usted', 'dado', 'creo', 'aun', 'cuántos', 'ciertas', 'durante', 'detrás', 'un', 'grandes', 'tuya', 'otra', 'todo', 'ésa', 'hay', 'dónde', 'aproximadamente', 'arribaabajo', 'cual', 'tarde', 'nos', 'pudo', 'son', 'estado', 'cerca', 'podriais', 'es', 'sobre', 'tienen', 'sido', 'al', 'pais', 'quién', 'lleva', 'mismas', 'anterior', 'este', 'antano', 'días', 'saber', 'estados', 'ya', 'también', 'considera', 'final', 'ni', 'tú', 'ha', 'sabes', 'momento', 'mío', 'bajo', 'pasada', 'cuál', 'poner', 'tres', 'sin', 'ningún', 'podrían', 'ningunas', 'os', 'del', 'agregó', 'total', 'ahi', 'ahí', 'nunca', 'propias', 'añadió', 'podemos', 'sus', 'buen', 'antes', 'ahora', 'consigues', 'verdadero', 'vuestros', 'vez', 'mismos', 'próximos', 'verdadera', 'estaba', 'sabeis', 'siendo', 'modo', 'aún', 'siete', 'indicó', 'alguno', 'ello', 'primero', 'ustedes', 'comentó', 'deprisa', 'sería', 'eras', 'consigo', 'cuantos', 'sigue', 'hacen', 'sean', 'acuerdo', 'día', 'eso', 'cuánta', 'somos', 'tenga', 'allí', 'porque', 'demás', 'largo', 'mal', 'primeros', 'quedó', 'señaló', 'breve', 'tuyos', 'casi', 'existe', 'queremos', 'ellas', 'era', 'intentan', 'dan', 'trabajo', 'en', 'habían', 'he', 'tiene', 'hizo', 'ciertos', 'aseguró', 'buenos', 'él', 'encuentra', 'desde', 'trabaja', 'sea', 'posible', 'dieron', 'manera', 'decir', 'junto', 'antaño', 'ocho', 'sí', 'propia', 'general', 'mí', 'se', 'esta', 'sola', 'diferente', 'expresó', 'donde', 'adelante', 'vamos', 'conocer', 'estais', 'ése', 'tuvo', 'unos', 'excepto', 'trabajamos', 'podrán', 'tanto', 'podrias', 'quizá', 'todas', 'usamos', 'sois', 'vuestra', 'consideró', 'esto', 'quiénes', 'dia', 'algunas', 'nuestros', 'hace', 'tenemos', 'cosas', 'embargo', 'otro', 'hacerlo', 'conseguir', 'cuatro', 'respecto', 'mi', 'tenido', 'cada', 'eran', 'vuestras', 'mediante', 'varios', 'arriba', 'cinco', 'tiempo', 'gran', 'ademas', 'trata', 'hacia', 'pocas', 'mías', 'varias', 'llevar', 'dicho', 'había', 'sé', 'haceis', 'intentas', 'realizar', 'toda', 'actualmente', 'apenas', 'segundo', 'demasiado', 'cierto', 'tras', 'dice', 'ante', 'estará', 'gueno', 'mios', 'por', 'debajo', 'despues', 'poco', 'mía', 'dentro', 'aquí', 'puede', 'usar', 'vaya', 'entonces', 'claro', 'nuestra', 'los', 'empleas', 'detras', 'dias', 'intentais', 'saben', 'ningunos', 'primera', 'bien', 'nueva', 'eramos', 'paìs', 'su', 'enfrente', 'tener', 'trabajar', 'asi', 'muchas', 'aquél', 'muchos', 'nuestras', 'existen', 'mucho', 'sera', 'lejos', 'entre', 'nadie', 'van', 'vosotros', 'conseguimos', 'podriamos', 'fui', 'tan', 'yo', 'emplean', 'mia', 'podría', 'consigue', 'alli', 'dar', 'fuera', 'aquel', 'deben', 'haya', 'quiza', 'cuantas', 'bueno', 'ampleamos', 'buena', 'pronto', 'tampoco', 'nuevas', 'pueda', 'cuáles', 'repente', 'me', 'incluso', 'aquéllas', 'teneis', 'haciendo', 'serán', 'suyas', 'para', 'estaban', 'debe', 'éste', 'nosotras', 'peor', 'puedo', 'veces', 'aquello', 'ir', 'dejó', 'quizás', 'intenta', 'alrededor', 'siguiente', 'realizado', 'trabajas', 'contra', 'además', 'consiguen', 'hacer', 'estan', 'ninguno', 'qué', 'tambien', 'segun', 'de', 'último', 'verdad', 'vais', 'raras', 'están', 'usais', 'unas', 'ésos', 'todos', 'aquella', 'cómo', 'primer', 'poder', 'principalmente', 'salvo', 'hubo', 'partir', 'aquellos', 'después', 'cualquier', 'atras', 'cuales', 'alguna', 'tendrá', 'si', 'última', 'usa', 'explicó', 'nuevo', 'cuántas', 'como', 'sabe', 'fuimos', 'sino', 'dijeron', 'manifestó', 'tuyo', 'hoy', 'tengo', 'empleo', 'igual', 'adrede', 'supuesto', 'ejemplo', 'cuanta', 'cuándo', 'va', 'podeis', 'algún', 'propio', 'ti', 'podrian', 'dio', 'cuenta', 'han', 'lugar', 'fue', 'aquélla', 'empleais', 'uso', 'temprano', 'podrá', 'estas', 'hablan', 'ellos', 'haces', 'esos', 'algunos', 'ninguna', 'pesar', 'cierta', 'intentamos', 'seis', 'ser', 'pueden', 'que', 'míos', 'qeu', 'ayer', 'éstas', 'estoy', 'buenas', 'tenía', 'luego', 'te', 'pues', 'poca', 'voy', 'quienes', 'dos', 'mayor', 'lo', 'despacio', 'intento', 'habla', 'pero', 'proximo', 'aquellas', 'últimos', 'ex', 'pocos', 'estamos', 'sólo', 'misma', 'diferentes', 'parece', 'dijo', 'nada', 'está', 'hago', 'soyos', 'solamente', 'eres', 'tercera', 'mencionó', 'según', 'suya', 'todavía', 'esa', 'tus', 'suyo', 'otros', 'mias', 'fueron', 'habia', 'realizó', 'conmigo', 'sabemos', 'valor', 'debido', 'segunda', 'encima', 'una', 'vosotras', 'ver', 'habrá', 'mientras', 'estuvo', 'esas', 'fin', 'solo', 'aunque', 'delante', 'ella', 'les', 'lado', 'muy', 'quiere', 'pasado', 'será', 'próximo', 'otras', 'tuyas', 'hacemos', 'tu', 'usan', 'siempre', 'últimas', 'todavia', 'con', 'no', 'informó', 'el', 'enseguida', 'menos', 'quien', 'cuánto', 'la', 'nuestro', 'medio', 'así', 'tendrán', 'las', 'uno', 'mio', 'solas', 'trabajais', 'hemos', 'hicieron', 'haber']\n"
     ]
    },
    {
     "data": {
      "text/plain": [
       "551"
      ]
     },
     "execution_count": 42,
     "metadata": {},
     "output_type": "execute_result"
    }
   ],
   "source": [
    "stopwords_spacy_train = list(STOP_WORDS)\n",
    "print (stopwords_spacy_train)\n",
    "len(stopwords_spacy_train)"
   ]
  },
  {
   "cell_type": "code",
   "execution_count": 43,
   "metadata": {},
   "outputs": [
    {
     "name": "stdout",
     "output_type": "stream",
     "text": [
      "llego\n",
      "rapido\n",
      ",\n",
      "a\n",
      "compra\n",
      "(\n",
      "semana\n",
      "o\n",
      "estimado\n",
      ")\n",
      ",\n",
      "tamaño\n",
      "leeco\n",
      "S3\n",
      ",\n",
      "queda\n",
      "pequeño\n",
      ",\n",
      "cubre\n",
      "pantalla\n",
      ".\n"
     ]
    }
   ],
   "source": [
    "for token in doc:\n",
    "    if token.is_stop == False:\n",
    "        print(token)"
   ]
  },
  {
   "cell_type": "markdown",
   "metadata": {},
   "source": [
    "**Lemmatizacion**"
   ]
  },
  {
   "cell_type": "code",
   "execution_count": 44,
   "metadata": {},
   "outputs": [
    {
     "name": "stdout",
     "output_type": "stream",
     "text": [
      "Me yo\n",
      "llego llegar\n",
      "muy mucho\n",
      "rapido rapido\n",
      ", ,\n",
      "a a\n",
      "los el\n",
      "dos dos\n",
      "dias dia\n",
      "de de\n",
      "la el\n",
      "compra compra\n",
      "( (\n",
      "una uno\n",
      "semana semana\n",
      "antes antes\n",
      "o o\n",
      "mas mas\n",
      "de de\n",
      "lo él\n",
      "estimado estimado\n",
      ") )\n",
      ", ,\n",
      "pero pero\n",
      "no no\n",
      "es ser\n",
      "del del\n",
      "tamaño tamaño\n",
      "del del\n",
      "leeco leeco\n",
      "S3 S3\n",
      ", ,\n",
      "se él\n",
      "queda quedar\n",
      "pequeño pequeño\n",
      ", ,\n",
      "no no\n",
      "cubre cubrir\n",
      "toda todo\n",
      "la el\n",
      "pantalla pantalla\n",
      ". .\n"
     ]
    }
   ],
   "source": [
    "for token in doc:\n",
    "    print (token.text, token.lemma_)"
   ]
  },
  {
   "cell_type": "markdown",
   "metadata": {},
   "source": [
    "**POS**"
   ]
  },
  {
   "cell_type": "code",
   "execution_count": 45,
   "metadata": {},
   "outputs": [
    {
     "name": "stdout",
     "output_type": "stream",
     "text": [
      "Me PRON\n",
      "llego VERB\n",
      "muy ADV\n",
      "rapido ADJ\n",
      ", PUNCT\n",
      "a ADP\n",
      "los DET\n",
      "dos NUM\n",
      "dias NOUN\n",
      "de ADP\n",
      "la DET\n",
      "compra NOUN\n",
      "( PUNCT\n",
      "una DET\n",
      "semana NOUN\n",
      "antes ADV\n",
      "o CCONJ\n",
      "mas ADV\n",
      "de ADP\n",
      "lo PRON\n",
      "estimado ADJ\n",
      ") PUNCT\n",
      ", PUNCT\n",
      "pero CCONJ\n",
      "no ADV\n",
      "es AUX\n",
      "del ADP\n",
      "tamaño NOUN\n",
      "del ADP\n",
      "leeco ADJ\n",
      "S3 PROPN\n",
      ", PUNCT\n",
      "se PRON\n",
      "queda VERB\n",
      "pequeño ADJ\n",
      ", PUNCT\n",
      "no ADV\n",
      "cubre VERB\n",
      "toda DET\n",
      "la DET\n",
      "pantalla NOUN\n",
      ". PUNCT\n"
     ]
    }
   ],
   "source": [
    "for token in doc:\n",
    "    print (token.text, token.pos_)"
   ]
  },
  {
   "cell_type": "markdown",
   "metadata": {},
   "source": [
    "**Tokenizacion**"
   ]
  },
  {
   "cell_type": "code",
   "execution_count": 46,
   "metadata": {},
   "outputs": [
    {
     "data": {
      "text/plain": [
       "'!\"#$%&\\'()*+,-./:;<=>?@[\\\\]^_`{|}~¿!¡? + \" \"'"
      ]
     },
     "execution_count": 46,
     "metadata": {},
     "output_type": "execute_result"
    }
   ],
   "source": [
    "puntua_train = string.punctuation + '¿!¡? + \" \"'\n",
    "puntua_train"
   ]
  },
  {
   "cell_type": "code",
   "execution_count": 47,
   "metadata": {},
   "outputs": [],
   "source": [
    "def text_data_cleaning_train(sentence):\n",
    "    doc=nlp(sentence)\n",
    "    \n",
    "    tokens = []\n",
    "    for token in doc:\n",
    "        if token.lemma_ != '-PRON-':\n",
    "            temp= token.lemma_.strip()\n",
    "        else:\n",
    "            temp = token\n",
    "        tokens.append(temp)\n",
    "        \n",
    "    clean_tokens_train = []\n",
    "    for token in tokens:\n",
    "        if token not in stopwords_spacy_train and token not in puntua_train:\n",
    "            clean_tokens_train.append(token)\n",
    "            \n",
    "    return \" \".join(clean_tokens_train)\n",
    "                                "
   ]
  },
  {
   "cell_type": "code",
   "execution_count": 48,
   "metadata": {},
   "outputs": [
    {
     "data": {
      "text/plain": [
       "'bonito esperar calidad y cubrierar TF pantalla precio'"
      ]
     },
     "execution_count": 48,
     "metadata": {},
     "output_type": "execute_result"
    }
   ],
   "source": [
    "text_data_cleaning_train(descripcion)"
   ]
  },
  {
   "cell_type": "code",
   "execution_count": 49,
   "metadata": {},
   "outputs": [
    {
     "data": {
      "text/plain": [
       "0         kar pantalla 8 mes y recibir respuesta fabricante\n",
       "1         Horrible comprar inglés informático hora capaz...\n",
       "2         obligar a comprar unidad y llegar y forma recl...\n",
       "3         entrar descalificar vendedor mes espera .... s...\n",
       "4                              llegar y co talla equivocado\n",
       "                                ...                        \n",
       "199995    Mando funcionar perfectamente y cumplir funció...\n",
       "199996    Compré batería reticencia resultar fácil insta...\n",
       "199997                            calidad satisfecho compra\n",
       "199998                                 Perfecto cumple hijo\n",
       "199999                    Súper brocha caer pelito chula xd\n",
       "Name: review_body, Length: 200000, dtype: object"
      ]
     },
     "execution_count": 49,
     "metadata": {},
     "output_type": "execute_result"
    }
   ],
   "source": [
    "dataset_train.review_body.apply(text_data_cleaning)"
   ]
  },
  {
   "cell_type": "code",
   "execution_count": 50,
   "metadata": {},
   "outputs": [
    {
     "data": {
      "text/html": [
       "<div>\n",
       "<style scoped>\n",
       "    .dataframe tbody tr th:only-of-type {\n",
       "        vertical-align: middle;\n",
       "    }\n",
       "\n",
       "    .dataframe tbody tr th {\n",
       "        vertical-align: top;\n",
       "    }\n",
       "\n",
       "    .dataframe thead th {\n",
       "        text-align: right;\n",
       "    }\n",
       "</style>\n",
       "<table border=\"1\" class=\"dataframe\">\n",
       "  <thead>\n",
       "    <tr style=\"text-align: right;\">\n",
       "      <th></th>\n",
       "      <th>review_id</th>\n",
       "      <th>product_id</th>\n",
       "      <th>reviewer_id</th>\n",
       "      <th>stars</th>\n",
       "      <th>review_body</th>\n",
       "      <th>review_title</th>\n",
       "      <th>language</th>\n",
       "      <th>product_category</th>\n",
       "    </tr>\n",
       "  </thead>\n",
       "  <tbody>\n",
       "    <tr>\n",
       "      <th>0</th>\n",
       "      <td>es_0491108</td>\n",
       "      <td>product_es_0296024</td>\n",
       "      <td>reviewer_es_0999081</td>\n",
       "      <td>1</td>\n",
       "      <td>Nada bueno se me fue ka pantalla en menos de 8...</td>\n",
       "      <td>television Nevir</td>\n",
       "      <td>es</td>\n",
       "      <td>electronics</td>\n",
       "    </tr>\n",
       "    <tr>\n",
       "      <th>1</th>\n",
       "      <td>es_0869872</td>\n",
       "      <td>product_es_0922286</td>\n",
       "      <td>reviewer_es_0216771</td>\n",
       "      <td>1</td>\n",
       "      <td>Horrible, nos tuvimos que comprar otro porque ...</td>\n",
       "      <td>Dinero tirado a la basura con esta compra</td>\n",
       "      <td>es</td>\n",
       "      <td>electronics</td>\n",
       "    </tr>\n",
       "    <tr>\n",
       "      <th>2</th>\n",
       "      <td>es_0811721</td>\n",
       "      <td>product_es_0474543</td>\n",
       "      <td>reviewer_es_0929213</td>\n",
       "      <td>1</td>\n",
       "      <td>Te obligan a comprar dos unidades y te llega s...</td>\n",
       "      <td>solo llega una unidad cuando te obligan a comp...</td>\n",
       "      <td>es</td>\n",
       "      <td>drugstore</td>\n",
       "    </tr>\n",
       "    <tr>\n",
       "      <th>3</th>\n",
       "      <td>es_0359921</td>\n",
       "      <td>product_es_0656090</td>\n",
       "      <td>reviewer_es_0224702</td>\n",
       "      <td>1</td>\n",
       "      <td>No entro en descalificar al vendedor, solo pue...</td>\n",
       "      <td>PRODUCTO NO RECIBIDO.</td>\n",
       "      <td>es</td>\n",
       "      <td>wireless</td>\n",
       "    </tr>\n",
       "    <tr>\n",
       "      <th>4</th>\n",
       "      <td>es_0068940</td>\n",
       "      <td>product_es_0662544</td>\n",
       "      <td>reviewer_es_0224827</td>\n",
       "      <td>1</td>\n",
       "      <td>Llega tarde y co la talla equivocada</td>\n",
       "      <td>Devuelto</td>\n",
       "      <td>es</td>\n",
       "      <td>shoes</td>\n",
       "    </tr>\n",
       "    <tr>\n",
       "      <th>5</th>\n",
       "      <td>es_0779978</td>\n",
       "      <td>product_es_0103315</td>\n",
       "      <td>reviewer_es_0304973</td>\n",
       "      <td>1</td>\n",
       "      <td>Jamás me llegó y el vendedor nunca contacto co...</td>\n",
       "      <td>Jamás me llegó</td>\n",
       "      <td>es</td>\n",
       "      <td>home</td>\n",
       "    </tr>\n",
       "    <tr>\n",
       "      <th>6</th>\n",
       "      <td>es_0591840</td>\n",
       "      <td>product_es_0880915</td>\n",
       "      <td>reviewer_es_0642702</td>\n",
       "      <td>1</td>\n",
       "      <td>El paraguas es de muy mala calidad,da la sensa...</td>\n",
       "      <td>Horroroso!!!</td>\n",
       "      <td>es</td>\n",
       "      <td>luggage</td>\n",
       "    </tr>\n",
       "    <tr>\n",
       "      <th>7</th>\n",
       "      <td>es_0173297</td>\n",
       "      <td>product_es_0814677</td>\n",
       "      <td>reviewer_es_0895784</td>\n",
       "      <td>1</td>\n",
       "      <td>Tuve que devolverla porque al ser triangular n...</td>\n",
       "      <td>Poco funcional</td>\n",
       "      <td>es</td>\n",
       "      <td>office_product</td>\n",
       "    </tr>\n",
       "    <tr>\n",
       "      <th>8</th>\n",
       "      <td>es_0101300</td>\n",
       "      <td>product_es_0654228</td>\n",
       "      <td>reviewer_es_0789283</td>\n",
       "      <td>1</td>\n",
       "      <td>Estoy esperando despues de protestar varias ve...</td>\n",
       "      <td>No me llego</td>\n",
       "      <td>es</td>\n",
       "      <td>electronics</td>\n",
       "    </tr>\n",
       "    <tr>\n",
       "      <th>9</th>\n",
       "      <td>es_0487007</td>\n",
       "      <td>product_es_0877793</td>\n",
       "      <td>reviewer_es_0986278</td>\n",
       "      <td>1</td>\n",
       "      <td>Defectuoso. En apariencia muy bien producto, p...</td>\n",
       "      <td>Mala calidad, defectuoso</td>\n",
       "      <td>es</td>\n",
       "      <td>kitchen</td>\n",
       "    </tr>\n",
       "  </tbody>\n",
       "</table>\n",
       "</div>"
      ],
      "text/plain": [
       "    review_id          product_id          reviewer_id  stars  \\\n",
       "0  es_0491108  product_es_0296024  reviewer_es_0999081      1   \n",
       "1  es_0869872  product_es_0922286  reviewer_es_0216771      1   \n",
       "2  es_0811721  product_es_0474543  reviewer_es_0929213      1   \n",
       "3  es_0359921  product_es_0656090  reviewer_es_0224702      1   \n",
       "4  es_0068940  product_es_0662544  reviewer_es_0224827      1   \n",
       "5  es_0779978  product_es_0103315  reviewer_es_0304973      1   \n",
       "6  es_0591840  product_es_0880915  reviewer_es_0642702      1   \n",
       "7  es_0173297  product_es_0814677  reviewer_es_0895784      1   \n",
       "8  es_0101300  product_es_0654228  reviewer_es_0789283      1   \n",
       "9  es_0487007  product_es_0877793  reviewer_es_0986278      1   \n",
       "\n",
       "                                         review_body  \\\n",
       "0  Nada bueno se me fue ka pantalla en menos de 8...   \n",
       "1  Horrible, nos tuvimos que comprar otro porque ...   \n",
       "2  Te obligan a comprar dos unidades y te llega s...   \n",
       "3  No entro en descalificar al vendedor, solo pue...   \n",
       "4               Llega tarde y co la talla equivocada   \n",
       "5  Jamás me llegó y el vendedor nunca contacto co...   \n",
       "6  El paraguas es de muy mala calidad,da la sensa...   \n",
       "7  Tuve que devolverla porque al ser triangular n...   \n",
       "8  Estoy esperando despues de protestar varias ve...   \n",
       "9  Defectuoso. En apariencia muy bien producto, p...   \n",
       "\n",
       "                                        review_title language product_category  \n",
       "0                                   television Nevir       es      electronics  \n",
       "1          Dinero tirado a la basura con esta compra       es      electronics  \n",
       "2  solo llega una unidad cuando te obligan a comp...       es        drugstore  \n",
       "3                              PRODUCTO NO RECIBIDO.       es         wireless  \n",
       "4                                           Devuelto       es            shoes  \n",
       "5                                     Jamás me llegó       es             home  \n",
       "6                                       Horroroso!!!       es          luggage  \n",
       "7                                     Poco funcional       es   office_product  \n",
       "8                                        No me llego       es      electronics  \n",
       "9                           Mala calidad, defectuoso       es          kitchen  "
      ]
     },
     "execution_count": 50,
     "metadata": {},
     "output_type": "execute_result"
    }
   ],
   "source": [
    "dataset_train.head(10)"
   ]
  },
  {
   "cell_type": "code",
   "execution_count": 51,
   "metadata": {},
   "outputs": [],
   "source": [
    "dataset_train['review_body']= dataset_train.review_body.apply(text_data_cleaning_train)"
   ]
  },
  {
   "cell_type": "code",
   "execution_count": 52,
   "metadata": {},
   "outputs": [
    {
     "data": {
      "text/html": [
       "<div>\n",
       "<style scoped>\n",
       "    .dataframe tbody tr th:only-of-type {\n",
       "        vertical-align: middle;\n",
       "    }\n",
       "\n",
       "    .dataframe tbody tr th {\n",
       "        vertical-align: top;\n",
       "    }\n",
       "\n",
       "    .dataframe thead th {\n",
       "        text-align: right;\n",
       "    }\n",
       "</style>\n",
       "<table border=\"1\" class=\"dataframe\">\n",
       "  <thead>\n",
       "    <tr style=\"text-align: right;\">\n",
       "      <th></th>\n",
       "      <th>review_id</th>\n",
       "      <th>product_id</th>\n",
       "      <th>reviewer_id</th>\n",
       "      <th>stars</th>\n",
       "      <th>review_body</th>\n",
       "      <th>review_title</th>\n",
       "      <th>language</th>\n",
       "      <th>product_category</th>\n",
       "    </tr>\n",
       "  </thead>\n",
       "  <tbody>\n",
       "    <tr>\n",
       "      <th>0</th>\n",
       "      <td>es_0491108</td>\n",
       "      <td>product_es_0296024</td>\n",
       "      <td>reviewer_es_0999081</td>\n",
       "      <td>1</td>\n",
       "      <td>kar pantalla 8 mes y recibir respuesta fabricante</td>\n",
       "      <td>television Nevir</td>\n",
       "      <td>es</td>\n",
       "      <td>electronics</td>\n",
       "    </tr>\n",
       "    <tr>\n",
       "      <th>1</th>\n",
       "      <td>es_0869872</td>\n",
       "      <td>product_es_0922286</td>\n",
       "      <td>reviewer_es_0216771</td>\n",
       "      <td>1</td>\n",
       "      <td>Horrible comprar inglés informático hora capaz...</td>\n",
       "      <td>Dinero tirado a la basura con esta compra</td>\n",
       "      <td>es</td>\n",
       "      <td>electronics</td>\n",
       "    </tr>\n",
       "    <tr>\n",
       "      <th>2</th>\n",
       "      <td>es_0811721</td>\n",
       "      <td>product_es_0474543</td>\n",
       "      <td>reviewer_es_0929213</td>\n",
       "      <td>1</td>\n",
       "      <td>obligar a comprar unidad y llegar y forma recl...</td>\n",
       "      <td>solo llega una unidad cuando te obligan a comp...</td>\n",
       "      <td>es</td>\n",
       "      <td>drugstore</td>\n",
       "    </tr>\n",
       "    <tr>\n",
       "      <th>3</th>\n",
       "      <td>es_0359921</td>\n",
       "      <td>product_es_0656090</td>\n",
       "      <td>reviewer_es_0224702</td>\n",
       "      <td>1</td>\n",
       "      <td>entrar descalificar vendedor mes espera .... s...</td>\n",
       "      <td>PRODUCTO NO RECIBIDO.</td>\n",
       "      <td>es</td>\n",
       "      <td>wireless</td>\n",
       "    </tr>\n",
       "    <tr>\n",
       "      <th>4</th>\n",
       "      <td>es_0068940</td>\n",
       "      <td>product_es_0662544</td>\n",
       "      <td>reviewer_es_0224827</td>\n",
       "      <td>1</td>\n",
       "      <td>llegar y co talla equivocado</td>\n",
       "      <td>Devuelto</td>\n",
       "      <td>es</td>\n",
       "      <td>shoes</td>\n",
       "    </tr>\n",
       "    <tr>\n",
       "      <th>...</th>\n",
       "      <td>...</td>\n",
       "      <td>...</td>\n",
       "      <td>...</td>\n",
       "      <td>...</td>\n",
       "      <td>...</td>\n",
       "      <td>...</td>\n",
       "      <td>...</td>\n",
       "      <td>...</td>\n",
       "    </tr>\n",
       "    <tr>\n",
       "      <th>199995</th>\n",
       "      <td>es_0715276</td>\n",
       "      <td>product_es_0317036</td>\n",
       "      <td>reviewer_es_0643604</td>\n",
       "      <td>5</td>\n",
       "      <td>Mando funcionar perfectamente y cumplir funció...</td>\n",
       "      <td>Tal y como se describe</td>\n",
       "      <td>es</td>\n",
       "      <td>electronics</td>\n",
       "    </tr>\n",
       "    <tr>\n",
       "      <th>199996</th>\n",
       "      <td>es_0085190</td>\n",
       "      <td>product_es_0622919</td>\n",
       "      <td>reviewer_es_0466173</td>\n",
       "      <td>5</td>\n",
       "      <td>Compré batería reticencia resultar fácil insta...</td>\n",
       "      <td>Funciona perfectamente</td>\n",
       "      <td>es</td>\n",
       "      <td>electronics</td>\n",
       "    </tr>\n",
       "    <tr>\n",
       "      <th>199997</th>\n",
       "      <td>es_0484496</td>\n",
       "      <td>product_es_0358101</td>\n",
       "      <td>reviewer_es_0330744</td>\n",
       "      <td>5</td>\n",
       "      <td>calidad satisfecho compra</td>\n",
       "      <td>Buena calidad.</td>\n",
       "      <td>es</td>\n",
       "      <td>apparel</td>\n",
       "    </tr>\n",
       "    <tr>\n",
       "      <th>199998</th>\n",
       "      <td>es_0930141</td>\n",
       "      <td>product_es_0788855</td>\n",
       "      <td>reviewer_es_0694290</td>\n",
       "      <td>5</td>\n",
       "      <td>Perfecto cumple hijo</td>\n",
       "      <td>Recomendado</td>\n",
       "      <td>es</td>\n",
       "      <td>toy</td>\n",
       "    </tr>\n",
       "    <tr>\n",
       "      <th>199999</th>\n",
       "      <td>es_0859809</td>\n",
       "      <td>product_es_0378794</td>\n",
       "      <td>reviewer_es_0141717</td>\n",
       "      <td>5</td>\n",
       "      <td>Súper brocha caer pelito chula xd</td>\n",
       "      <td>Preciosas</td>\n",
       "      <td>es</td>\n",
       "      <td>home</td>\n",
       "    </tr>\n",
       "  </tbody>\n",
       "</table>\n",
       "<p>200000 rows × 8 columns</p>\n",
       "</div>"
      ],
      "text/plain": [
       "         review_id          product_id          reviewer_id  stars  \\\n",
       "0       es_0491108  product_es_0296024  reviewer_es_0999081      1   \n",
       "1       es_0869872  product_es_0922286  reviewer_es_0216771      1   \n",
       "2       es_0811721  product_es_0474543  reviewer_es_0929213      1   \n",
       "3       es_0359921  product_es_0656090  reviewer_es_0224702      1   \n",
       "4       es_0068940  product_es_0662544  reviewer_es_0224827      1   \n",
       "...            ...                 ...                  ...    ...   \n",
       "199995  es_0715276  product_es_0317036  reviewer_es_0643604      5   \n",
       "199996  es_0085190  product_es_0622919  reviewer_es_0466173      5   \n",
       "199997  es_0484496  product_es_0358101  reviewer_es_0330744      5   \n",
       "199998  es_0930141  product_es_0788855  reviewer_es_0694290      5   \n",
       "199999  es_0859809  product_es_0378794  reviewer_es_0141717      5   \n",
       "\n",
       "                                              review_body  \\\n",
       "0       kar pantalla 8 mes y recibir respuesta fabricante   \n",
       "1       Horrible comprar inglés informático hora capaz...   \n",
       "2       obligar a comprar unidad y llegar y forma recl...   \n",
       "3       entrar descalificar vendedor mes espera .... s...   \n",
       "4                            llegar y co talla equivocado   \n",
       "...                                                   ...   \n",
       "199995  Mando funcionar perfectamente y cumplir funció...   \n",
       "199996  Compré batería reticencia resultar fácil insta...   \n",
       "199997                          calidad satisfecho compra   \n",
       "199998                               Perfecto cumple hijo   \n",
       "199999                  Súper brocha caer pelito chula xd   \n",
       "\n",
       "                                             review_title language  \\\n",
       "0                                        television Nevir       es   \n",
       "1               Dinero tirado a la basura con esta compra       es   \n",
       "2       solo llega una unidad cuando te obligan a comp...       es   \n",
       "3                                   PRODUCTO NO RECIBIDO.       es   \n",
       "4                                                Devuelto       es   \n",
       "...                                                   ...      ...   \n",
       "199995                             Tal y como se describe       es   \n",
       "199996                             Funciona perfectamente       es   \n",
       "199997                                     Buena calidad.       es   \n",
       "199998                                        Recomendado       es   \n",
       "199999                                          Preciosas       es   \n",
       "\n",
       "       product_category  \n",
       "0           electronics  \n",
       "1           electronics  \n",
       "2             drugstore  \n",
       "3              wireless  \n",
       "4                 shoes  \n",
       "...                 ...  \n",
       "199995      electronics  \n",
       "199996      electronics  \n",
       "199997          apparel  \n",
       "199998              toy  \n",
       "199999             home  \n",
       "\n",
       "[200000 rows x 8 columns]"
      ]
     },
     "execution_count": 52,
     "metadata": {},
     "output_type": "execute_result"
    }
   ],
   "source": [
    "dataset_train"
   ]
  },
  {
   "cell_type": "code",
   "execution_count": null,
   "metadata": {},
   "outputs": [],
   "source": []
  }
 ],
 "metadata": {
  "colab": {
   "collapsed_sections": [],
   "name": "DS_Proyecto_03_NLP.ipynb",
   "provenance": []
  },
  "kernelspec": {
   "display_name": "Python 3",
   "language": "python",
   "name": "python3"
  },
  "language_info": {
   "codemirror_mode": {
    "name": "ipython",
    "version": 3
   },
   "file_extension": ".py",
   "mimetype": "text/x-python",
   "name": "python",
   "nbconvert_exporter": "python",
   "pygments_lexer": "ipython3",
   "version": "3.8.5"
  }
 },
 "nbformat": 4,
 "nbformat_minor": 4
}
