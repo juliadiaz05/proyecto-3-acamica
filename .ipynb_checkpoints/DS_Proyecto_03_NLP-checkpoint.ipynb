{
 "cells": [
  {
   "cell_type": "markdown",
   "metadata": {
    "id": "2GRQnxMzISE_"
   },
   "source": [
    "# Proyecto 03 - Procesamiento del Lenguaje Natural\n",
    "\n",
    "## Dataset: The Multilingual Amazon Reviews Corpus\n",
    "\n",
    "**Recuerda descargar el dataset de [aquí](https://github.com/kang205/SASRec). Es un archivo .zip que contiene tres documentos. Más información sobre el dataset [aquí](https://registry.opendata.aws/amazon-reviews-ml/). Es importante que tengas en cuenta la [licencia](https://docs.opendata.aws/amazon-reviews-ml/license.txt) de este dataset.**\n",
    "\n",
    "### Exploración de datos y Procesamiento del Lenguaje Natural\n",
    "\n",
    "Dedícale un buen tiempo a hacer un Análisis Exploratorio de Datos. Considera que hasta que no hayas aplicado las herramientas de Procesamiento del Lenguaje Natural vistas, será difícil completar este análisis. Elige preguntas que creas que puedas responder con este dataset. Por ejemplo, ¿qué palabras están asociadas a calificaciones positivas y qué palabras a calificaciones negativas?\n",
    "\n",
    "### Machine Learning\n",
    "\n",
    "Implementa un modelo que, dada la crítica de un producto, asigne la cantidad de estrellas correspondiente. **Para pensar**: ¿es un problema de Clasificación o de Regresión?\n",
    "\n",
    "1. Haz todas las transformaciones de datos que consideres necesarias. Justifica.\n",
    "1. Evalúa de forma apropiada sus resultados. Justifica la métrica elegida.\n",
    "1. Elige un modelo benchmark y compara tus resultados con este modelo.\n",
    "1. Optimiza los hiperparámetros de tu modelo.\n",
    "1. Intenta responder la pregunta: ¿Qué información está usando el modelo para predecir?\n",
    "\n",
    "**Recomendación:** si no te resulta conveniente trabajar en español con NLTK, te recomendamos que explores la librería [spaCy](https://spacy.io/).\n",
    "\n",
    "### Para pensar, investigar y, opcionalmente, implementar\n",
    "1. ¿Valdrá la pena convertir el problema de Machine Learning en un problema binario? Es decir, asignar únicamente las etiquetas Positiva y Negativa a cada crítica y hacer un modelo que, en lugar de predecir las estrellas, prediga esa etiqueta. Pensar en qué situación puede ser útil. ¿Esperas que el desempeño sea mejor o peor?\n",
    "1. ¿Hay algo que te gustaría investigar o probar?\n",
    "\n",
    "### **¡Tómate tiempo para investigar y leer mucho!**"
   ]
  },
  {
   "cell_type": "code",
   "execution_count": 1,
   "metadata": {
    "id": "x1GFwraSISFB"
   },
   "outputs": [],
   "source": [
    "#Importo las librerias con las que voy a trabajar\n",
    "import numpy as np\n",
    "import pandas as pd\n",
    "import matplotlib.pyplot as plt\n",
    "import seaborn as sns\n",
    "sns.set()\n",
    "import spacy\n",
    "from spacy import displacy\n",
    "from spacy.pipeline import EntityRuler\n",
    "from spacy.lang.es.examples import sentences\n",
    "from spacy.lang.es.stop_words import STOP_WORDS\n",
    "from sklearn.feature_extraction.text import TfidfVectorizer\n",
    "from sklearn.multiclass import OneVsOneClassifier\n",
    "from sklearn.svm import LinearSVC\n",
    "import string\n",
    "from sklearn.metrics import classification_report\n",
    "from scipy import sparse\n",
    "from sklearn.ensemble import RandomForestClassifier\n",
    "from sklearn.metrics import accuracy_score"
   ]
  },
  {
   "cell_type": "markdown",
   "metadata": {},
   "source": [
    "**Teniendo en cuenta que los Datasets son de gran tamaño y tardan mucho en cargar, voy a usar el Dataset DEV para la demostracion de todas las transformaciones que hay que realizar y luego voy a importar los DS TRAIN Y TEST en formato CSV con las mismas ya realizadas**\n",
    "\n",
    "**En el poyecto estan incluidos 3 dataset. DEV / TRAIN /TEST**\n",
    "**Como algunos DS contienen gran cantidad de datos y demoran en cargarse. voy a realizar el paso a paso del análisis exploratorio sobre DEV y luego voy a importar TRAIN Y TEST ya transformados en formato CSV para su mejor carga**"
   ]
  },
  {
   "cell_type": "markdown",
   "metadata": {},
   "source": [
    "## Dataset DEV ##"
   ]
  },
  {
   "cell_type": "code",
   "execution_count": 2,
   "metadata": {},
   "outputs": [
    {
     "data": {
      "text/html": [
       "<div>\n",
       "<style scoped>\n",
       "    .dataframe tbody tr th:only-of-type {\n",
       "        vertical-align: middle;\n",
       "    }\n",
       "\n",
       "    .dataframe tbody tr th {\n",
       "        vertical-align: top;\n",
       "    }\n",
       "\n",
       "    .dataframe thead th {\n",
       "        text-align: right;\n",
       "    }\n",
       "</style>\n",
       "<table border=\"1\" class=\"dataframe\">\n",
       "  <thead>\n",
       "    <tr style=\"text-align: right;\">\n",
       "      <th></th>\n",
       "      <th>review_id</th>\n",
       "      <th>product_id</th>\n",
       "      <th>reviewer_id</th>\n",
       "      <th>stars</th>\n",
       "      <th>review_body</th>\n",
       "      <th>review_title</th>\n",
       "      <th>language</th>\n",
       "      <th>product_category</th>\n",
       "    </tr>\n",
       "  </thead>\n",
       "  <tbody>\n",
       "    <tr>\n",
       "      <th>0</th>\n",
       "      <td>es_0417480</td>\n",
       "      <td>product_es_0873923</td>\n",
       "      <td>reviewer_es_0672978</td>\n",
       "      <td>1</td>\n",
       "      <td>Malisimo, muy grande demasiado aparatoso y mal...</td>\n",
       "      <td>Mala compra</td>\n",
       "      <td>es</td>\n",
       "      <td>wireless</td>\n",
       "    </tr>\n",
       "    <tr>\n",
       "      <th>1</th>\n",
       "      <td>es_0180432</td>\n",
       "      <td>product_es_0713146</td>\n",
       "      <td>reviewer_es_0100858</td>\n",
       "      <td>1</td>\n",
       "      <td>No he recibido el pedido no la devolución</td>\n",
       "      <td>No lo he recibido</td>\n",
       "      <td>es</td>\n",
       "      <td>apparel</td>\n",
       "    </tr>\n",
       "    <tr>\n",
       "      <th>2</th>\n",
       "      <td>es_0144850</td>\n",
       "      <td>product_es_0356874</td>\n",
       "      <td>reviewer_es_0486447</td>\n",
       "      <td>1</td>\n",
       "      <td>Tengo que buscar otro sistema, este no funcion...</td>\n",
       "      <td>Que no aprieta bien en el manillar</td>\n",
       "      <td>es</td>\n",
       "      <td>sports</td>\n",
       "    </tr>\n",
       "    <tr>\n",
       "      <th>3</th>\n",
       "      <td>es_0339629</td>\n",
       "      <td>product_es_0939832</td>\n",
       "      <td>reviewer_es_0894703</td>\n",
       "      <td>1</td>\n",
       "      <td>Utilicé las brocas de menor diámetro y se me d...</td>\n",
       "      <td>Brocas de mantequilla</td>\n",
       "      <td>es</td>\n",
       "      <td>home_improvement</td>\n",
       "    </tr>\n",
       "    <tr>\n",
       "      <th>4</th>\n",
       "      <td>es_0858362</td>\n",
       "      <td>product_es_0489066</td>\n",
       "      <td>reviewer_es_0887663</td>\n",
       "      <td>1</td>\n",
       "      <td>No me gusta su olor a viejo y aspecto malo</td>\n",
       "      <td>No me gusta</td>\n",
       "      <td>es</td>\n",
       "      <td>beauty</td>\n",
       "    </tr>\n",
       "  </tbody>\n",
       "</table>\n",
       "</div>"
      ],
      "text/plain": [
       "    review_id          product_id          reviewer_id  stars  \\\n",
       "0  es_0417480  product_es_0873923  reviewer_es_0672978      1   \n",
       "1  es_0180432  product_es_0713146  reviewer_es_0100858      1   \n",
       "2  es_0144850  product_es_0356874  reviewer_es_0486447      1   \n",
       "3  es_0339629  product_es_0939832  reviewer_es_0894703      1   \n",
       "4  es_0858362  product_es_0489066  reviewer_es_0887663      1   \n",
       "\n",
       "                                         review_body  \\\n",
       "0  Malisimo, muy grande demasiado aparatoso y mal...   \n",
       "1          No he recibido el pedido no la devolución   \n",
       "2  Tengo que buscar otro sistema, este no funcion...   \n",
       "3  Utilicé las brocas de menor diámetro y se me d...   \n",
       "4         No me gusta su olor a viejo y aspecto malo   \n",
       "\n",
       "                         review_title language  product_category  \n",
       "0                         Mala compra       es          wireless  \n",
       "1                   No lo he recibido       es           apparel  \n",
       "2  Que no aprieta bien en el manillar       es            sports  \n",
       "3               Brocas de mantequilla       es  home_improvement  \n",
       "4                         No me gusta       es            beauty  "
      ]
     },
     "execution_count": 2,
     "metadata": {},
     "output_type": "execute_result"
    }
   ],
   "source": [
    "dev = pd.read_json('dataset_es_dev.json', lines = True)\n",
    "dev.head()"
   ]
  },
  {
   "cell_type": "code",
   "execution_count": 3,
   "metadata": {},
   "outputs": [
    {
     "data": {
      "text/plain": [
       "(5000, 8)"
      ]
     },
     "execution_count": 3,
     "metadata": {},
     "output_type": "execute_result"
    }
   ],
   "source": [
    "dev.shape"
   ]
  },
  {
   "cell_type": "code",
   "execution_count": 4,
   "metadata": {},
   "outputs": [
    {
     "data": {
      "text/plain": [
       "(5000, 8)"
      ]
     },
     "execution_count": 4,
     "metadata": {},
     "output_type": "execute_result"
    }
   ],
   "source": [
    "dev.drop_duplicates(inplace = True) #no hay datos duplicados ni faltantes\n",
    "dev.shape"
   ]
  },
  {
   "cell_type": "code",
   "execution_count": 5,
   "metadata": {},
   "outputs": [
    {
     "data": {
      "text/plain": [
       "review_id           0\n",
       "product_id          0\n",
       "reviewer_id         0\n",
       "stars               0\n",
       "review_body         0\n",
       "review_title        0\n",
       "language            0\n",
       "product_category    0\n",
       "dtype: int64"
      ]
     },
     "execution_count": 5,
     "metadata": {},
     "output_type": "execute_result"
    }
   ],
   "source": [
    "dev.isna().sum()"
   ]
  },
  {
   "cell_type": "code",
   "execution_count": 6,
   "metadata": {},
   "outputs": [
    {
     "data": {
      "text/plain": [
       "es    5000\n",
       "Name: language, dtype: int64"
      ]
     },
     "execution_count": 6,
     "metadata": {},
     "output_type": "execute_result"
    }
   ],
   "source": [
    "dev.language.value_counts() #solo reseñas en español"
   ]
  },
  {
   "cell_type": "code",
   "execution_count": 7,
   "metadata": {},
   "outputs": [
    {
     "data": {
      "text/plain": [
       "(5000,)"
      ]
     },
     "execution_count": 7,
     "metadata": {},
     "output_type": "execute_result"
    }
   ],
   "source": [
    "dev.review_body.shape"
   ]
  },
  {
   "cell_type": "code",
   "execution_count": 8,
   "metadata": {},
   "outputs": [
    {
     "data": {
      "text/plain": [
       "4    1000\n",
       "1    1000\n",
       "5    1000\n",
       "2    1000\n",
       "3    1000\n",
       "Name: stars, dtype: int64"
      ]
     },
     "execution_count": 8,
     "metadata": {},
     "output_type": "execute_result"
    }
   ],
   "source": [
    "dev.stars.value_counts()"
   ]
  },
  {
   "cell_type": "code",
   "execution_count": 9,
   "metadata": {},
   "outputs": [
    {
     "data": {
      "text/plain": [
       "product_es_0266401    2\n",
       "product_es_0491002    2\n",
       "product_es_0589001    2\n",
       "product_es_0747404    2\n",
       "product_es_0920931    2\n",
       "                     ..\n",
       "product_es_0123477    1\n",
       "product_es_0592168    1\n",
       "product_es_0353180    1\n",
       "product_es_0900834    1\n",
       "product_es_0613182    1\n",
       "Name: product_id, Length: 4964, dtype: int64"
      ]
     },
     "execution_count": 9,
     "metadata": {},
     "output_type": "execute_result"
    }
   ],
   "source": [
    "dev.product_id.value_counts()"
   ]
  },
  {
   "cell_type": "code",
   "execution_count": 10,
   "metadata": {},
   "outputs": [
    {
     "data": {
      "text/plain": [
       "reviewer_es_0217679    2\n",
       "reviewer_es_0986865    2\n",
       "reviewer_es_0488492    2\n",
       "reviewer_es_0256069    2\n",
       "reviewer_es_0672560    2\n",
       "                      ..\n",
       "reviewer_es_0091955    1\n",
       "reviewer_es_0908366    1\n",
       "reviewer_es_0108208    1\n",
       "reviewer_es_0871615    1\n",
       "reviewer_es_0436437    1\n",
       "Name: reviewer_id, Length: 4982, dtype: int64"
      ]
     },
     "execution_count": 10,
     "metadata": {},
     "output_type": "execute_result"
    }
   ],
   "source": [
    "dev.reviewer_id.value_counts() #product id y reviewer id no deberian coincidir?"
   ]
  },
  {
   "cell_type": "markdown",
   "metadata": {},
   "source": [
    "Elijo una instancia al azar y veo el review boby"
   ]
  },
  {
   "cell_type": "code",
   "execution_count": 11,
   "metadata": {},
   "outputs": [
    {
     "name": "stdout",
     "output_type": "stream",
     "text": [
      "444 Una auténtica estafa. Un producto a la altura de sitios web como Wish por ejemplo, en donde la calidad brilla por su ausencia. No entiendo como Amazon permite a vendedores tener productos así de malos en su plataforma.\n"
     ]
    }
   ],
   "source": [
    "np.random #.seed(56)\n",
    "index_random = np.random.randint(0,high = dev.shape[0])\n",
    "descripcion = dev.iloc[index_random].review_body\n",
    "print(index_random, descripcion)"
   ]
  },
  {
   "cell_type": "markdown",
   "metadata": {},
   "source": [
    "vemos la estrella con la que califico al producto comprado"
   ]
  },
  {
   "cell_type": "code",
   "execution_count": 12,
   "metadata": {},
   "outputs": [
    {
     "name": "stdout",
     "output_type": "stream",
     "text": [
      "El comprador 444\n",
      "Califico al producto con 1 estrellas\n",
      "444 1\n"
     ]
    }
   ],
   "source": [
    "print (f'El comprador {index_random}')\n",
    "print (f'Califico al producto con {dev.iloc[index_random].stars} estrellas' )\n",
    "\n",
    "print(index_random, dev.iloc[index_random].stars)"
   ]
  },
  {
   "cell_type": "code",
   "execution_count": 13,
   "metadata": {},
   "outputs": [],
   "source": [
    "nlp = spacy.load(\"es_core_news_sm\")"
   ]
  },
  {
   "cell_type": "code",
   "execution_count": 14,
   "metadata": {},
   "outputs": [],
   "source": [
    "doc = nlp (descripcion)"
   ]
  },
  {
   "cell_type": "code",
   "execution_count": 15,
   "metadata": {},
   "outputs": [
    {
     "name": "stdout",
     "output_type": "stream",
     "text": [
      "Una\n",
      "auténtica\n",
      "estafa\n",
      ".\n",
      "Un\n",
      "producto\n",
      "a\n",
      "la\n",
      "altura\n",
      "de\n",
      "sitios\n",
      "web\n",
      "como\n",
      "Wish\n",
      "por\n",
      "ejemplo\n",
      ",\n",
      "en\n",
      "donde\n",
      "la\n",
      "calidad\n",
      "brilla\n",
      "por\n",
      "su\n",
      "ausencia\n",
      ".\n",
      "No\n",
      "entiendo\n",
      "como\n",
      "Amazon\n",
      "permite\n",
      "a\n",
      "vendedores\n",
      "tener\n",
      "productos\n",
      "así\n",
      "de\n",
      "malos\n",
      "en\n",
      "su\n",
      "plataforma\n",
      ".\n"
     ]
    }
   ],
   "source": [
    "for token in doc:\n",
    "    print(token.text)"
   ]
  },
  {
   "cell_type": "markdown",
   "metadata": {},
   "source": [
    "**Stopwords**"
   ]
  },
  {
   "cell_type": "code",
   "execution_count": 16,
   "metadata": {},
   "outputs": [
    {
     "name": "stdout",
     "output_type": "stream",
     "text": [
      "['ayer', 'alli', 'para', 'porque', 'eramos', 'desde', 'nada', 'ahora', 'eras', 'hacemos', 'buena', 'estan', 'mío', 'cuanta', 'mal', 'una', 'todavia', 'principalmente', 'sola', 'dieron', 'sin', 'éste', 'se', 'podrían', 'trabaja', 'alrededor', 'comentó', 'conseguimos', 'tarde', 'señaló', 'tuvo', 'él', 'cosas', 'mias', 'saben', 'solas', 'valor', 'cuanto', 'buenos', 'fin', 'tenemos', 'mia', 'supuesto', 'asi', 'informó', 'me', 'quiénes', 'este', 'fuimos', 'un', 'tenido', 'intentamos', 'cuantas', 'mismas', 'tan', 'pais', 'sino', 'yo', 'tercera', 'también', 'de', 'muchas', 'varias', 'nuevo', 'enfrente', 'todos', 'diferente', 'lugar', 'haya', 'te', 'pudo', 'claro', 'que', 'primeros', 'quizás', 'anterior', 'llevar', 'aún', 'aquéllos', 'hacia', 'quién', 'mediante', 'lleva', 'míos', 'fueron', 'dicho', 'podrá', 'poner', 'través', 'aquellos', 'estado', 'vamos', 'aquello', 'nuestro', 'emplean', 'primer', 'arribaabajo', 'será', 'al', 'quiza', 'sería', 'vuestra', 'han', 'vais', 'siete', 'consiguen', 'antano', 'gran', 'salvo', 'paìs', 'vuestro', 'habrá', 'despacio', 'ex', 'usamos', 'dos', 'ha', 'embargo', 'da', 'fuera', 'mas', 'ser', 'ninguna', 'antes', 'esa', 'apenas', 'donde', 'eso', 'siempre', 'mucha', 'intento', 'cinco', 'teneis', 'pesar', 'ustedes', 'sabe', 'excepto', 'mismo', 'muchos', 'eres', 'habían', 'alguno', 'nuevas', 'empleais', 'habia', 'dentro', 'último', 'podriais', 'propio', 'ésos', 'vosotros', 'pronto', 'dias', 'ocho', 'ese', 'soyos', 'quizas', 'enseguida', 'realizó', 'hoy', 'puede', 'su', 'le', 'tuyas', 'sabes', 'vaya', 'empleas', 'conocer', 'qeu', 'acuerdo', 'respecto', 'quedó', 'tuyos', 'raras', 'cualquier', 'ademas', 'demás', 'haceis', 'cierta', 'más', 'mía', 'tu', 'pocos', 'otros', 'nuestras', 'suya', 'tras', 'breve', 'ver', 'dijeron', 'pasado', 'tal', 'otra', 'buenas', 'verdadera', 'usais', 'bajo', 'tuyo', 'cómo', 'siguiente', 'hacer', 'podrán', 'nunca', 'llegó', 'cuenta', 'uso', 'hace', 'modo', 'aqui', 'toda', 'somos', 'todavía', 'última', 'dan', 'nuestra', 'trabajais', 'era', 'sabeis', 'deben', 'final', 'sea', 'ellas', 'cuándo', 'realizar', 'hablan', 'quien', 'luego', 'indicó', 'demasiado', 'casi', 'dado', 'os', 'pasada', 'hemos', 'próximos', 'esto', 'todo', 'estuvo', 'medio', 'intenta', 'grandes', 'actualmente', 'mis', 'ni', 'lejos', 'aquí', 'sé', 'estoy', 'vuestras', 'trabajas', 'estaban', 'existe', 'suyas', 'sigue', 'están', 'estas', 'podriamos', 'nuestros', 'cuando', 'ellos', 'conseguir', 'intentas', 'verdad', 'horas', 'menudo', 'tambien', 'mio', 'expresó', 'mí', 'dice', 'puedo', 'allí', 'entre', 'sobre', 'misma', 'queremos', 'dejó', 'sólo', 'aun', 'estará', 'total', 'algún', 'tiempo', 'ti', 'algunas', 'agregó', 'aquél', 'tú', 'existen', 'diferentes', 'seis', 'algunos', 'hubo', 'aquélla', 'durante', 'aquéllas', 'después', 'dio', 'haber', 'hacerlo', 'trabajan', 'parte', 'tus', 'ultimo', 'segun', 'propias', 'intentar', 'nosotros', 'sera', 'sus', 'dijo', 'tienen', 'pocas', 'estados', 'otras', 'temprano', 'informo', 'cuatro', 'siendo', 'adrede', 'bastante', 'había', 'deprisa', 'primera', 'unas', 'mejor', 'encuentra', 'he', 'sí', 'consigues', 'hay', 'tampoco', 'ambos', 'vosotras', 'trabajamos', 'cuántos', 'cuales', 'intentais', 'cuánto', 'adelante', 'decir', 'cual', 'va', 'mucho', 'consigue', 'pueda', 'manifestó', 'conmigo', 'así', 'ir', 'proximo', 'detras', 'es', 'menos', 'contigo', 'largo', 'tenga', 'como', 'haces', 'las', 'detrás', 'serán', 'fui', 'unos', 'pueden', 'próximo', 'ciertas', 'ésas', 'tres', 'tendrá', 'usan', 'nuevos', 'podemos', 'esta', 'éstas', 'les', 'aquella', 'añadió', 'dar', 'general', 'lo', 'ningunos', 'vuestros', 'vez', 'los', 'aquel', 'cuantos', 'en', 'junto', 'cierto', 'usted', 'realizado', 'podrian', 'quizá', 'propia', 'segundo', 'cerca', 'si', 'esos', 'atras', 'podrias', 'ante', 'peor', 'haciendo', 'consigo', 'hizo', 'la', 'todas', 'tanto', 'varios', 'alguna', 'voy', 'hecho', 'mayor', 'manera', 'éstos', 'aseguró', 'con', 'cuáles', 'nadie', 'mi', 'sabemos', 'intentan', 'ahí', 'contra', 'eran', 'trabajo', 'entonces', 'solos', 'tenía', 'podria', 'lado', 'hicieron', 'posible', 'trata', 'nueva', 'solamente', 'usas', 'usa', 'podeis', 'qué', 'sean', 'estais', 'quienes', 'primero', 'incluso', 'mientras', 'trabajar', 'solo', 'soy', 'ciertos', 'estos', 'nosotras', 'cada', 'mismos', 'pero', 'quiere', 'estamos', 'estaba', 'ampleamos', 'no', 'ya', 'habla', 'ése', 'tengo', 'aquellas', 'van', 'explicó', 'segunda', 'saber', 'creo', 'ahi', 'pues', 'igual', 'debajo', 'ésta', 'empleo', 'debido', 'poca', 'según', 'aunque', 'poder', 'algo', 'uno', 'nos', 'mencionó', 'bien', 'partir', 'emplear', 'estar', 'poco', 'veces', 'son', 'aproximadamente', 'dicen', 'mios', 'dia', 'ningunas', 'ningún', 'gueno', 'considera', 'ello', 'el', 'hacen', 'arriba', 'tener', 'sido', 'buen', 'hago', 'mías', 'propios', 'fue', 'tendrán', 'tuya', 'debe', 'ella', 'últimos', 'tiene', 'otro', 'usar', 'esas', 'cuántas', 'muy', 'hasta', 'momento', 'verdadero', 'además', 'cuál', 'cuánta', 'despues', 'sois', 'suyo', 'delante', 'parece', 'ésa', 'bueno', 'ninguno', 'afirmó', 'antaño', 'consideró', 'día', 'está', 'repente', 'días', 'ejemplo', 'dónde', 'últimas', 'podría', 'encima', 'del', 'por']\n"
     ]
    },
    {
     "data": {
      "text/plain": [
       "551"
      ]
     },
     "execution_count": 16,
     "metadata": {},
     "output_type": "execute_result"
    }
   ],
   "source": [
    "from spacy.lang.es.stop_words import STOP_WORDS\n",
    "stopwords_spacy = list(STOP_WORDS)\n",
    "print (stopwords_spacy)\n",
    "len(stopwords_spacy)"
   ]
  },
  {
   "cell_type": "markdown",
   "metadata": {},
   "source": [
    "Imprimimos las palabras del texto que no son stop words según Spacy"
   ]
  },
  {
   "cell_type": "code",
   "execution_count": 17,
   "metadata": {},
   "outputs": [
    {
     "name": "stdout",
     "output_type": "stream",
     "text": [
      "auténtica\n",
      "estafa\n",
      ".\n",
      "producto\n",
      "a\n",
      "altura\n",
      "sitios\n",
      "web\n",
      "Wish\n",
      ",\n",
      "calidad\n",
      "brilla\n",
      "ausencia\n",
      ".\n",
      "entiendo\n",
      "Amazon\n",
      "permite\n",
      "a\n",
      "vendedores\n",
      "productos\n",
      "malos\n",
      "plataforma\n",
      ".\n"
     ]
    }
   ],
   "source": [
    "for token in doc:\n",
    "    if token.is_stop == False:\n",
    "        print(token)"
   ]
  },
  {
   "cell_type": "markdown",
   "metadata": {},
   "source": [
    "**Lemmatización**"
   ]
  },
  {
   "cell_type": "code",
   "execution_count": 18,
   "metadata": {},
   "outputs": [
    {
     "name": "stdout",
     "output_type": "stream",
     "text": [
      "Una uno\n",
      "auténtica auténtico\n",
      "estafa estafa\n",
      ". .\n",
      "Un uno\n",
      "producto producto\n",
      "a a\n",
      "la el\n",
      "altura altura\n",
      "de de\n",
      "sitios sitio\n",
      "web web\n",
      "como como\n",
      "Wish Wish\n",
      "por por\n",
      "ejemplo ejemplo\n",
      ", ,\n",
      "en en\n",
      "donde donde\n",
      "la el\n",
      "calidad calidad\n",
      "brilla brillo\n",
      "por por\n",
      "su su\n",
      "ausencia ausencia\n",
      ". .\n",
      "No no\n",
      "entiendo entender\n",
      "como como\n",
      "Amazon Amazon\n",
      "permite permitir\n",
      "a a\n",
      "vendedores vendedor\n",
      "tener tener\n",
      "productos producto\n",
      "así así\n",
      "de de\n",
      "malos malo\n",
      "en en\n",
      "su su\n",
      "plataforma plataforma\n",
      ". .\n"
     ]
    }
   ],
   "source": [
    "for token in doc:\n",
    "    print (token.text, token.lemma_)"
   ]
  },
  {
   "cell_type": "markdown",
   "metadata": {},
   "source": [
    "**POS Part of Speech**"
   ]
  },
  {
   "cell_type": "code",
   "execution_count": 19,
   "metadata": {},
   "outputs": [
    {
     "name": "stdout",
     "output_type": "stream",
     "text": [
      "Una DET\n",
      "auténtica ADJ\n",
      "estafa NOUN\n",
      ". PUNCT\n",
      "Un DET\n",
      "producto NOUN\n",
      "a ADP\n",
      "la DET\n",
      "altura NOUN\n",
      "de ADP\n",
      "sitios NOUN\n",
      "web NOUN\n",
      "como SCONJ\n",
      "Wish PROPN\n",
      "por ADP\n",
      "ejemplo NOUN\n",
      ", PUNCT\n",
      "en ADP\n",
      "donde PRON\n",
      "la DET\n",
      "calidad NOUN\n",
      "brilla ADJ\n",
      "por ADP\n",
      "su DET\n",
      "ausencia NOUN\n",
      ". PUNCT\n",
      "No ADV\n",
      "entiendo VERB\n",
      "como SCONJ\n",
      "Amazon PROPN\n",
      "permite VERB\n",
      "a ADP\n",
      "vendedores NOUN\n",
      "tener VERB\n",
      "productos NOUN\n",
      "así ADV\n",
      "de ADP\n",
      "malos NOUN\n",
      "en ADP\n",
      "su DET\n",
      "plataforma NOUN\n",
      ". PUNCT\n"
     ]
    }
   ],
   "source": [
    "for token in doc:\n",
    "    print (token.text, token.pos_)"
   ]
  },
  {
   "cell_type": "markdown",
   "metadata": {},
   "source": [
    "**Tokenización**\n",
    "\n",
    "Eliminamos los signos "
   ]
  },
  {
   "cell_type": "code",
   "execution_count": 20,
   "metadata": {},
   "outputs": [
    {
     "data": {
      "text/plain": [
       "'!\"#$%&\\'()*+,-./:;<=>?@[\\\\]^_`{|}~¿!¡? + \" \"'"
      ]
     },
     "execution_count": 20,
     "metadata": {},
     "output_type": "execute_result"
    }
   ],
   "source": [
    "puntua = string.punctuation + '¿!¡? + \" \"'\n",
    "puntua"
   ]
  },
  {
   "cell_type": "code",
   "execution_count": 21,
   "metadata": {},
   "outputs": [],
   "source": [
    "def text_data_cleaning(sentence):\n",
    "    doc = nlp(sentence)\n",
    "    \n",
    "    tokens = []\n",
    "    for token in doc:\n",
    "        if token.lemma_ !='-PRON-':\n",
    "            temp = token.lemma_.lower().strip()\n",
    "        else:\n",
    "             temp = token.lower_\n",
    "        tokens.append(temp)\n",
    "            \n",
    "    cleaned_tokens = []\n",
    "    for token in tokens:\n",
    "        if token not in stopwords_spacy and token not in puntua:\n",
    "            cleaned_tokens.append(token)\n",
    "            \n",
    "    return \" \".join(cleaned_tokens)"
   ]
  },
  {
   "cell_type": "code",
   "execution_count": 22,
   "metadata": {},
   "outputs": [
    {
     "data": {
      "text/plain": [
       "'auténtico estafa producto a altura sitio web wish calidad brillo ausencia entender amazon permitir a vendedor producto malo plataforma'"
      ]
     },
     "execution_count": 22,
     "metadata": {},
     "output_type": "execute_result"
    }
   ],
   "source": [
    "text_data_cleaning (descripcion)"
   ]
  },
  {
   "cell_type": "markdown",
   "metadata": {},
   "source": [
    "Aplicamos un text data cleaning sobre review body en todo el dataset y lo imprimimos"
   ]
  },
  {
   "cell_type": "code",
   "execution_count": 23,
   "metadata": {},
   "outputs": [
    {
     "data": {
      "text/plain": [
       "0          malisimo grande aparatoso y protector pantalla\n",
       "1                               recibir pedido devolución\n",
       "2       buscar sistema funcionar abrazadera agarrar ma...\n",
       "3       utilicé broca menor diámetro y doblar mantequi...\n",
       "4                      gustar olor a viejo y aspecto malo\n",
       "                              ...                        \n",
       "4995    encantar cesta llegar impecable tamaño util fi...\n",
       "4996                     desempeñar función correctamente\n",
       "4997    encantar diadema flor venir imagen y venir apl...\n",
       "4998    a gustar funda tpu fundas normalmente fino y c...\n",
       "4999                  artículo cumplir expectativa desear\n",
       "Name: review_body, Length: 5000, dtype: object"
      ]
     },
     "execution_count": 23,
     "metadata": {},
     "output_type": "execute_result"
    }
   ],
   "source": [
    "dev.review_body.apply(text_data_cleaning)"
   ]
  },
  {
   "cell_type": "code",
   "execution_count": 24,
   "metadata": {},
   "outputs": [
    {
     "data": {
      "text/html": [
       "<div>\n",
       "<style scoped>\n",
       "    .dataframe tbody tr th:only-of-type {\n",
       "        vertical-align: middle;\n",
       "    }\n",
       "\n",
       "    .dataframe tbody tr th {\n",
       "        vertical-align: top;\n",
       "    }\n",
       "\n",
       "    .dataframe thead th {\n",
       "        text-align: right;\n",
       "    }\n",
       "</style>\n",
       "<table border=\"1\" class=\"dataframe\">\n",
       "  <thead>\n",
       "    <tr style=\"text-align: right;\">\n",
       "      <th></th>\n",
       "      <th>review_id</th>\n",
       "      <th>product_id</th>\n",
       "      <th>reviewer_id</th>\n",
       "      <th>stars</th>\n",
       "      <th>review_body</th>\n",
       "      <th>review_title</th>\n",
       "      <th>language</th>\n",
       "      <th>product_category</th>\n",
       "    </tr>\n",
       "  </thead>\n",
       "  <tbody>\n",
       "    <tr>\n",
       "      <th>0</th>\n",
       "      <td>es_0417480</td>\n",
       "      <td>product_es_0873923</td>\n",
       "      <td>reviewer_es_0672978</td>\n",
       "      <td>1</td>\n",
       "      <td>Malisimo, muy grande demasiado aparatoso y mal...</td>\n",
       "      <td>Mala compra</td>\n",
       "      <td>es</td>\n",
       "      <td>wireless</td>\n",
       "    </tr>\n",
       "    <tr>\n",
       "      <th>1</th>\n",
       "      <td>es_0180432</td>\n",
       "      <td>product_es_0713146</td>\n",
       "      <td>reviewer_es_0100858</td>\n",
       "      <td>1</td>\n",
       "      <td>No he recibido el pedido no la devolución</td>\n",
       "      <td>No lo he recibido</td>\n",
       "      <td>es</td>\n",
       "      <td>apparel</td>\n",
       "    </tr>\n",
       "    <tr>\n",
       "      <th>2</th>\n",
       "      <td>es_0144850</td>\n",
       "      <td>product_es_0356874</td>\n",
       "      <td>reviewer_es_0486447</td>\n",
       "      <td>1</td>\n",
       "      <td>Tengo que buscar otro sistema, este no funcion...</td>\n",
       "      <td>Que no aprieta bien en el manillar</td>\n",
       "      <td>es</td>\n",
       "      <td>sports</td>\n",
       "    </tr>\n",
       "  </tbody>\n",
       "</table>\n",
       "</div>"
      ],
      "text/plain": [
       "    review_id          product_id          reviewer_id  stars  \\\n",
       "0  es_0417480  product_es_0873923  reviewer_es_0672978      1   \n",
       "1  es_0180432  product_es_0713146  reviewer_es_0100858      1   \n",
       "2  es_0144850  product_es_0356874  reviewer_es_0486447      1   \n",
       "\n",
       "                                         review_body  \\\n",
       "0  Malisimo, muy grande demasiado aparatoso y mal...   \n",
       "1          No he recibido el pedido no la devolución   \n",
       "2  Tengo que buscar otro sistema, este no funcion...   \n",
       "\n",
       "                         review_title language product_category  \n",
       "0                         Mala compra       es         wireless  \n",
       "1                   No lo he recibido       es          apparel  \n",
       "2  Que no aprieta bien en el manillar       es           sports  "
      ]
     },
     "execution_count": 24,
     "metadata": {},
     "output_type": "execute_result"
    }
   ],
   "source": [
    "dev.head(3)"
   ]
  },
  {
   "cell_type": "code",
   "execution_count": 25,
   "metadata": {},
   "outputs": [],
   "source": [
    "dev['review_body']= dev.review_body.apply(text_data_cleaning)"
   ]
  },
  {
   "cell_type": "code",
   "execution_count": 26,
   "metadata": {},
   "outputs": [
    {
     "data": {
      "text/html": [
       "<div>\n",
       "<style scoped>\n",
       "    .dataframe tbody tr th:only-of-type {\n",
       "        vertical-align: middle;\n",
       "    }\n",
       "\n",
       "    .dataframe tbody tr th {\n",
       "        vertical-align: top;\n",
       "    }\n",
       "\n",
       "    .dataframe thead th {\n",
       "        text-align: right;\n",
       "    }\n",
       "</style>\n",
       "<table border=\"1\" class=\"dataframe\">\n",
       "  <thead>\n",
       "    <tr style=\"text-align: right;\">\n",
       "      <th></th>\n",
       "      <th>review_id</th>\n",
       "      <th>product_id</th>\n",
       "      <th>reviewer_id</th>\n",
       "      <th>stars</th>\n",
       "      <th>review_body</th>\n",
       "      <th>review_title</th>\n",
       "      <th>language</th>\n",
       "      <th>product_category</th>\n",
       "    </tr>\n",
       "  </thead>\n",
       "  <tbody>\n",
       "    <tr>\n",
       "      <th>0</th>\n",
       "      <td>es_0417480</td>\n",
       "      <td>product_es_0873923</td>\n",
       "      <td>reviewer_es_0672978</td>\n",
       "      <td>1</td>\n",
       "      <td>malisimo grande aparatoso y protector pantalla</td>\n",
       "      <td>Mala compra</td>\n",
       "      <td>es</td>\n",
       "      <td>wireless</td>\n",
       "    </tr>\n",
       "    <tr>\n",
       "      <th>1</th>\n",
       "      <td>es_0180432</td>\n",
       "      <td>product_es_0713146</td>\n",
       "      <td>reviewer_es_0100858</td>\n",
       "      <td>1</td>\n",
       "      <td>recibir pedido devolución</td>\n",
       "      <td>No lo he recibido</td>\n",
       "      <td>es</td>\n",
       "      <td>apparel</td>\n",
       "    </tr>\n",
       "    <tr>\n",
       "      <th>2</th>\n",
       "      <td>es_0144850</td>\n",
       "      <td>product_es_0356874</td>\n",
       "      <td>reviewer_es_0486447</td>\n",
       "      <td>1</td>\n",
       "      <td>buscar sistema funcionar abrazadera agarrar ma...</td>\n",
       "      <td>Que no aprieta bien en el manillar</td>\n",
       "      <td>es</td>\n",
       "      <td>sports</td>\n",
       "    </tr>\n",
       "    <tr>\n",
       "      <th>3</th>\n",
       "      <td>es_0339629</td>\n",
       "      <td>product_es_0939832</td>\n",
       "      <td>reviewer_es_0894703</td>\n",
       "      <td>1</td>\n",
       "      <td>utilicé broca menor diámetro y doblar mantequi...</td>\n",
       "      <td>Brocas de mantequilla</td>\n",
       "      <td>es</td>\n",
       "      <td>home_improvement</td>\n",
       "    </tr>\n",
       "    <tr>\n",
       "      <th>4</th>\n",
       "      <td>es_0858362</td>\n",
       "      <td>product_es_0489066</td>\n",
       "      <td>reviewer_es_0887663</td>\n",
       "      <td>1</td>\n",
       "      <td>gustar olor a viejo y aspecto malo</td>\n",
       "      <td>No me gusta</td>\n",
       "      <td>es</td>\n",
       "      <td>beauty</td>\n",
       "    </tr>\n",
       "    <tr>\n",
       "      <th>...</th>\n",
       "      <td>...</td>\n",
       "      <td>...</td>\n",
       "      <td>...</td>\n",
       "      <td>...</td>\n",
       "      <td>...</td>\n",
       "      <td>...</td>\n",
       "      <td>...</td>\n",
       "      <td>...</td>\n",
       "    </tr>\n",
       "    <tr>\n",
       "      <th>4995</th>\n",
       "      <td>es_0179515</td>\n",
       "      <td>product_es_0158275</td>\n",
       "      <td>reviewer_es_0273644</td>\n",
       "      <td>5</td>\n",
       "      <td>encantar cesta llegar impecable tamaño util fi...</td>\n",
       "      <td>guadalupe</td>\n",
       "      <td>es</td>\n",
       "      <td>home</td>\n",
       "    </tr>\n",
       "    <tr>\n",
       "      <th>4996</th>\n",
       "      <td>es_0894902</td>\n",
       "      <td>product_es_0953259</td>\n",
       "      <td>reviewer_es_0153773</td>\n",
       "      <td>5</td>\n",
       "      <td>desempeñar función correctamente</td>\n",
       "      <td>calidad precio</td>\n",
       "      <td>es</td>\n",
       "      <td>camera</td>\n",
       "    </tr>\n",
       "    <tr>\n",
       "      <th>4997</th>\n",
       "      <td>es_0760496</td>\n",
       "      <td>product_es_0731995</td>\n",
       "      <td>reviewer_es_0171091</td>\n",
       "      <td>5</td>\n",
       "      <td>encantar diadema flor venir imagen y venir apl...</td>\n",
       "      <td>Excelente</td>\n",
       "      <td>es</td>\n",
       "      <td>toy</td>\n",
       "    </tr>\n",
       "    <tr>\n",
       "      <th>4998</th>\n",
       "      <td>es_0178380</td>\n",
       "      <td>product_es_0402051</td>\n",
       "      <td>reviewer_es_0686937</td>\n",
       "      <td>5</td>\n",
       "      <td>a gustar funda tpu fundas normalmente fino y c...</td>\n",
       "      <td>Genial</td>\n",
       "      <td>es</td>\n",
       "      <td>wireless</td>\n",
       "    </tr>\n",
       "    <tr>\n",
       "      <th>4999</th>\n",
       "      <td>es_0810087</td>\n",
       "      <td>product_es_0684221</td>\n",
       "      <td>reviewer_es_0613091</td>\n",
       "      <td>5</td>\n",
       "      <td>artículo cumplir expectativa desear</td>\n",
       "      <td>Buena calidad</td>\n",
       "      <td>es</td>\n",
       "      <td>apparel</td>\n",
       "    </tr>\n",
       "  </tbody>\n",
       "</table>\n",
       "<p>5000 rows × 8 columns</p>\n",
       "</div>"
      ],
      "text/plain": [
       "       review_id          product_id          reviewer_id  stars  \\\n",
       "0     es_0417480  product_es_0873923  reviewer_es_0672978      1   \n",
       "1     es_0180432  product_es_0713146  reviewer_es_0100858      1   \n",
       "2     es_0144850  product_es_0356874  reviewer_es_0486447      1   \n",
       "3     es_0339629  product_es_0939832  reviewer_es_0894703      1   \n",
       "4     es_0858362  product_es_0489066  reviewer_es_0887663      1   \n",
       "...          ...                 ...                  ...    ...   \n",
       "4995  es_0179515  product_es_0158275  reviewer_es_0273644      5   \n",
       "4996  es_0894902  product_es_0953259  reviewer_es_0153773      5   \n",
       "4997  es_0760496  product_es_0731995  reviewer_es_0171091      5   \n",
       "4998  es_0178380  product_es_0402051  reviewer_es_0686937      5   \n",
       "4999  es_0810087  product_es_0684221  reviewer_es_0613091      5   \n",
       "\n",
       "                                            review_body  \\\n",
       "0        malisimo grande aparatoso y protector pantalla   \n",
       "1                             recibir pedido devolución   \n",
       "2     buscar sistema funcionar abrazadera agarrar ma...   \n",
       "3     utilicé broca menor diámetro y doblar mantequi...   \n",
       "4                    gustar olor a viejo y aspecto malo   \n",
       "...                                                 ...   \n",
       "4995  encantar cesta llegar impecable tamaño util fi...   \n",
       "4996                   desempeñar función correctamente   \n",
       "4997  encantar diadema flor venir imagen y venir apl...   \n",
       "4998  a gustar funda tpu fundas normalmente fino y c...   \n",
       "4999                artículo cumplir expectativa desear   \n",
       "\n",
       "                            review_title language  product_category  \n",
       "0                            Mala compra       es          wireless  \n",
       "1                      No lo he recibido       es           apparel  \n",
       "2     Que no aprieta bien en el manillar       es            sports  \n",
       "3                  Brocas de mantequilla       es  home_improvement  \n",
       "4                            No me gusta       es            beauty  \n",
       "...                                  ...      ...               ...  \n",
       "4995                           guadalupe       es              home  \n",
       "4996                      calidad precio       es            camera  \n",
       "4997                           Excelente       es               toy  \n",
       "4998                              Genial       es          wireless  \n",
       "4999                       Buena calidad       es           apparel  \n",
       "\n",
       "[5000 rows x 8 columns]"
      ]
     },
     "execution_count": 26,
     "metadata": {},
     "output_type": "execute_result"
    }
   ],
   "source": [
    "dev"
   ]
  },
  {
   "cell_type": "markdown",
   "metadata": {},
   "source": [
    "**Importamos el DS desde un csv con los datos de Review body y review title modificados**"
   ]
  },
  {
   "cell_type": "code",
   "execution_count": 27,
   "metadata": {},
   "outputs": [
    {
     "data": {
      "text/html": [
       "<div>\n",
       "<style scoped>\n",
       "    .dataframe tbody tr th:only-of-type {\n",
       "        vertical-align: middle;\n",
       "    }\n",
       "\n",
       "    .dataframe tbody tr th {\n",
       "        vertical-align: top;\n",
       "    }\n",
       "\n",
       "    .dataframe thead th {\n",
       "        text-align: right;\n",
       "    }\n",
       "</style>\n",
       "<table border=\"1\" class=\"dataframe\">\n",
       "  <thead>\n",
       "    <tr style=\"text-align: right;\">\n",
       "      <th></th>\n",
       "      <th>Unnamed: 0</th>\n",
       "      <th>review_id</th>\n",
       "      <th>product_id</th>\n",
       "      <th>reviewer_id</th>\n",
       "      <th>stars</th>\n",
       "      <th>review_body</th>\n",
       "      <th>review_title</th>\n",
       "      <th>language</th>\n",
       "      <th>product_category</th>\n",
       "    </tr>\n",
       "  </thead>\n",
       "  <tbody>\n",
       "    <tr>\n",
       "      <th>0</th>\n",
       "      <td>0</td>\n",
       "      <td>es_0417480</td>\n",
       "      <td>product_es_0873923</td>\n",
       "      <td>reviewer_es_0672978</td>\n",
       "      <td>1</td>\n",
       "      <td>malisimo grande aparatoso y protector pantalla</td>\n",
       "      <td>malo compro</td>\n",
       "      <td>es</td>\n",
       "      <td>wireless</td>\n",
       "    </tr>\n",
       "    <tr>\n",
       "      <th>1</th>\n",
       "      <td>1</td>\n",
       "      <td>es_0180432</td>\n",
       "      <td>product_es_0713146</td>\n",
       "      <td>reviewer_es_0100858</td>\n",
       "      <td>1</td>\n",
       "      <td>recibir pedido devolución</td>\n",
       "      <td>recibir</td>\n",
       "      <td>es</td>\n",
       "      <td>apparel</td>\n",
       "    </tr>\n",
       "    <tr>\n",
       "      <th>2</th>\n",
       "      <td>2</td>\n",
       "      <td>es_0144850</td>\n",
       "      <td>product_es_0356874</td>\n",
       "      <td>reviewer_es_0486447</td>\n",
       "      <td>1</td>\n",
       "      <td>buscar sistema funcionar abrazadera agarrar ma...</td>\n",
       "      <td>apretar manillar</td>\n",
       "      <td>es</td>\n",
       "      <td>sports</td>\n",
       "    </tr>\n",
       "    <tr>\n",
       "      <th>3</th>\n",
       "      <td>3</td>\n",
       "      <td>es_0339629</td>\n",
       "      <td>product_es_0939832</td>\n",
       "      <td>reviewer_es_0894703</td>\n",
       "      <td>1</td>\n",
       "      <td>utilicé broca menor diámetro y doblar mantequi...</td>\n",
       "      <td>Brocas mantequilla</td>\n",
       "      <td>es</td>\n",
       "      <td>home_improvement</td>\n",
       "    </tr>\n",
       "    <tr>\n",
       "      <th>4</th>\n",
       "      <td>4</td>\n",
       "      <td>es_0858362</td>\n",
       "      <td>product_es_0489066</td>\n",
       "      <td>reviewer_es_0887663</td>\n",
       "      <td>1</td>\n",
       "      <td>gustar olor a viejo y aspecto malo</td>\n",
       "      <td>gustar</td>\n",
       "      <td>es</td>\n",
       "      <td>beauty</td>\n",
       "    </tr>\n",
       "  </tbody>\n",
       "</table>\n",
       "</div>"
      ],
      "text/plain": [
       "   Unnamed: 0   review_id          product_id          reviewer_id  stars  \\\n",
       "0           0  es_0417480  product_es_0873923  reviewer_es_0672978      1   \n",
       "1           1  es_0180432  product_es_0713146  reviewer_es_0100858      1   \n",
       "2           2  es_0144850  product_es_0356874  reviewer_es_0486447      1   \n",
       "3           3  es_0339629  product_es_0939832  reviewer_es_0894703      1   \n",
       "4           4  es_0858362  product_es_0489066  reviewer_es_0887663      1   \n",
       "\n",
       "                                         review_body        review_title  \\\n",
       "0     malisimo grande aparatoso y protector pantalla         malo compro   \n",
       "1                          recibir pedido devolución             recibir   \n",
       "2  buscar sistema funcionar abrazadera agarrar ma...    apretar manillar   \n",
       "3  utilicé broca menor diámetro y doblar mantequi...  Brocas mantequilla   \n",
       "4                 gustar olor a viejo y aspecto malo              gustar   \n",
       "\n",
       "  language  product_category  \n",
       "0       es          wireless  \n",
       "1       es           apparel  \n",
       "2       es            sports  \n",
       "3       es  home_improvement  \n",
       "4       es            beauty  "
      ]
     },
     "execution_count": 27,
     "metadata": {},
     "output_type": "execute_result"
    }
   ],
   "source": [
    "dataset_dev = pd.read_csv('dataset_dev.csv') \n",
    "dataset_dev.head()"
   ]
  },
  {
   "cell_type": "markdown",
   "metadata": {},
   "source": [
    "## **Importo los datos ya transformados de TRAIN Y TEST en formato csv**"
   ]
  },
  {
   "cell_type": "code",
   "execution_count": 28,
   "metadata": {},
   "outputs": [
    {
     "data": {
      "text/html": [
       "<div>\n",
       "<style scoped>\n",
       "    .dataframe tbody tr th:only-of-type {\n",
       "        vertical-align: middle;\n",
       "    }\n",
       "\n",
       "    .dataframe tbody tr th {\n",
       "        vertical-align: top;\n",
       "    }\n",
       "\n",
       "    .dataframe thead th {\n",
       "        text-align: right;\n",
       "    }\n",
       "</style>\n",
       "<table border=\"1\" class=\"dataframe\">\n",
       "  <thead>\n",
       "    <tr style=\"text-align: right;\">\n",
       "      <th></th>\n",
       "      <th>Unnamed: 0</th>\n",
       "      <th>review_id</th>\n",
       "      <th>product_id</th>\n",
       "      <th>reviewer_id</th>\n",
       "      <th>stars</th>\n",
       "      <th>review_body</th>\n",
       "      <th>review_title</th>\n",
       "      <th>language</th>\n",
       "      <th>product_category</th>\n",
       "    </tr>\n",
       "  </thead>\n",
       "  <tbody>\n",
       "    <tr>\n",
       "      <th>0</th>\n",
       "      <td>0</td>\n",
       "      <td>es_0491108</td>\n",
       "      <td>product_es_0296024</td>\n",
       "      <td>reviewer_es_0999081</td>\n",
       "      <td>1</td>\n",
       "      <td>kar pantalla 8 mes y recibir respuesta fabricante</td>\n",
       "      <td>television Nevir</td>\n",
       "      <td>es</td>\n",
       "      <td>electronics</td>\n",
       "    </tr>\n",
       "    <tr>\n",
       "      <th>1</th>\n",
       "      <td>1</td>\n",
       "      <td>es_0869872</td>\n",
       "      <td>product_es_0922286</td>\n",
       "      <td>reviewer_es_0216771</td>\n",
       "      <td>1</td>\n",
       "      <td>horrible comprar inglés informático hora capaz...</td>\n",
       "      <td>Dinero tirado a basura compro</td>\n",
       "      <td>es</td>\n",
       "      <td>electronics</td>\n",
       "    </tr>\n",
       "    <tr>\n",
       "      <th>2</th>\n",
       "      <td>2</td>\n",
       "      <td>es_0811721</td>\n",
       "      <td>product_es_0474543</td>\n",
       "      <td>reviewer_es_0929213</td>\n",
       "      <td>1</td>\n",
       "      <td>obligar a comprar unidad y llegar y forma recl...</td>\n",
       "      <td>llegar unidad obligar a comprar</td>\n",
       "      <td>es</td>\n",
       "      <td>drugstore</td>\n",
       "    </tr>\n",
       "    <tr>\n",
       "      <th>3</th>\n",
       "      <td>3</td>\n",
       "      <td>es_0359921</td>\n",
       "      <td>product_es_0656090</td>\n",
       "      <td>reviewer_es_0224702</td>\n",
       "      <td>1</td>\n",
       "      <td>entrar descalificar vendedor mes espera .... s...</td>\n",
       "      <td>PRODUCTO RECIBIDO</td>\n",
       "      <td>es</td>\n",
       "      <td>wireless</td>\n",
       "    </tr>\n",
       "    <tr>\n",
       "      <th>4</th>\n",
       "      <td>4</td>\n",
       "      <td>es_0068940</td>\n",
       "      <td>product_es_0662544</td>\n",
       "      <td>reviewer_es_0224827</td>\n",
       "      <td>1</td>\n",
       "      <td>llegar y co talla equivocado</td>\n",
       "      <td>Devuelto</td>\n",
       "      <td>es</td>\n",
       "      <td>shoes</td>\n",
       "    </tr>\n",
       "  </tbody>\n",
       "</table>\n",
       "</div>"
      ],
      "text/plain": [
       "   Unnamed: 0   review_id          product_id          reviewer_id  stars  \\\n",
       "0           0  es_0491108  product_es_0296024  reviewer_es_0999081      1   \n",
       "1           1  es_0869872  product_es_0922286  reviewer_es_0216771      1   \n",
       "2           2  es_0811721  product_es_0474543  reviewer_es_0929213      1   \n",
       "3           3  es_0359921  product_es_0656090  reviewer_es_0224702      1   \n",
       "4           4  es_0068940  product_es_0662544  reviewer_es_0224827      1   \n",
       "\n",
       "                                         review_body  \\\n",
       "0  kar pantalla 8 mes y recibir respuesta fabricante   \n",
       "1  horrible comprar inglés informático hora capaz...   \n",
       "2  obligar a comprar unidad y llegar y forma recl...   \n",
       "3  entrar descalificar vendedor mes espera .... s...   \n",
       "4                       llegar y co talla equivocado   \n",
       "\n",
       "                      review_title language product_category  \n",
       "0                 television Nevir       es      electronics  \n",
       "1    Dinero tirado a basura compro       es      electronics  \n",
       "2  llegar unidad obligar a comprar       es        drugstore  \n",
       "3                PRODUCTO RECIBIDO       es         wireless  \n",
       "4                         Devuelto       es            shoes  "
      ]
     },
     "execution_count": 28,
     "metadata": {},
     "output_type": "execute_result"
    }
   ],
   "source": [
    "dataset_train = pd.read_csv('dataset_train.csv') \n",
    "dataset_train.head()"
   ]
  },
  {
   "cell_type": "code",
   "execution_count": 29,
   "metadata": {},
   "outputs": [
    {
     "data": {
      "text/html": [
       "<div>\n",
       "<style scoped>\n",
       "    .dataframe tbody tr th:only-of-type {\n",
       "        vertical-align: middle;\n",
       "    }\n",
       "\n",
       "    .dataframe tbody tr th {\n",
       "        vertical-align: top;\n",
       "    }\n",
       "\n",
       "    .dataframe thead th {\n",
       "        text-align: right;\n",
       "    }\n",
       "</style>\n",
       "<table border=\"1\" class=\"dataframe\">\n",
       "  <thead>\n",
       "    <tr style=\"text-align: right;\">\n",
       "      <th></th>\n",
       "      <th>Unnamed: 0</th>\n",
       "      <th>review_id</th>\n",
       "      <th>product_id</th>\n",
       "      <th>reviewer_id</th>\n",
       "      <th>stars</th>\n",
       "      <th>review_body</th>\n",
       "      <th>review_title</th>\n",
       "      <th>language</th>\n",
       "      <th>product_category</th>\n",
       "    </tr>\n",
       "  </thead>\n",
       "  <tbody>\n",
       "    <tr>\n",
       "      <th>0</th>\n",
       "      <td>0</td>\n",
       "      <td>es_0038754</td>\n",
       "      <td>product_es_0113523</td>\n",
       "      <td>reviewer_es_0580071</td>\n",
       "      <td>1</td>\n",
       "      <td>llegar articulo mandar correo normal seguimien...</td>\n",
       "      <td>llegar</td>\n",
       "      <td>es</td>\n",
       "      <td>wireless</td>\n",
       "    </tr>\n",
       "    <tr>\n",
       "      <th>1</th>\n",
       "      <td>1</td>\n",
       "      <td>es_0748979</td>\n",
       "      <td>product_es_0017036</td>\n",
       "      <td>reviewer_es_0819733</td>\n",
       "      <td>1</td>\n",
       "      <td>mensajería horrible compro</td>\n",
       "      <td>amazon seguir cumplir entrega</td>\n",
       "      <td>es</td>\n",
       "      <td>home</td>\n",
       "    </tr>\n",
       "    <tr>\n",
       "      <th>2</th>\n",
       "      <td>2</td>\n",
       "      <td>es_0411746</td>\n",
       "      <td>product_es_0138642</td>\n",
       "      <td>reviewer_es_0508607</td>\n",
       "      <td>1</td>\n",
       "      <td>decepcionado vendedor pedido llegar a y cumpli...</td>\n",
       "      <td>ESTAFA envío</td>\n",
       "      <td>es</td>\n",
       "      <td>toy</td>\n",
       "    </tr>\n",
       "    <tr>\n",
       "      <th>3</th>\n",
       "      <td>3</td>\n",
       "      <td>es_0786686</td>\n",
       "      <td>product_es_0170887</td>\n",
       "      <td>reviewer_es_0491157</td>\n",
       "      <td>1</td>\n",
       "      <td>valoración producto amazon ofreceis producto a...</td>\n",
       "      <td>Estafa Amazon</td>\n",
       "      <td>es</td>\n",
       "      <td>home</td>\n",
       "    </tr>\n",
       "    <tr>\n",
       "      <th>4</th>\n",
       "      <td>4</td>\n",
       "      <td>es_0429700</td>\n",
       "      <td>product_es_0710642</td>\n",
       "      <td>reviewer_es_0008745</td>\n",
       "      <td>1</td>\n",
       "      <td>interés libro y probar versión kindle abrir po...</td>\n",
       "      <td>conseguí pasar portada Kindle</td>\n",
       "      <td>es</td>\n",
       "      <td>digital_ebook_purchase</td>\n",
       "    </tr>\n",
       "  </tbody>\n",
       "</table>\n",
       "</div>"
      ],
      "text/plain": [
       "   Unnamed: 0   review_id          product_id          reviewer_id  stars  \\\n",
       "0           0  es_0038754  product_es_0113523  reviewer_es_0580071      1   \n",
       "1           1  es_0748979  product_es_0017036  reviewer_es_0819733      1   \n",
       "2           2  es_0411746  product_es_0138642  reviewer_es_0508607      1   \n",
       "3           3  es_0786686  product_es_0170887  reviewer_es_0491157      1   \n",
       "4           4  es_0429700  product_es_0710642  reviewer_es_0008745      1   \n",
       "\n",
       "                                         review_body  \\\n",
       "0  llegar articulo mandar correo normal seguimien...   \n",
       "1                         mensajería horrible compro   \n",
       "2  decepcionado vendedor pedido llegar a y cumpli...   \n",
       "3  valoración producto amazon ofreceis producto a...   \n",
       "4  interés libro y probar versión kindle abrir po...   \n",
       "\n",
       "                    review_title language        product_category  \n",
       "0                         llegar       es                wireless  \n",
       "1  amazon seguir cumplir entrega       es                    home  \n",
       "2                   ESTAFA envío       es                     toy  \n",
       "3                  Estafa Amazon       es                    home  \n",
       "4  conseguí pasar portada Kindle       es  digital_ebook_purchase  "
      ]
     },
     "execution_count": 29,
     "metadata": {},
     "output_type": "execute_result"
    }
   ],
   "source": [
    "dataset_test = pd.read_csv('dataset_test.csv') \n",
    "dataset_test.head()"
   ]
  },
  {
   "cell_type": "code",
   "execution_count": 30,
   "metadata": {},
   "outputs": [
    {
     "data": {
      "text/plain": [
       "(5000, 9)"
      ]
     },
     "execution_count": 30,
     "metadata": {},
     "output_type": "execute_result"
    }
   ],
   "source": [
    "dataset_test.shape"
   ]
  },
  {
   "cell_type": "markdown",
   "metadata": {},
   "source": [
    "**Como el DS TRAIN contiene una gran cantidad de datos, vamos a tomar una muestra del mismo para su análisis, luego evaluaremos sobre todo el dataset**"
   ]
  },
  {
   "cell_type": "code",
   "execution_count": 31,
   "metadata": {},
   "outputs": [
    {
     "data": {
      "text/html": [
       "<div>\n",
       "<style scoped>\n",
       "    .dataframe tbody tr th:only-of-type {\n",
       "        vertical-align: middle;\n",
       "    }\n",
       "\n",
       "    .dataframe tbody tr th {\n",
       "        vertical-align: top;\n",
       "    }\n",
       "\n",
       "    .dataframe thead th {\n",
       "        text-align: right;\n",
       "    }\n",
       "</style>\n",
       "<table border=\"1\" class=\"dataframe\">\n",
       "  <thead>\n",
       "    <tr style=\"text-align: right;\">\n",
       "      <th></th>\n",
       "      <th>Unnamed: 0</th>\n",
       "      <th>review_id</th>\n",
       "      <th>product_id</th>\n",
       "      <th>reviewer_id</th>\n",
       "      <th>stars</th>\n",
       "      <th>review_body</th>\n",
       "      <th>review_title</th>\n",
       "      <th>language</th>\n",
       "      <th>product_category</th>\n",
       "    </tr>\n",
       "  </thead>\n",
       "  <tbody>\n",
       "    <tr>\n",
       "      <th>74908</th>\n",
       "      <td>74908</td>\n",
       "      <td>es_0101647</td>\n",
       "      <td>product_es_0450032</td>\n",
       "      <td>reviewer_es_0608549</td>\n",
       "      <td>2</td>\n",
       "      <td>embalar retrasar</td>\n",
       "      <td>venir sucio</td>\n",
       "      <td>es</td>\n",
       "      <td>home</td>\n",
       "    </tr>\n",
       "    <tr>\n",
       "      <th>190142</th>\n",
       "      <td>190142</td>\n",
       "      <td>es_0302856</td>\n",
       "      <td>product_es_0907235</td>\n",
       "      <td>reviewer_es_0714115</td>\n",
       "      <td>5</td>\n",
       "      <td>regalamos a sobrina 12 año fan serie encantar ...</td>\n",
       "      <td>regalo</td>\n",
       "      <td>es</td>\n",
       "      <td>jewelry</td>\n",
       "    </tr>\n",
       "    <tr>\n",
       "      <th>146398</th>\n",
       "      <td>146398</td>\n",
       "      <td>es_0948829</td>\n",
       "      <td>product_es_0063764</td>\n",
       "      <td>reviewer_es_0178095</td>\n",
       "      <td>4</td>\n",
       "      <td>correa tardar llegar a merecer pena</td>\n",
       "      <td>NaN</td>\n",
       "      <td>es</td>\n",
       "      <td>sports</td>\n",
       "    </tr>\n",
       "    <tr>\n",
       "      <th>119731</th>\n",
       "      <td>119731</td>\n",
       "      <td>es_0065556</td>\n",
       "      <td>product_es_0845916</td>\n",
       "      <td>reviewer_es_0636981</td>\n",
       "      <td>3</td>\n",
       "      <td>probar quitar punto negro probé farmacia y noche</td>\n",
       "      <td>NaN</td>\n",
       "      <td>es</td>\n",
       "      <td>beauty</td>\n",
       "    </tr>\n",
       "    <tr>\n",
       "      <th>31203</th>\n",
       "      <td>31203</td>\n",
       "      <td>es_0009633</td>\n",
       "      <td>product_es_0155896</td>\n",
       "      <td>reviewer_es_0229708</td>\n",
       "      <td>1</td>\n",
       "      <td>quedar satisfecho modelo 2019 y especifique fu...</td>\n",
       "      <td>Funda y movil incompatible</td>\n",
       "      <td>es</td>\n",
       "      <td>home</td>\n",
       "    </tr>\n",
       "    <tr>\n",
       "      <th>...</th>\n",
       "      <td>...</td>\n",
       "      <td>...</td>\n",
       "      <td>...</td>\n",
       "      <td>...</td>\n",
       "      <td>...</td>\n",
       "      <td>...</td>\n",
       "      <td>...</td>\n",
       "      <td>...</td>\n",
       "      <td>...</td>\n",
       "    </tr>\n",
       "    <tr>\n",
       "      <th>27363</th>\n",
       "      <td>27363</td>\n",
       "      <td>es_0078673</td>\n",
       "      <td>product_es_0270175</td>\n",
       "      <td>reviewer_es_0358567</td>\n",
       "      <td>1</td>\n",
       "      <td>poner él evitar presencia mota y fácil instala...</td>\n",
       "      <td>recomendable</td>\n",
       "      <td>es</td>\n",
       "      <td>wireless</td>\n",
       "    </tr>\n",
       "    <tr>\n",
       "      <th>190047</th>\n",
       "      <td>190047</td>\n",
       "      <td>es_0144389</td>\n",
       "      <td>product_es_0785813</td>\n",
       "      <td>reviewer_es_0369290</td>\n",
       "      <td>5</td>\n",
       "      <td>perfecta niño y adolescente ocupar espacio y c...</td>\n",
       "      <td>Perfecta</td>\n",
       "      <td>es</td>\n",
       "      <td>furniture</td>\n",
       "    </tr>\n",
       "    <tr>\n",
       "      <th>89201</th>\n",
       "      <td>89201</td>\n",
       "      <td>es_0805021</td>\n",
       "      <td>product_es_0167570</td>\n",
       "      <td>reviewer_es_0114986</td>\n",
       "      <td>3</td>\n",
       "      <td>irritar piel crema</td>\n",
       "      <td>a piel funcionar</td>\n",
       "      <td>es</td>\n",
       "      <td>beauty</td>\n",
       "    </tr>\n",
       "    <tr>\n",
       "      <th>37053</th>\n",
       "      <td>37053</td>\n",
       "      <td>es_0680350</td>\n",
       "      <td>product_es_0790523</td>\n",
       "      <td>reviewer_es_0367273</td>\n",
       "      <td>1</td>\n",
       "      <td>compro y venir rueda eje querer devolver él pe...</td>\n",
       "      <td>esperar respuesta Amazon comentario</td>\n",
       "      <td>es</td>\n",
       "      <td>lawn_and_garden</td>\n",
       "    </tr>\n",
       "    <tr>\n",
       "      <th>108388</th>\n",
       "      <td>108388</td>\n",
       "      <td>es_0009736</td>\n",
       "      <td>product_es_0430822</td>\n",
       "      <td>reviewer_es_0739409</td>\n",
       "      <td>3</td>\n",
       "      <td>salir y hoja grueso</td>\n",
       "      <td>Funciona basico</td>\n",
       "      <td>es</td>\n",
       "      <td>home</td>\n",
       "    </tr>\n",
       "  </tbody>\n",
       "</table>\n",
       "<p>1000 rows × 9 columns</p>\n",
       "</div>"
      ],
      "text/plain": [
       "        Unnamed: 0   review_id          product_id          reviewer_id  \\\n",
       "74908        74908  es_0101647  product_es_0450032  reviewer_es_0608549   \n",
       "190142      190142  es_0302856  product_es_0907235  reviewer_es_0714115   \n",
       "146398      146398  es_0948829  product_es_0063764  reviewer_es_0178095   \n",
       "119731      119731  es_0065556  product_es_0845916  reviewer_es_0636981   \n",
       "31203        31203  es_0009633  product_es_0155896  reviewer_es_0229708   \n",
       "...            ...         ...                 ...                  ...   \n",
       "27363        27363  es_0078673  product_es_0270175  reviewer_es_0358567   \n",
       "190047      190047  es_0144389  product_es_0785813  reviewer_es_0369290   \n",
       "89201        89201  es_0805021  product_es_0167570  reviewer_es_0114986   \n",
       "37053        37053  es_0680350  product_es_0790523  reviewer_es_0367273   \n",
       "108388      108388  es_0009736  product_es_0430822  reviewer_es_0739409   \n",
       "\n",
       "        stars                                        review_body  \\\n",
       "74908       2                                   embalar retrasar   \n",
       "190142      5  regalamos a sobrina 12 año fan serie encantar ...   \n",
       "146398      4                correa tardar llegar a merecer pena   \n",
       "119731      3   probar quitar punto negro probé farmacia y noche   \n",
       "31203       1  quedar satisfecho modelo 2019 y especifique fu...   \n",
       "...       ...                                                ...   \n",
       "27363       1  poner él evitar presencia mota y fácil instala...   \n",
       "190047      5  perfecta niño y adolescente ocupar espacio y c...   \n",
       "89201       3                                 irritar piel crema   \n",
       "37053       1  compro y venir rueda eje querer devolver él pe...   \n",
       "108388      3                                salir y hoja grueso   \n",
       "\n",
       "                               review_title language product_category  \n",
       "74908                           venir sucio       es             home  \n",
       "190142                               regalo       es          jewelry  \n",
       "146398                                  NaN       es           sports  \n",
       "119731                                  NaN       es           beauty  \n",
       "31203            Funda y movil incompatible       es             home  \n",
       "...                                     ...      ...              ...  \n",
       "27363                          recomendable       es         wireless  \n",
       "190047                             Perfecta       es        furniture  \n",
       "89201                      a piel funcionar       es           beauty  \n",
       "37053   esperar respuesta Amazon comentario       es  lawn_and_garden  \n",
       "108388                      Funciona basico       es             home  \n",
       "\n",
       "[1000 rows x 9 columns]"
      ]
     },
     "execution_count": 31,
     "metadata": {},
     "output_type": "execute_result"
    }
   ],
   "source": [
    "dataset_train_dos = dataset_train.sample( n= 1000, weights=np.ones(dataset_train.shape[0]), random_state = 42)\n",
    "dataset_train_dos"
   ]
  },
  {
   "cell_type": "code",
   "execution_count": 32,
   "metadata": {},
   "outputs": [
    {
     "data": {
      "text/plain": [
       "1    40000\n",
       "2    40000\n",
       "3    40000\n",
       "4    40000\n",
       "5    40000\n",
       "Name: stars, dtype: int64"
      ]
     },
     "execution_count": 32,
     "metadata": {},
     "output_type": "execute_result"
    }
   ],
   "source": [
    "dataset_train.stars.value_counts()"
   ]
  },
  {
   "cell_type": "code",
   "execution_count": 33,
   "metadata": {},
   "outputs": [
    {
     "data": {
      "text/plain": [
       "1    225\n",
       "5    199\n",
       "2    196\n",
       "3    193\n",
       "4    187\n",
       "Name: stars, dtype: int64"
      ]
     },
     "execution_count": 33,
     "metadata": {},
     "output_type": "execute_result"
    }
   ],
   "source": [
    "dataset_train_dos.stars.value_counts()"
   ]
  },
  {
   "cell_type": "markdown",
   "metadata": {},
   "source": [
    "**Benchmark**"
   ]
  },
  {
   "cell_type": "markdown",
   "metadata": {},
   "source": [
    "**Vectorización TF-IDF**"
   ]
  },
  {
   "cell_type": "markdown",
   "metadata": {},
   "source": [
    "Tomamos X del DS train y del DS dev y comparamos su desempeño sobre **Review_body**"
   ]
  },
  {
   "cell_type": "code",
   "execution_count": 34,
   "metadata": {},
   "outputs": [],
   "source": [
    "tfidf_body = TfidfVectorizer (analyzer = 'word', max_features = 1000)\n",
    "X_ds_train_body = tfidf_body.fit_transform(dataset_train_dos['review_body'].values.astype('U')) \n",
    "y_ds_train_body = dataset_train_dos ['stars']"
   ]
  },
  {
   "cell_type": "code",
   "execution_count": 35,
   "metadata": {},
   "outputs": [],
   "source": [
    "X_ds_dev_body = tfidf_body.transform(dataset_dev['review_body'].values.astype('U')) \n",
    "y_ds_dev_body = dataset_dev['stars']"
   ]
  },
  {
   "cell_type": "raw",
   "metadata": {},
   "source": [
    "X_ds_dev"
   ]
  },
  {
   "cell_type": "code",
   "execution_count": 36,
   "metadata": {},
   "outputs": [
    {
     "data": {
      "text/plain": [
       "74908     2\n",
       "190142    5\n",
       "146398    4\n",
       "119731    3\n",
       "31203     1\n",
       "         ..\n",
       "27363     1\n",
       "190047    5\n",
       "89201     3\n",
       "37053     1\n",
       "108388    3\n",
       "Name: stars, Length: 1000, dtype: int64"
      ]
     },
     "execution_count": 36,
     "metadata": {},
     "output_type": "execute_result"
    }
   ],
   "source": [
    "y_ds_train_body"
   ]
  },
  {
   "cell_type": "markdown",
   "metadata": {},
   "source": [
    "**OVO - One vs One Classifier**"
   ]
  },
  {
   "cell_type": "code",
   "execution_count": 37,
   "metadata": {},
   "outputs": [],
   "source": [
    "modelo_train= OneVsOneClassifier(LinearSVC(random_state = 42)).fit(X_ds_train_body,y_ds_train_body)\n",
    "y_dev_pred= modelo_train.predict(X_ds_dev_body)"
   ]
  },
  {
   "cell_type": "code",
   "execution_count": 38,
   "metadata": {},
   "outputs": [
    {
     "data": {
      "text/plain": [
       "OneVsOneClassifier(estimator=LinearSVC(random_state=42))"
      ]
     },
     "execution_count": 38,
     "metadata": {},
     "output_type": "execute_result"
    }
   ],
   "source": [
    "modelo_train"
   ]
  },
  {
   "cell_type": "code",
   "execution_count": 39,
   "metadata": {},
   "outputs": [
    {
     "data": {
      "text/plain": [
       "array([2, 1, 4, ..., 4, 5, 4], dtype=int64)"
      ]
     },
     "execution_count": 39,
     "metadata": {},
     "output_type": "execute_result"
    }
   ],
   "source": [
    "y_dev_pred"
   ]
  },
  {
   "cell_type": "code",
   "execution_count": 40,
   "metadata": {},
   "outputs": [
    {
     "name": "stdout",
     "output_type": "stream",
     "text": [
      "              precision    recall  f1-score   support\n",
      "\n",
      "           1       0.42      0.52      0.47      1000\n",
      "           2       0.26      0.27      0.27      1000\n",
      "           3       0.27      0.27      0.27      1000\n",
      "           4       0.29      0.26      0.27      1000\n",
      "           5       0.43      0.37      0.40      1000\n",
      "\n",
      "    accuracy                           0.34      5000\n",
      "   macro avg       0.34      0.34      0.34      5000\n",
      "weighted avg       0.34      0.34      0.34      5000\n",
      "\n"
     ]
    }
   ],
   "source": [
    "print(classification_report(y_ds_dev_body, y_dev_pred))"
   ]
  },
  {
   "cell_type": "markdown",
   "metadata": {},
   "source": [
    "Vectorizamos **Review_title**"
   ]
  },
  {
   "cell_type": "code",
   "execution_count": 41,
   "metadata": {},
   "outputs": [],
   "source": [
    "tfidf_title = TfidfVectorizer (analyzer = 'word', max_features = 1000)\n",
    "X_ds_train_title = tfidf_title.fit_transform(dataset_train_dos['review_title'].values.astype('U')) \n",
    "y_ds_train_body = dataset_train_dos ['stars']"
   ]
  },
  {
   "cell_type": "code",
   "execution_count": 42,
   "metadata": {},
   "outputs": [],
   "source": [
    "X_ds_dev_title = tfidf_title.transform(dataset_dev['review_title'].values.astype('U')) \n",
    "y_ds_dev_body = dataset_dev['stars']"
   ]
  },
  {
   "cell_type": "markdown",
   "metadata": {},
   "source": [
    "**Concatenamos review body y review title**"
   ]
  },
  {
   "cell_type": "code",
   "execution_count": 43,
   "metadata": {},
   "outputs": [],
   "source": [
    "X_train_bt = sparse.hstack((X_ds_train_body, X_ds_train_title))\n",
    "X_dev_bt =sparse.hstack((X_ds_dev_body, X_ds_dev_title))"
   ]
  },
  {
   "cell_type": "markdown",
   "metadata": {},
   "source": [
    "**Random Forest Classifier**"
   ]
  },
  {
   "cell_type": "code",
   "execution_count": 44,
   "metadata": {},
   "outputs": [],
   "source": [
    "modelo_train_rf= OneVsOneClassifier(RandomForestClassifier(random_state = 42)).fit(X_train_bt, y_ds_train_body)\n",
    "y_dev_pred_rf= modelo_train_rf.predict(X_dev_bt)"
   ]
  },
  {
   "cell_type": "code",
   "execution_count": 45,
   "metadata": {},
   "outputs": [
    {
     "name": "stdout",
     "output_type": "stream",
     "text": [
      "              precision    recall  f1-score   support\n",
      "\n",
      "           1       0.47      0.60      0.52      1000\n",
      "           2       0.28      0.19      0.23      1000\n",
      "           3       0.27      0.43      0.33      1000\n",
      "           4       0.35      0.19      0.25      1000\n",
      "           5       0.48      0.41      0.44      1000\n",
      "\n",
      "    accuracy                           0.37      5000\n",
      "   macro avg       0.37      0.37      0.35      5000\n",
      "weighted avg       0.37      0.37      0.35      5000\n",
      "\n"
     ]
    }
   ],
   "source": [
    "print(classification_report(y_ds_dev_body, y_dev_pred_rf))"
   ]
  },
  {
   "cell_type": "code",
   "execution_count": 46,
   "metadata": {},
   "outputs": [],
   "source": [
    "modelo_train_scv= OneVsOneClassifier(LinearSVC(random_state = 42)).fit(X_train_bt,y_ds_train_body)\n",
    "y_dev_pred_scv= modelo_train_scv.predict(X_dev_bt)"
   ]
  },
  {
   "cell_type": "code",
   "execution_count": 47,
   "metadata": {},
   "outputs": [
    {
     "name": "stdout",
     "output_type": "stream",
     "text": [
      "              precision    recall  f1-score   support\n",
      "\n",
      "           1       0.46      0.55      0.50      1000\n",
      "           2       0.30      0.29      0.30      1000\n",
      "           3       0.29      0.30      0.29      1000\n",
      "           4       0.31      0.28      0.29      1000\n",
      "           5       0.48      0.43      0.45      1000\n",
      "\n",
      "    accuracy                           0.37      5000\n",
      "   macro avg       0.37      0.37      0.37      5000\n",
      "weighted avg       0.37      0.37      0.37      5000\n",
      "\n"
     ]
    }
   ],
   "source": [
    "print(classification_report(y_ds_dev_body, y_dev_pred_scv))"
   ]
  },
  {
   "cell_type": "markdown",
   "metadata": {},
   "source": [
    "**Hiperparametros con Random Forest**"
   ]
  },
  {
   "cell_type": "code",
   "execution_count": 48,
   "metadata": {},
   "outputs": [
    {
     "name": "stdout",
     "output_type": "stream",
     "text": [
      "(0.3654,) (150,) 350\n"
     ]
    }
   ],
   "source": [
    "n_estimators_list = [50,100,150]\n",
    "max_depth_list = [150,300,350]\n",
    "\n",
    "best_n_estimators = None \n",
    "best_max_depth = None\n",
    "\n",
    "best_accuracy = 0\n",
    "combinations = [(n_estimators, max_depth)for n_estimators in n_estimators_list for max_depth in max_depth_list]\n",
    "\n",
    "for n_estimators, max_depth in combinations:\n",
    "    modelo_train_mx = OneVsOneClassifier(RandomForestClassifier(random_state = 42,n_estimators = n_estimators, max_depth = max_depth))\n",
    "    modelo_train_mx.fit(X_ds_train_title, y_ds_train_body)\n",
    "    y_dev_pref_mx = modelo_train_mx.predict (X_ds_dev_title)\n",
    "\n",
    "    current_accuracy = accuracy_score (y_ds_dev_body, y_dev_pred_rf)\n",
    "    if current_accuracy >= best_accuracy:\n",
    "        best_accuracy = current_accuracy,\n",
    "        best_n_estimators =n_estimators,\n",
    "        best_max_depth = max_depth\n",
    "        \n",
    "print (best_accuracy, best_n_estimators, best_max_depth)\n",
    "\n"
   ]
  },
  {
   "cell_type": "code",
   "execution_count": 49,
   "metadata": {},
   "outputs": [
    {
     "name": "stdout",
     "output_type": "stream",
     "text": [
      "(0.3654,) (150,) 350\n"
     ]
    }
   ],
   "source": [
    "print (best_accuracy, best_n_estimators, best_max_depth)"
   ]
  },
  {
   "cell_type": "markdown",
   "metadata": {},
   "source": [
    "**Hiperparametros con SVC**"
   ]
  },
  {
   "cell_type": "code",
   "execution_count": 50,
   "metadata": {},
   "outputs": [
    {
     "name": "stdout",
     "output_type": "stream",
     "text": [
      "(0.323,) 2 l2\n"
     ]
    }
   ],
   "source": [
    "max_c = [0.5,1,2,3,3.5]\n",
    "max_penalty = ['l2']\n",
    "\n",
    "best_c = None \n",
    "best_penalty = None\n",
    "\n",
    "mejor_accuracy = 0\n",
    "combinations = [(C, penalty)for C in max_c for penalty in max_penalty]\n",
    "\n",
    "for C, penalty in combinations:\n",
    "    modelo_train_svc = OneVsOneClassifier(LinearSVC(C = C,  penalty = penalty))\n",
    "    modelo_train_svc.fit(X_ds_train_title, y_ds_train_body)\n",
    "    y_dev_pred_svc = modelo_train_svc.predict (X_ds_dev_title)\n",
    "\n",
    "    current_accuracy_svc = accuracy_score (y_ds_dev_body, y_dev_pred_svc)\n",
    "    if current_accuracy_svc >= mejor_accuracy:\n",
    "        mejor_accuracy = current_accuracy_svc,\n",
    "        best_c = C\n",
    "        best_penalty = penalty\n",
    "        \n",
    "print (mejor_accuracy, best_c, best_penalty)"
   ]
  },
  {
   "cell_type": "markdown",
   "metadata": {},
   "source": [
    "**Importamos los DS de TRAIN y TEST y los preparamos para evaluar** "
   ]
  },
  {
   "cell_type": "code",
   "execution_count": 51,
   "metadata": {},
   "outputs": [
    {
     "data": {
      "text/html": [
       "<div>\n",
       "<style scoped>\n",
       "    .dataframe tbody tr th:only-of-type {\n",
       "        vertical-align: middle;\n",
       "    }\n",
       "\n",
       "    .dataframe tbody tr th {\n",
       "        vertical-align: top;\n",
       "    }\n",
       "\n",
       "    .dataframe thead th {\n",
       "        text-align: right;\n",
       "    }\n",
       "</style>\n",
       "<table border=\"1\" class=\"dataframe\">\n",
       "  <thead>\n",
       "    <tr style=\"text-align: right;\">\n",
       "      <th></th>\n",
       "      <th>Unnamed: 0</th>\n",
       "      <th>review_id</th>\n",
       "      <th>product_id</th>\n",
       "      <th>reviewer_id</th>\n",
       "      <th>stars</th>\n",
       "      <th>review_body</th>\n",
       "      <th>review_title</th>\n",
       "      <th>language</th>\n",
       "      <th>product_category</th>\n",
       "    </tr>\n",
       "  </thead>\n",
       "  <tbody>\n",
       "    <tr>\n",
       "      <th>0</th>\n",
       "      <td>0</td>\n",
       "      <td>es_0038754</td>\n",
       "      <td>product_es_0113523</td>\n",
       "      <td>reviewer_es_0580071</td>\n",
       "      <td>1</td>\n",
       "      <td>llegar articulo mandar correo normal seguimien...</td>\n",
       "      <td>llegar</td>\n",
       "      <td>es</td>\n",
       "      <td>wireless</td>\n",
       "    </tr>\n",
       "    <tr>\n",
       "      <th>1</th>\n",
       "      <td>1</td>\n",
       "      <td>es_0748979</td>\n",
       "      <td>product_es_0017036</td>\n",
       "      <td>reviewer_es_0819733</td>\n",
       "      <td>1</td>\n",
       "      <td>mensajería horrible compro</td>\n",
       "      <td>amazon seguir cumplir entrega</td>\n",
       "      <td>es</td>\n",
       "      <td>home</td>\n",
       "    </tr>\n",
       "    <tr>\n",
       "      <th>2</th>\n",
       "      <td>2</td>\n",
       "      <td>es_0411746</td>\n",
       "      <td>product_es_0138642</td>\n",
       "      <td>reviewer_es_0508607</td>\n",
       "      <td>1</td>\n",
       "      <td>decepcionado vendedor pedido llegar a y cumpli...</td>\n",
       "      <td>ESTAFA envío</td>\n",
       "      <td>es</td>\n",
       "      <td>toy</td>\n",
       "    </tr>\n",
       "    <tr>\n",
       "      <th>3</th>\n",
       "      <td>3</td>\n",
       "      <td>es_0786686</td>\n",
       "      <td>product_es_0170887</td>\n",
       "      <td>reviewer_es_0491157</td>\n",
       "      <td>1</td>\n",
       "      <td>valoración producto amazon ofreceis producto a...</td>\n",
       "      <td>Estafa Amazon</td>\n",
       "      <td>es</td>\n",
       "      <td>home</td>\n",
       "    </tr>\n",
       "    <tr>\n",
       "      <th>4</th>\n",
       "      <td>4</td>\n",
       "      <td>es_0429700</td>\n",
       "      <td>product_es_0710642</td>\n",
       "      <td>reviewer_es_0008745</td>\n",
       "      <td>1</td>\n",
       "      <td>interés libro y probar versión kindle abrir po...</td>\n",
       "      <td>conseguí pasar portada Kindle</td>\n",
       "      <td>es</td>\n",
       "      <td>digital_ebook_purchase</td>\n",
       "    </tr>\n",
       "  </tbody>\n",
       "</table>\n",
       "</div>"
      ],
      "text/plain": [
       "   Unnamed: 0   review_id          product_id          reviewer_id  stars  \\\n",
       "0           0  es_0038754  product_es_0113523  reviewer_es_0580071      1   \n",
       "1           1  es_0748979  product_es_0017036  reviewer_es_0819733      1   \n",
       "2           2  es_0411746  product_es_0138642  reviewer_es_0508607      1   \n",
       "3           3  es_0786686  product_es_0170887  reviewer_es_0491157      1   \n",
       "4           4  es_0429700  product_es_0710642  reviewer_es_0008745      1   \n",
       "\n",
       "                                         review_body  \\\n",
       "0  llegar articulo mandar correo normal seguimien...   \n",
       "1                         mensajería horrible compro   \n",
       "2  decepcionado vendedor pedido llegar a y cumpli...   \n",
       "3  valoración producto amazon ofreceis producto a...   \n",
       "4  interés libro y probar versión kindle abrir po...   \n",
       "\n",
       "                    review_title language        product_category  \n",
       "0                         llegar       es                wireless  \n",
       "1  amazon seguir cumplir entrega       es                    home  \n",
       "2                   ESTAFA envío       es                     toy  \n",
       "3                  Estafa Amazon       es                    home  \n",
       "4  conseguí pasar portada Kindle       es  digital_ebook_purchase  "
      ]
     },
     "execution_count": 51,
     "metadata": {},
     "output_type": "execute_result"
    }
   ],
   "source": [
    "ds_test = pd.read_csv('dataset_test.csv') \n",
    "ds_test.head()"
   ]
  },
  {
   "cell_type": "code",
   "execution_count": 52,
   "metadata": {},
   "outputs": [
    {
     "data": {
      "text/html": [
       "<div>\n",
       "<style scoped>\n",
       "    .dataframe tbody tr th:only-of-type {\n",
       "        vertical-align: middle;\n",
       "    }\n",
       "\n",
       "    .dataframe tbody tr th {\n",
       "        vertical-align: top;\n",
       "    }\n",
       "\n",
       "    .dataframe thead th {\n",
       "        text-align: right;\n",
       "    }\n",
       "</style>\n",
       "<table border=\"1\" class=\"dataframe\">\n",
       "  <thead>\n",
       "    <tr style=\"text-align: right;\">\n",
       "      <th></th>\n",
       "      <th>Unnamed: 0</th>\n",
       "      <th>review_id</th>\n",
       "      <th>product_id</th>\n",
       "      <th>reviewer_id</th>\n",
       "      <th>stars</th>\n",
       "      <th>review_body</th>\n",
       "      <th>review_title</th>\n",
       "      <th>language</th>\n",
       "      <th>product_category</th>\n",
       "    </tr>\n",
       "  </thead>\n",
       "  <tbody>\n",
       "    <tr>\n",
       "      <th>0</th>\n",
       "      <td>0</td>\n",
       "      <td>es_0491108</td>\n",
       "      <td>product_es_0296024</td>\n",
       "      <td>reviewer_es_0999081</td>\n",
       "      <td>1</td>\n",
       "      <td>kar pantalla 8 mes y recibir respuesta fabricante</td>\n",
       "      <td>television Nevir</td>\n",
       "      <td>es</td>\n",
       "      <td>electronics</td>\n",
       "    </tr>\n",
       "    <tr>\n",
       "      <th>1</th>\n",
       "      <td>1</td>\n",
       "      <td>es_0869872</td>\n",
       "      <td>product_es_0922286</td>\n",
       "      <td>reviewer_es_0216771</td>\n",
       "      <td>1</td>\n",
       "      <td>horrible comprar inglés informático hora capaz...</td>\n",
       "      <td>Dinero tirado a basura compro</td>\n",
       "      <td>es</td>\n",
       "      <td>electronics</td>\n",
       "    </tr>\n",
       "    <tr>\n",
       "      <th>2</th>\n",
       "      <td>2</td>\n",
       "      <td>es_0811721</td>\n",
       "      <td>product_es_0474543</td>\n",
       "      <td>reviewer_es_0929213</td>\n",
       "      <td>1</td>\n",
       "      <td>obligar a comprar unidad y llegar y forma recl...</td>\n",
       "      <td>llegar unidad obligar a comprar</td>\n",
       "      <td>es</td>\n",
       "      <td>drugstore</td>\n",
       "    </tr>\n",
       "    <tr>\n",
       "      <th>3</th>\n",
       "      <td>3</td>\n",
       "      <td>es_0359921</td>\n",
       "      <td>product_es_0656090</td>\n",
       "      <td>reviewer_es_0224702</td>\n",
       "      <td>1</td>\n",
       "      <td>entrar descalificar vendedor mes espera .... s...</td>\n",
       "      <td>PRODUCTO RECIBIDO</td>\n",
       "      <td>es</td>\n",
       "      <td>wireless</td>\n",
       "    </tr>\n",
       "    <tr>\n",
       "      <th>4</th>\n",
       "      <td>4</td>\n",
       "      <td>es_0068940</td>\n",
       "      <td>product_es_0662544</td>\n",
       "      <td>reviewer_es_0224827</td>\n",
       "      <td>1</td>\n",
       "      <td>llegar y co talla equivocado</td>\n",
       "      <td>Devuelto</td>\n",
       "      <td>es</td>\n",
       "      <td>shoes</td>\n",
       "    </tr>\n",
       "  </tbody>\n",
       "</table>\n",
       "</div>"
      ],
      "text/plain": [
       "   Unnamed: 0   review_id          product_id          reviewer_id  stars  \\\n",
       "0           0  es_0491108  product_es_0296024  reviewer_es_0999081      1   \n",
       "1           1  es_0869872  product_es_0922286  reviewer_es_0216771      1   \n",
       "2           2  es_0811721  product_es_0474543  reviewer_es_0929213      1   \n",
       "3           3  es_0359921  product_es_0656090  reviewer_es_0224702      1   \n",
       "4           4  es_0068940  product_es_0662544  reviewer_es_0224827      1   \n",
       "\n",
       "                                         review_body  \\\n",
       "0  kar pantalla 8 mes y recibir respuesta fabricante   \n",
       "1  horrible comprar inglés informático hora capaz...   \n",
       "2  obligar a comprar unidad y llegar y forma recl...   \n",
       "3  entrar descalificar vendedor mes espera .... s...   \n",
       "4                       llegar y co talla equivocado   \n",
       "\n",
       "                      review_title language product_category  \n",
       "0                 television Nevir       es      electronics  \n",
       "1    Dinero tirado a basura compro       es      electronics  \n",
       "2  llegar unidad obligar a comprar       es        drugstore  \n",
       "3                PRODUCTO RECIBIDO       es         wireless  \n",
       "4                         Devuelto       es            shoes  "
      ]
     },
     "execution_count": 52,
     "metadata": {},
     "output_type": "execute_result"
    }
   ],
   "source": [
    "ds_train = pd.read_csv('dataset_train.csv') \n",
    "ds_train.head()"
   ]
  },
  {
   "cell_type": "markdown",
   "metadata": {},
   "source": [
    "**Aplicamos TF-IDF sobre Review body y review title de cada DS**"
   ]
  },
  {
   "cell_type": "code",
   "execution_count": 53,
   "metadata": {},
   "outputs": [],
   "source": [
    "tfidf_titulo = TfidfVectorizer (analyzer = 'word', max_features = 1000)\n",
    "X_test_titulo = tfidf_titulo.fit_transform(ds_test['review_title'].values.astype('U')) \n",
    "y_test = ds_test ['stars']"
   ]
  },
  {
   "cell_type": "code",
   "execution_count": 54,
   "metadata": {},
   "outputs": [],
   "source": [
    "X_train_titulo = tfidf_titulo.transform(ds_train['review_title'].values.astype('U')) \n",
    "y_train = ds_train['stars']"
   ]
  },
  {
   "cell_type": "code",
   "execution_count": 55,
   "metadata": {},
   "outputs": [],
   "source": [
    "X_test_body = tfidf_titulo.fit_transform(ds_test['review_body'].values.astype('U')) \n",
    "y_test = ds_test ['stars']"
   ]
  },
  {
   "cell_type": "code",
   "execution_count": 56,
   "metadata": {},
   "outputs": [],
   "source": [
    "X_train_body = tfidf_titulo.transform(ds_train['review_body'].values.astype('U')) \n",
    "y_train = ds_train['stars']"
   ]
  },
  {
   "cell_type": "markdown",
   "metadata": {},
   "source": [
    "Concatenamos body y title"
   ]
  },
  {
   "cell_type": "code",
   "execution_count": 57,
   "metadata": {},
   "outputs": [],
   "source": [
    "X_train_concat = sparse.hstack((X_train_titulo, X_train_body))\n",
    "X_test_concat =sparse.hstack((X_test_titulo, X_test_body))"
   ]
  },
  {
   "cell_type": "code",
   "execution_count": 58,
   "metadata": {},
   "outputs": [
    {
     "data": {
      "text/plain": [
       "<200000x2000 sparse matrix of type '<class 'numpy.float64'>'\n",
       "\twith 1645078 stored elements in COOrdinate format>"
      ]
     },
     "execution_count": 58,
     "metadata": {},
     "output_type": "execute_result"
    }
   ],
   "source": [
    "X_train_concat"
   ]
  },
  {
   "cell_type": "code",
   "execution_count": 59,
   "metadata": {},
   "outputs": [
    {
     "data": {
      "text/plain": [
       "<5000x2000 sparse matrix of type '<class 'numpy.float64'>'\n",
       "\twith 43142 stored elements in COOrdinate format>"
      ]
     },
     "execution_count": 59,
     "metadata": {},
     "output_type": "execute_result"
    }
   ],
   "source": [
    "X_test_concat"
   ]
  },
  {
   "cell_type": "code",
   "execution_count": 60,
   "metadata": {},
   "outputs": [
    {
     "name": "stdout",
     "output_type": "stream",
     "text": [
      "0.4838\n"
     ]
    }
   ],
   "source": [
    "modelo_final = OneVsOneClassifier(RandomForestClassifier(random_state = 42,n_estimators = 150 , max_depth = 350 ))\n",
    "modelo_final.fit(X_train_concat, y_train)\n",
    "predi = modelo_final.predict (X_test_concat)\n",
    "print(accuracy_score (y_test, predi))"
   ]
  },
  {
   "cell_type": "markdown",
   "metadata": {},
   "source": [
    "Al comparar los modelos podemos observar que el que mejor predice es el OVO con optimización de hiperparametros aplicada"
   ]
  },
  {
   "cell_type": "markdown",
   "metadata": {},
   "source": [
    "A modo de aclaracion; los dataset TRAIN Y TEST se presentan ya transformados en formato CSV para que el trabajo sea más legible en relación a las técnicas y procesos aplicados. Se aplciaron todas las modificaciones (tokenizacion, lematizacion, concatenación tanto para review_body y review_title) y se guardo en archivo CSV por una cuestión de legibilidad del código.\n",
    "\n",
    "Hago la demostracion de la aplicacion de los codigos aprendidos en el modelo DEV. \n",
    "En el caso de que sea necesario, puedo agregar dichas transformaciones al proyecto. "
   ]
  },
  {
   "cell_type": "markdown",
   "metadata": {},
   "source": [
    "El proyecto presenta un problema de clasificacion multiclase, en el que me encuentro frente a la premisa de predecir qué estrella le asigna cada usuario a determinada compra en base a sus comentarios. Encontramos 3 dataset con diversa cantidad de datos. Analizo los mismos y los ordeno para poder trabajar con ellos de la manera que considero mas adecuada.\n",
    "\n",
    "Decido aplicar OVO (one vs one) porque estoy trabajando un problema de multiclases. Luego aplico Random forest y Linear SVC al modelo para poder elegir los hiperparametros mas adecuados para el mismo.\n",
    "\n",
    "Al realizar el analisis de procesos avanzados como Random Forest y Linear SVC decido evaluar todas las metricas de clasificacion para determinar cual es la que mejor resultado brinda. \n",
    "\n",
    "Realizo el analisis de hiperparametros y determino cuales son los mejores para correr el modelo final optimizado. \n",
    "\n",
    "A futuro me gustaria ver la incidencia que tiene en el modelo la categoria de productos de los datos. Me gustaria analizar si hay mayor o menor predisposición al alto o bajo puntaje dependiendo de la misma. \n",
    "\n",
    "\n"
   ]
  },
  {
   "cell_type": "code",
   "execution_count": null,
   "metadata": {},
   "outputs": [],
   "source": []
  }
 ],
 "metadata": {
  "colab": {
   "collapsed_sections": [],
   "name": "DS_Proyecto_03_NLP.ipynb",
   "provenance": []
  },
  "kernelspec": {
   "display_name": "Python 3",
   "language": "python",
   "name": "python3"
  },
  "language_info": {
   "codemirror_mode": {
    "name": "ipython",
    "version": 3
   },
   "file_extension": ".py",
   "mimetype": "text/x-python",
   "name": "python",
   "nbconvert_exporter": "python",
   "pygments_lexer": "ipython3",
   "version": "3.8.5"
  }
 },
 "nbformat": 4,
 "nbformat_minor": 4
}
